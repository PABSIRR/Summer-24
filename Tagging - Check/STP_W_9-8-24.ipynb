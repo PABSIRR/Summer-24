{
 "cells": [
  {
   "cell_type": "markdown",
   "id": "02d3fd87-62b1-4c6c-a986-8e302a9b9189",
   "metadata": {},
   "source": [
    "#### What Require Inputs in this Notebook\n",
    "1. [Fill in File Input](#Load-in-Data)\n",
    "2. [Right or Left Hand](#Right-or-Left-Hand)\n",
    "3. [Output ShotCSV](#Output-ShotCSV)\n",
    "4. [Change to atNet (by Player) from tagger later](#At-Net)\n",
    "5. [EDA and get Stats Here](#EDA)\n",
    "6. [Output PointCSV for Visuals](#PRINT-POINTCSV-VISUALS)\n",
    "7. [Output PointCSV for Upload](#Print-POINTCSV-UPLOAD)"
   ]
  },
  {
   "cell_type": "markdown",
   "id": "a070c44e-ea6f-4b06-b098-5246cffd01a1",
   "metadata": {},
   "source": [
    "# Table of Contents\n",
    "1. [Load in Data](#Load-in-Data)\n",
    "- Error Checking\n",
    "- Add Columns\n",
    "- [Output ShotCSV](#Output-ShotCSV)\n",
    "2. [Create Point DF](#Create-Point-DF)\n",
    "- Add Columns\n",
    "- [Output PointCSV for Visuals](#PRINT-POINTCSV-VISUALS)\n",
    "- [Output PointCSV for Upload](#Print-POINTCSV-UPLOAD)    \n",
    "        - cut out points with no timestamp position    \n",
    "        - atNetPlayer1 has values of the player name for display purposes instead of boolean values\n",
    "\n",
    "# [Click for Summary Stats and EDA HERE](#EDA)"
   ]
  },
  {
   "cell_type": "markdown",
   "id": "e3ee5fc0",
   "metadata": {},
   "source": [
    "# TODO\n",
    "\n",
    "###  Cameryn \n",
    "[Depth Count for each Point](#Add-Columns:-Depths-Count-(Short,-Deep))\n",
    "\n",
    "[EDA for Depth of GroundStrokes](#EDA)\n",
    "\n",
    "### Angelo \n",
    "[Change atNetPlayer to be aggregated from Coordinate Data](#Add-Column:-atNetPlayer1,-atNetPlayer2)\n",
    "- atNetPlayer1 and atNetPlayer2 change to be aggreated from x and y coordinates\n",
    "- Look into if isVolley column can be determined if the shotLocation and shotContact are close too each other\n",
    "\n",
    "### (Insert Name)\n",
    "[Change isApproach to be aggregatead from Coordinate Data](#Add-Column:-isAprroach)\n",
    "- see if the next consecutive shotInRally coordinates are further up into the court\n",
    "\n",
    "### Hyun\n",
    "[Make a Condensed Report](#CONDENSED-REPORT-NEEDS-UPDATE)\n",
    "\n",
    "\n",
    "### Add Error Checks\n",
    "#### Add Error check to output rows where firstServeIn == NA and secondServeIn == NA AND is not a Double Falue"
   ]
  },
  {
   "cell_type": "markdown",
   "id": "0e7c2f35",
   "metadata": {},
   "source": [
    "# Reorder csv"
   ]
  },
  {
   "cell_type": "code",
   "execution_count": 1,
   "id": "d5c13104-5252-4b42-8d10-80ce021f8035",
   "metadata": {},
   "outputs": [],
   "source": [
    "import pandas as pd\n",
    "import numpy as np"
   ]
  },
  {
   "cell_type": "code",
   "execution_count": 2,
   "id": "2bdb70cd-4596-4691-855c-0477381445dd",
   "metadata": {},
   "outputs": [],
   "source": [
    "your_file_name = '(Cleaned)Rudy Quan vs Yuta Shimizu Little Rock.csv'\n",
    "shot_data = pd.read_csv(your_file_name)"
   ]
  },
  {
   "cell_type": "code",
   "execution_count": 3,
   "id": "9864aae5-8bbb-4d1c-a5f0-78fac5c6b5f2",
   "metadata": {},
   "outputs": [
    {
     "data": {
      "text/plain": [
       "Index(['pointScore', 'gameScore', 'setScore', 'isPointStart', 'pointStartTime',\n",
       "       'isPointEnd', 'pointEndTime', 'pointNumber', 'isBreakPoint',\n",
       "       'shotInRally', 'side', 'serverName', 'serverFarNear', 'firstServeIn',\n",
       "       'firstServeZone', 'firstServeXCoord', 'firstServeYCoord',\n",
       "       'secondServeIn', 'secondServeZone', 'secondServeXCoord',\n",
       "       'secondServeYCoord', 'isAce', 'shotContactX', 'shotContactY',\n",
       "       'shotDirection', 'shotFhBh', 'isSlice', 'isVolley', 'isOverhead',\n",
       "       'isApproach', 'isDropshot', 'isExcitingPoint', 'atNetPlayer1',\n",
       "       'atNetPlayer2', 'isLob', 'shotLocationX', 'shotLocationY', 'isWinner',\n",
       "       'isErrorWideR', 'isErrorWideL', 'isErrorNet', 'isErrorLong',\n",
       "       'clientTeam', 'Date', 'Division', 'Event', 'lineupPosition',\n",
       "       'matchDetails', 'matchVenue', 'opponentTeam', 'player1Name',\n",
       "       'player2Name', 'player1Hand', 'player2Hand', 'Round', 'Surface',\n",
       "       'Notes'],\n",
       "      dtype='object')"
      ]
     },
     "execution_count": 3,
     "metadata": {},
     "output_type": "execute_result"
    }
   ],
   "source": [
    "# Check existing columns\n",
    "shot_data.columns"
   ]
  },
  {
   "cell_type": "code",
   "execution_count": 4,
   "id": "29b3a9df",
   "metadata": {},
   "outputs": [],
   "source": [
    "desired_order = ['pointScore', 'gameScore', 'setScore', 'isPointStart', 'pointStartTime',\n",
    "       'isPointEnd', 'pointEndTime', 'pointNumber', 'isBreakPoint',\n",
    "       'shotInRally', 'side', 'serverName', 'serverFarNear', 'firstServeIn',\n",
    "       'firstServeZone', 'firstServeXCoord', 'firstServeYCoord',\n",
    "       'secondServeIn', 'secondServeZone', 'secondServeXCoord',\n",
    "       'secondServeYCoord', 'isAce', 'shotContactX', 'shotContactY',\n",
    "       'shotDirection', 'shotFhBh', 'isSlice', 'isVolley', 'isOverhead',\n",
    "       'isApproach', 'isDropshot', 'isExcitingPoint', 'atNetPlayer1',\n",
    "       'atNetPlayer2', 'isLob', 'shotLocationX', 'shotLocationY', 'isWinner',\n",
    "       'isErrorWideR', 'isErrorWideL', 'isErrorNet', 'isErrorLong',\n",
    "       'clientTeam', 'Date', 'Division', 'Event', 'lineupPosition',\n",
    "       'matchDetails', 'matchVenue', 'opponentTeam', 'player1Name',\n",
    "       'player2Name', 'player1Hand', 'player2Hand', 'Round', 'Surface',\n",
    "       'Notes']\n",
    "\n",
    "shot_data = shot_data.reindex(columns=desired_order)"
   ]
  },
  {
   "cell_type": "code",
   "execution_count": 5,
   "id": "25f460ed",
   "metadata": {},
   "outputs": [
    {
     "ename": "AttributeError",
     "evalue": "'numpy.float64' object has no attribute 'replace'",
     "output_type": "error",
     "traceback": [
      "\u001b[1;31m---------------------------------------------------------------------------\u001b[0m",
      "\u001b[1;31mAttributeError\u001b[0m                            Traceback (most recent call last)",
      "Cell \u001b[1;32mIn[5], line 4\u001b[0m\n\u001b[0;32m      1\u001b[0m \u001b[38;5;66;03m# Save point_df to CSV file\u001b[39;00m\n\u001b[0;32m      2\u001b[0m \n\u001b[0;32m      3\u001b[0m \u001b[38;5;66;03m# Assuming point_df is your DataFrame and player1Name and player2Name are the names from the first row\u001b[39;00m\n\u001b[1;32m----> 4\u001b[0m player1NameNoSpace \u001b[38;5;241m=\u001b[39m shot_data\u001b[38;5;241m.\u001b[39miloc[\u001b[38;5;241m0\u001b[39m][\u001b[38;5;124m'\u001b[39m\u001b[38;5;124mplayer1Name\u001b[39m\u001b[38;5;124m'\u001b[39m]\u001b[38;5;241m.\u001b[39mreplace(\u001b[38;5;124m\"\u001b[39m\u001b[38;5;124m \u001b[39m\u001b[38;5;124m\"\u001b[39m, \u001b[38;5;124m\"\u001b[39m\u001b[38;5;124m\"\u001b[39m)\n\u001b[0;32m      5\u001b[0m player2NameNoSpace \u001b[38;5;241m=\u001b[39m shot_data\u001b[38;5;241m.\u001b[39miloc[\u001b[38;5;241m0\u001b[39m][\u001b[38;5;124m'\u001b[39m\u001b[38;5;124mplayer2Name\u001b[39m\u001b[38;5;124m'\u001b[39m]\u001b[38;5;241m.\u001b[39mreplace(\u001b[38;5;124m\"\u001b[39m\u001b[38;5;124m \u001b[39m\u001b[38;5;124m\"\u001b[39m, \u001b[38;5;124m\"\u001b[39m\u001b[38;5;124m\"\u001b[39m)\n\u001b[0;32m      7\u001b[0m \u001b[38;5;66;03m# Save DataFrame to CSV file with modified player names\u001b[39;00m\n",
      "\u001b[1;31mAttributeError\u001b[0m: 'numpy.float64' object has no attribute 'replace'"
     ]
    }
   ],
   "source": [
    "# Save point_df to CSV file\n",
    "\n",
    "# Assuming point_df is your DataFrame and player1Name and player2Name are the names from the first row\n",
    "player1NameNoSpace = shot_data.iloc[0]['player1Name'].replace(\" \", \"\")\n",
    "player2NameNoSpace = shot_data.iloc[0]['player2Name'].replace(\" \", \"\")\n",
    "\n",
    "# Save DataFrame to CSV file with modified player names\n",
    "shot_data.to_csv(f'(Cleaning) {player1NameNoSpace}_{player2NameNoSpace}.csv', index=False)\n"
   ]
  },
  {
   "cell_type": "code",
   "execution_count": null,
   "id": "ca489f6b-1702-472a-9b2b-c0ce93003c73",
   "metadata": {},
   "outputs": [],
   "source": [
    "shot_data[\"player1Name\"]"
   ]
  },
  {
   "cell_type": "markdown",
   "id": "a7732809-2f64-4073-92cd-53c6a89ae448",
   "metadata": {},
   "source": [
    "# Notebook Start"
   ]
  },
  {
   "cell_type": "markdown",
   "id": "f8d8fd7b-43ba-4fd2-83ec-3679c6de6174",
   "metadata": {},
   "source": [
    "### Load in Data"
   ]
  },
  {
   "cell_type": "code",
   "execution_count": 6,
   "id": "a00cc2fa",
   "metadata": {},
   "outputs": [],
   "source": [
    "import pandas as pd\n",
    "import numpy as np"
   ]
  },
  {
   "cell_type": "code",
   "execution_count": 7,
   "id": "a42350e4",
   "metadata": {},
   "outputs": [],
   "source": [
    "# Put your Uncleaned .csv file name here\n",
    "your_file_name ='(Cleaned)Rudy Quan vs Yuta Shimizu Little Rock.csv'\n",
    "shot_data = pd.read_csv(your_file_name)"
   ]
  },
  {
   "cell_type": "code",
   "execution_count": 8,
   "id": "ed854ef3",
   "metadata": {},
   "outputs": [
    {
     "data": {
      "text/plain": [
       "Index(['pointScore', 'gameScore', 'setScore', 'isPointStart', 'pointStartTime',\n",
       "       'isPointEnd', 'pointEndTime', 'pointNumber', 'isBreakPoint',\n",
       "       'shotInRally', 'side', 'serverName', 'serverFarNear', 'firstServeIn',\n",
       "       'firstServeZone', 'firstServeXCoord', 'firstServeYCoord',\n",
       "       'secondServeIn', 'secondServeZone', 'secondServeXCoord',\n",
       "       'secondServeYCoord', 'isAce', 'shotContactX', 'shotContactY',\n",
       "       'shotDirection', 'shotFhBh', 'isSlice', 'isVolley', 'isOverhead',\n",
       "       'isApproach', 'isDropshot', 'isExcitingPoint', 'atNetPlayer1',\n",
       "       'atNetPlayer2', 'isLob', 'shotLocationX', 'shotLocationY', 'isWinner',\n",
       "       'isErrorWideR', 'isErrorWideL', 'isErrorNet', 'isErrorLong',\n",
       "       'clientTeam', 'Date', 'Division', 'Event', 'lineupPosition',\n",
       "       'matchDetails', 'matchVenue', 'opponentTeam', 'player1Name',\n",
       "       'player2Name', 'player1Hand', 'player2Hand', 'Round', 'Surface',\n",
       "       'Notes'],\n",
       "      dtype='object')"
      ]
     },
     "execution_count": 8,
     "metadata": {},
     "output_type": "execute_result"
    }
   ],
   "source": [
    "# Check existing columns\n",
    "shot_data.columns"
   ]
  },
  {
   "cell_type": "code",
   "execution_count": 9,
   "id": "42239db1",
   "metadata": {},
   "outputs": [],
   "source": [
    "desired_order = ['pointScore', 'gameScore', 'setScore', 'isPointStart', 'pointStartTime',\n",
    "       'isPointEnd', 'pointEndTime', 'pointNumber', 'isBreakPoint',\n",
    "       'shotInRally', 'side', 'serverName', 'serverFarNear', 'firstServeIn',\n",
    "       'firstServeZone', 'firstServeXCoord', 'firstServeYCoord',\n",
    "       'secondServeIn', 'secondServeZone', 'secondServeXCoord',\n",
    "       'secondServeYCoord', 'isAce', 'shotContactX', 'shotContactY',\n",
    "       'shotDirection', 'shotFhBh', 'isSlice', 'isVolley', 'isOverhead',\n",
    "       'isApproach', 'isDropshot', 'isExcitingPoint', 'atNetPlayer1',\n",
    "       'atNetPlayer2', 'isLob', 'shotLocationX', 'shotLocationY', 'isWinner',\n",
    "       'isErrorWideR', 'isErrorWideL', 'isErrorNet', 'isErrorLong',\n",
    "       'clientTeam', 'Date', 'Division', 'Event', 'lineupPosition',\n",
    "       'matchDetails', 'matchVenue', 'opponentTeam', 'player1Name',\n",
    "       'player2Name', 'player1Hand', 'player2Hand', 'Round', 'Surface',\n",
    "       'Notes']\n",
    "\n",
    "shot_data = shot_data.reindex(columns=desired_order)"
   ]
  },
  {
   "cell_type": "markdown",
   "id": "28a81aad",
   "metadata": {},
   "source": [
    "### Manually fill in meta data"
   ]
  },
  {
   "cell_type": "code",
   "execution_count": 10,
   "id": "fadca9fd",
   "metadata": {},
   "outputs": [],
   "source": [
    "# Fill in meta data\n",
    "shot_data['clientTeam'] = 'UCLA'\n",
    "shot_data['Date'] = '5/31/24'\n",
    "shot_data['Division'] = ''\n",
    "shot_data['Event'] = 'Little Rock Challenger'\n",
    "shot_data['lineupPosition'] = ''\n",
    "shot_data['matchDetails'] = ''\n",
    "shot_data['matchVenue'] = ''\n",
    "shot_data['opponentTeam'] = ''\n",
    "shot_data['player1Name'] = 'Rudy Quan'\n",
    "shot_data['player2Name'] = 'Yuta Shimizu'\n",
    "shot_data['player1Hand'] = 'Right'\n",
    "shot_data['player2Hand'] = 'Left'\n",
    "shot_data['Round'] = 'Quarter-final'\n",
    "shot_data['Surface'] = 'Hard'\n",
    "shot_data['Notes'] = ''"
   ]
  },
  {
   "cell_type": "markdown",
   "id": "bbd06889",
   "metadata": {},
   "source": [
    "### Assign Player Names"
   ]
  },
  {
   "cell_type": "code",
   "execution_count": 11,
   "id": "c20603a7",
   "metadata": {},
   "outputs": [],
   "source": [
    "player1_new_name = shot_data['player1Name'].iloc[0]\n",
    "player2_new_name = shot_data['player2Name'].iloc[0]\n",
    "\n",
    "# Replace values in the serverName column\n",
    "shot_data['serverName'] = shot_data['serverName'].replace({'Player1': player1_new_name, 'Player2': player2_new_name})"
   ]
  },
  {
   "cell_type": "code",
   "execution_count": 12,
   "id": "f7182635",
   "metadata": {},
   "outputs": [
    {
     "data": {
      "text/plain": [
       "array(['Rudy Quan', 'Yuta Shimizu'], dtype=object)"
      ]
     },
     "execution_count": 12,
     "metadata": {},
     "output_type": "execute_result"
    }
   ],
   "source": [
    "shot_data['serverName'].unique()"
   ]
  },
  {
   "cell_type": "markdown",
   "id": "09cac2b0-cff4-4f94-a880-375f3fe3cb29",
   "metadata": {
    "id": "09cac2b0-cff4-4f94-a880-375f3fe3cb29"
   },
   "source": [
    "## Error Check 1:\n",
    "#### Check that Player1Name and Player2Name have values"
   ]
  },
  {
   "cell_type": "code",
   "execution_count": 13,
   "id": "0396fcbc-16a4-47fc-a751-ff80e2752516",
   "metadata": {},
   "outputs": [
    {
     "name": "stdout",
     "output_type": "stream",
     "text": [
      "Check Passed: player1Name is not blank. Current value: Rudy Quan\n",
      "Check Passed: player2Name is not blank. Current value: Yuta Shimizu\n"
     ]
    }
   ],
   "source": [
    "# fillInPlayer1Name = \"Choose_Player1Name_Here\"\n",
    "# fillInPlayer2Name = \"Choose_Player2Name_Here\"\n",
    "\n",
    "if shot_data.at[0, 'player1Name'] == None:\n",
    "    print(\"player1Name was blank. Filling with 'fillInplayer1Name'\")\n",
    "    shot_data.at[0, 'player1Name'] = fillInPlayer1Name\n",
    "else:\n",
    "    print(\"Check Passed: player1Name is not blank. Current value:\", shot_data.at[0, 'player1Name'])\n",
    "\n",
    "# Check if player2Name is blank, if so, fill it with 'fillInplayer2Name'\n",
    "if shot_data.at[0, 'player2Name'] == None:\n",
    "    print(\"player2Name was blank. Filling with 'fillInplayer2Name'\")\n",
    "    shot_data.at[0, 'player2Name'] = fillInPlayer2Name\n",
    "else:\n",
    "    print(\"Check Passed: player2Name is not blank. Current value:\", shot_data.at[0, 'player2Name'])\n"
   ]
  },
  {
   "cell_type": "markdown",
   "id": "83cb5916-17e3-4620-b894-2cdfa9bf0747",
   "metadata": {
    "id": "83cb5916-17e3-4620-b894-2cdfa9bf0747"
   },
   "source": [
    "## Error Check 2:\n",
    "#### Check if there are missing 'Deuce' or 'Ad' sides in side column"
   ]
  },
  {
   "cell_type": "code",
   "execution_count": 14,
   "id": "3d7232e3-95e2-4c74-954d-4d526e13d33d",
   "metadata": {},
   "outputs": [
    {
     "name": "stdout",
     "output_type": "stream",
     "text": [
      "Rows with Side that aren't Deuce or Ad: 0\n",
      "Rows not meeting the condition:\n",
      "Empty DataFrame\n",
      "Columns: [pointScore, gameScore, setScore, side, shotInRally]\n",
      "Index: []\n"
     ]
    }
   ],
   "source": [
    "# Filter out rows with 'side' values other than 'Deuce' and 'Ad'\n",
    "filtered_data = shot_data[shot_data['side'].isin(['Deuce', 'Ad'])]\n",
    "\n",
    "# Rows that don't meet the condition\n",
    "rows_not_meeting_condition = shot_data[~shot_data['side'].isin(['Deuce', 'Ad'])]\n",
    "\n",
    "# Count of rows not meeting the condition\n",
    "count_rows_not_meeting_condition = len(rows_not_meeting_condition)\n",
    "\n",
    "print(\"Rows with Side that aren't Deuce or Ad:\", count_rows_not_meeting_condition)\n",
    "\n",
    "# Output rows if you want to see which rows\n",
    "print(\"Rows not meeting the condition:\")\n",
    "print(rows_not_meeting_condition[['pointScore', 'gameScore', 'setScore','side', 'shotInRally']])"
   ]
  },
  {
   "cell_type": "markdown",
   "id": "a5be8eab",
   "metadata": {},
   "source": [
    "## Error Check 3: \n",
    "#### Fills in PointNumber if not there"
   ]
  },
  {
   "cell_type": "code",
   "execution_count": 15,
   "id": "175c644d-ffdc-4c76-8429-9115d001c13c",
   "metadata": {},
   "outputs": [
    {
     "name": "stdout",
     "output_type": "stream",
     "text": [
      "Data had missing point numbers. They were filled in automatically\n"
     ]
    }
   ],
   "source": [
    " # Check if both conditions passed\n",
    "if 'pointNumber' in shot_data.columns and not shot_data['pointNumber'].isnull().any() and shot_data['pointNumber'].is_monotonic_increasing:\n",
    "    print(\"Check Passed: Point Numbers already exist\")\n",
    "\n",
    "\n",
    "# Check if pointNumber exists for every row and is not empty\n",
    "if 'pointNumber' not in shot_data.columns or shot_data['pointNumber'].isnull().any():\n",
    "    # Execute the script to calculate pointNumber\n",
    "    point_starts = (shot_data['isPointStart'] == 1)\n",
    "    shot_data['pointNumber'] = point_starts.cumsum()\n",
    "    \n",
    "    print(\"Data had missing point numbers. They were filled in automatically\")\n",
    "    \n",
    "# Check if pointNumber is in increasing order\n",
    "if not shot_data['pointNumber'].is_monotonic_increasing:\n",
    "    # Print the condition failure if the 'pointNumber' column is not in increasing order\n",
    "    print(\"Data had point numbers in the wrong order. They were filled in automatically\")\n",
    "    point_starts = (shot_data['isPointStart'] == 1)\n",
    "    shot_data['pointNumber'] = point_starts.cumsum()\n",
    "   "
   ]
  },
  {
   "cell_type": "code",
   "execution_count": 16,
   "id": "38151b56-3c39-479a-834d-ebf2b5dc45b7",
   "metadata": {},
   "outputs": [
    {
     "name": "stdout",
     "output_type": "stream",
     "text": [
      "Check Passed: All rows have pointNumber\n"
     ]
    }
   ],
   "source": [
    "missing_pointNumber_rows = shot_data[shot_data['pointNumber'].isnull()]\n",
    "\n",
    "# Check if there are missing rows\n",
    "if len(missing_pointNumber_rows) == 0:\n",
    "    print(\"Check Passed: All rows have pointNumber\")\n",
    "else:\n",
    "    print(f\"Count of rows missing 'pointNumber': {len(missing_pointNumber_rows)}\")"
   ]
  },
  {
   "cell_type": "markdown",
   "id": "92345c3f-1893-4b78-bffe-b5fe9877995e",
   "metadata": {},
   "source": [
    "## Add Column:\n",
    "#### player1Hand, player2Hand"
   ]
  },
  {
   "cell_type": "code",
   "execution_count": 17,
   "id": "af9a7917-6704-49d6-9b23-e3d60270f8d9",
   "metadata": {},
   "outputs": [
    {
     "name": "stdout",
     "output_type": "stream",
     "text": [
      "Check Passed: player1Hand is not blank. Current value: Right\n",
      "Check Passed: player2Hand is not blank. Current value: Left\n",
      "Player1Hand Current value: Right\n",
      "Player2Hand Current value: Left\n"
     ]
    }
   ],
   "source": [
    "# fillInplayer1Hand = \"Right\"\n",
    "# fillInplayer2Hand = \"Right\"\n",
    "\n",
    "# Check if player1Hand key exists in shot_data, if not, create it\n",
    "if 'player1Hand' not in shot_data:\n",
    "    shot_data['player1Hand'] = None\n",
    "\n",
    "# Check if player2Hand key exists in shot_data, if not, create it\n",
    "if 'player2Hand' not in shot_data:\n",
    "    shot_data['player2Hand'] = None\n",
    "\n",
    "if shot_data.at[0, 'player1Hand'] == None:\n",
    "    print(\"player1Hand was blank. Filling with 'fillInplayer1Hand'\")\n",
    "    shot_data.at[0, 'player1Hand'] = fillInplayer1Hand\n",
    "else:\n",
    "    print(\"Check Passed: player1Hand is not blank. Current value:\", shot_data.at[0, 'player1Hand'])\n",
    "\n",
    "# Check if player2Hand is blank, if so, fill it with 'fillInplayer2Hand'\n",
    "if shot_data.at[0, 'player2Hand'] == None:\n",
    "    print(\"player2Hand was blank. Filling with 'fillInplayer2Hand'\")\n",
    "    shot_data.at[0, 'player2Hand'] = fillInplayer2Hand\n",
    "else:\n",
    "    print(\"Check Passed: player2Hand is not blank. Current value:\", shot_data.at[0, 'player2Hand'])\n",
    "\n",
    "\n",
    "print(\"Player1Hand Current value:\", shot_data.at[0, 'player1Hand'])\n",
    "print(\"Player2Hand Current value:\", shot_data.at[0, 'player2Hand'])"
   ]
  },
  {
   "cell_type": "markdown",
   "id": "88189a3e-a8af-4c0c-b620-770e628a6bd9",
   "metadata": {},
   "source": [
    "### Filling Columns: Forward Fill\n",
    "- 'gameScore'\n",
    "- 'setScore'\n",
    "- 'serverName'\n",
    "- 'player1Name',\n",
    "- 'player2Name'\n",
    "- 'player2Hand'\n",
    "\n",
    "# Forward Fill GameScore, SetScore, tiebreakScore, serverName, player1Name, player2Name"
   ]
  },
  {
   "cell_type": "code",
   "execution_count": 18,
   "id": "203b5a5e-9f55-429f-87dd-a7807cb76b7a",
   "metadata": {},
   "outputs": [],
   "source": [
    "columns_to_fill = ['gameScore','setScore', 'serverName', 'player1Name', 'player2Name', 'player1Hand', 'player2Hand'] \n",
    "\n",
    "for column in columns_to_fill:\n",
    "    shot_data[column].replace(['', 'na'], pd.NaT, inplace=True)\n",
    "    shot_data[column] = shot_data[column].ffill()"
   ]
  },
  {
   "cell_type": "markdown",
   "id": "6d443221-db14-4598-bf2a-664dd32489f3",
   "metadata": {},
   "source": [
    "## Error Check 4: \n",
    "#### Check for NA's\n",
    "\n",
    "- all 0, except missing pointScore should match amount of tiebreak shots\n",
    "- side can have missing, for old tagger and not tagging side of each shot\n",
    "\n",
    "### Fixing:\n",
    "- Open CSV in __Google Sheets__ (Excel will change to date format), output game, set, point Score of missing values. Then find in google sheets, adjust, redownload, and re-upload into notebook"
   ]
  },
  {
   "cell_type": "code",
   "execution_count": 19,
   "id": "4ad4d3f7-6338-4e0b-a01a-683d3db80aee",
   "metadata": {},
   "outputs": [
    {
     "name": "stdout",
     "output_type": "stream",
     "text": [
      "\n",
      "Count of NaN values for 'side' on Point Start: 0\n",
      "\n",
      "Count of NA's in these columns\n",
      "\n",
      "pointScore     0\n",
      "shotInRally    0\n",
      "gameScore      0\n",
      "setScore       0\n",
      "side           0\n",
      "serverName     0\n",
      "dtype: int64\n",
      "\n",
      "Count of empty strings in each column that includes at least one:\n",
      "\n",
      "Division          862\n",
      "lineupPosition    862\n",
      "matchDetails      862\n",
      "matchVenue        862\n",
      "opponentTeam      862\n",
      "Notes             862\n",
      "dtype: int64\n"
     ]
    }
   ],
   "source": [
    "# Count empty strings in each column\n",
    "empty_string_counts = (shot_data == \"\").sum()\n",
    "\n",
    "# Filter out columns with zero empty strings\n",
    "non_zero_counts = empty_string_counts[empty_string_counts > 0]\n",
    "\n",
    "# Count NaN values in 'pointScore' column when 'gameScore' is '6-6'\n",
    "na_tiebreak_count = shot_data.loc[shot_data['gameScore'] == '6-6', 'pointScore'].isna().sum()\n",
    "\n",
    "side_na_count = shot_data.loc[shot_data['isPointStart'] == 1, 'side'].isna().sum()\n",
    "print(\"\\nCount of NaN values for 'side' on Point Start:\", side_na_count)\n",
    "\n",
    "# Display the count\n",
    "# print(\"\\nCount of Nan when gameScore is '6-6' (# tiebreak shots):\", na_tiebreak_count)\n",
    "\n",
    "\n",
    "# Count NaN or empty values in specified columns\n",
    "na_counts = shot_data[[ 'pointScore', 'shotInRally', 'gameScore', 'setScore', 'side', 'serverName']].isna().sum()\n",
    "\n",
    "# Display the counts\n",
    "print(f\"\\nCount of NA's in these columns\\n\")\n",
    "print(na_counts)\n",
    "\n",
    "# Display the counts\n",
    "print(\"\\nCount of empty strings in each column that includes at least one:\\n\")\n",
    "print(non_zero_counts)\n",
    "\n"
   ]
  },
  {
   "cell_type": "markdown",
   "id": "03d9caf3-3614-4b70-b81b-33bb7df7cec3",
   "metadata": {},
   "source": [
    "## Error Check 9: \n",
    "####  Outputs Missing shotInRally Rows"
   ]
  },
  {
   "cell_type": "code",
   "execution_count": 20,
   "id": "1c8e3ec9-bc77-4ba1-925d-e1d3ad8f75f9",
   "metadata": {},
   "outputs": [
    {
     "name": "stdout",
     "output_type": "stream",
     "text": [
      "Check Passed: No Missing shotInRally\n"
     ]
    }
   ],
   "source": [
    "empty_shot_rows = shot_data[shot_data['shotInRally'].isnull()]\n",
    "\n",
    "if not empty_shot_rows.empty:\n",
    "    # Iterate over the index of empty_shot_rows\n",
    "    for index in empty_shot_rows.index:\n",
    "        # Get the row with empty shotInRally\n",
    "        empty_row = shot_data.loc[index]\n",
    "        \n",
    "        # Get the row above it\n",
    "        if index - 1 >= 0:\n",
    "            above_row = shot_data.loc[index - 1]\n",
    "        else:\n",
    "            above_row = None\n",
    "        \n",
    "        # Get the row below it\n",
    "        if index + 1 < len(shot_data):\n",
    "            below_row = shot_data.loc[index + 1]\n",
    "        else:\n",
    "            below_row = None\n",
    "        \n",
    "        # Print the rows\n",
    "        print(\"Empty row:\")\n",
    "        print(empty_row)\n",
    "        print(\"Row above:\")\n",
    "        print(above_row)\n",
    "        print(\"Row below:\")\n",
    "        print(below_row)\n",
    "        print(\"====================\")\n",
    "else:\n",
    "    print(\"Check Passed: No Missing shotInRally\")\n"
   ]
  },
  {
   "cell_type": "markdown",
   "id": "45a917fe-c252-4ca8-ba40-c0b69b5f5b96",
   "metadata": {},
   "source": [
    "## Error Check 5: \n",
    "####  Check that pointNumber is increasing consecutively\n",
    "\n",
    "- if video is bad and points are cut out, this can fail and that's ok."
   ]
  },
  {
   "cell_type": "code",
   "execution_count": 21,
   "id": "381a01d7-3e2f-409c-a26b-d7c17e732e76",
   "metadata": {},
   "outputs": [
    {
     "name": "stdout",
     "output_type": "stream",
     "text": [
      "Check Passed\n"
     ]
    }
   ],
   "source": [
    "point_numbers = shot_data['pointNumber'].unique()\n",
    "\n",
    "# Check if the point numbers are consecutive\n",
    "if list(point_numbers) == list(range(1, len(point_numbers) + 1)):\n",
    "    print(\"Check Passed\")\n",
    "else:\n",
    "    raise ValueError(\"Error: The 'pointNumber' column does not contain consecutive numbers starting from 1.\")\n"
   ]
  },
  {
   "cell_type": "markdown",
   "id": "74f2bd4e-0ef1-45f9-8eb3-1bce987236a8",
   "metadata": {},
   "source": [
    "## Error Check 6: \n",
    "#### Check same amount of start and end points"
   ]
  },
  {
   "cell_type": "code",
   "execution_count": 22,
   "id": "39dfe584-dd93-4f76-ad43-9b536e3bcf88",
   "metadata": {},
   "outputs": [
    {
     "name": "stdout",
     "output_type": "stream",
     "text": [
      "Number of rows with isPointStart = 1: 135.0\n",
      "Number of rows with isPointEnd = 1: 135.0\n",
      "Check Passed.\n"
     ]
    }
   ],
   "source": [
    "# Count of Point Start and Point End\n",
    "num_point_start = shot_data['isPointStart'].sum()\n",
    "\n",
    "# Count the number of rows where isPointEnd is equal to 1\n",
    "num_point_end = shot_data['isPointEnd'].sum()\n",
    "\n",
    "if num_point_start != num_point_end:\n",
    "    print(\"Number of rows with isPointStart = 1:\", num_point_start)\n",
    "    print(\"Number of rows with isPointEnd = 1:\", num_point_end)\n",
    "    raise ValueError(\"Error: count of isPointStart = 1 and isPointEnd = 1 are not the same.\")\n",
    "else:\n",
    "    print(\"Number of rows with isPointStart = 1:\", num_point_start)\n",
    "    print(\"Number of rows with isPointEnd = 1:\", num_point_end)\n",
    "    print('Check Passed.')"
   ]
  },
  {
   "cell_type": "markdown",
   "id": "5b82b4e8-e193-4430-b643-486afd26366e",
   "metadata": {},
   "source": [
    "## Error Check 7: \n",
    "#### Output consecutive isPointStart with no isPointEnd, and vice versa for isPointEnd\n"
   ]
  },
  {
   "cell_type": "code",
   "execution_count": 23,
   "id": "cec761ed",
   "metadata": {},
   "outputs": [
    {
     "name": "stdout",
     "output_type": "stream",
     "text": [
      "Total count where isPointStart = 1: 135\n",
      "Total count where isPointEnd = 1: 135\n",
      "All isPointStart have corresponding isPointEnd.\n",
      "All isPointEnd have corresponding isPointStart.\n"
     ]
    },
    {
     "data": {
      "text/plain": [
       "True"
      ]
     },
     "execution_count": 23,
     "metadata": {},
     "output_type": "execute_result"
    }
   ],
   "source": [
    "# Shubhan\n",
    "\n",
    "# Output total start, total end\n",
    "# How many Points aren't enclosing between point start and point end \n",
    "\n",
    "# Count where isPointStart = 1\n",
    "count_isPointStart = (shot_data['isPointStart'] == 1).sum()\n",
    "\n",
    "# Count where isPointEnd = 1\n",
    "count_isPointEnd = (shot_data['isPointEnd'] == 1).sum()\n",
    "\n",
    "print(\"Total count where isPointStart = 1:\", count_isPointStart)\n",
    "print(\"Total count where isPointEnd = 1:\", count_isPointEnd)\n",
    "\n",
    "# Output Point/Game Scores where there is consecutive isPointStart with no isPointEnd\n",
    "def check_isPointStart_in_between(shot_data):\n",
    "    start_indices = shot_data.index[shot_data['isPointStart'] == 1]  # Get indices where isPointStart is True\n",
    "    end_indices = shot_data.index[shot_data['isPointEnd'] == 1]  # Get indices where isPointEnd is True\n",
    "    start_without_end = []\n",
    "\n",
    "    for i in range(len(start_indices) - 1):\n",
    "        current_start_index = start_indices[i]\n",
    "        next_start_index = start_indices[i + 1]\n",
    "\n",
    "        # Get all isPointEnd indices between current_start_index and next_start_index\n",
    "        end_between_starts = end_indices[(end_indices >= current_start_index) & (end_indices < next_start_index)]\n",
    "\n",
    "        # Check if there is at least one isPointEnd between current_start_index and next_start_index\n",
    "        if len(end_between_starts) == 0:\n",
    "            start_without_end.append(current_start_index)\n",
    "\n",
    "    # Check the last isPointStart\n",
    "    last_start_index = start_indices[-1]\n",
    "    end_after_last_start = end_indices[end_indices >= last_start_index]\n",
    "\n",
    "    if len(end_after_last_start) == 0:\n",
    "        start_without_end.append(last_start_index)\n",
    "\n",
    "    if start_without_end:\n",
    "        print(\" \")\n",
    "        print(\"isPointStart without corresponding isPointEnd:\")\n",
    "        for index in start_without_end:\n",
    "#             print(\"Index:\", index)\n",
    "#             print(\"pointScore:\", shot_data.at[index, 'pointScore'])\n",
    "#             print(\"gameScore:\", shot_data.at[index, 'gameScore'])\n",
    "#             print(\"setScore:\", shot_data.at[index, 'setScore'])\n",
    "            print(\" \")\n",
    "            print(shot_data.loc[start_without_end][['pointScore', 'gameScore', 'setScore', 'isPointStart']])\n",
    "            print(\" \")\n",
    "\n",
    "        \n",
    "        return False\n",
    "    else:\n",
    "        print(\"All isPointStart have corresponding isPointEnd.\")\n",
    "        return True\n",
    "\n",
    "# Check if the condition is met\n",
    "check_isPointStart_in_between(shot_data)\n",
    "\n",
    "# Output Point/Game Scores where there is consecutive isPointEnd with no isPointStart\n",
    "def check_isPointEnd_in_between(shot_data):\n",
    "    start_indices = shot_data.index[shot_data['isPointStart'] == 1]  # Get indices where isPointStart is True\n",
    "    end_indices = shot_data.index[shot_data['isPointEnd'] == 1]  # Get indices where isPointEnd is True\n",
    "    end_without_start = []\n",
    "\n",
    "    for i in range(len(end_indices) - 1):\n",
    "        current_end_index = end_indices[i]\n",
    "        next_end_index = end_indices[i + 1]\n",
    "\n",
    "        # Get all isPointStart indices b/w current_end_index and next_end_index\n",
    "        start_between_ends = start_indices[(start_indices > current_end_index) & (start_indices <= next_end_index)]\n",
    "\n",
    "        # Check if there is at least one isPointStart between current_end_index and next_end_index\n",
    "        if len(start_between_ends) == 0:\n",
    "            end_without_start.append(current_end_index)\n",
    "\n",
    "    # NOTE: This will always append the last index of the sheet because the last end will never have a corresponding start so I'm not sure if its necessary to add it to the end_without_start array\n",
    "    # Check the last isPointStart\n",
    "    \"\"\"\n",
    "    last_end_index = end_indices[-1]\n",
    "    start_after_last_end = start_indices[start_indices >= last_end_index]\n",
    "\n",
    "    if len(start_after_last_end) == 0:\n",
    "        end_without_start.append(last_end_index)\n",
    "    \"\"\"\n",
    "\n",
    "    if end_without_start:\n",
    "        print(\"isPointEnd without corresponding isPointStart:\")\n",
    "#         for index in end_without_start:\n",
    "#             print(\"Index:\", index)\n",
    "#             print(\"pointScore:\", shot_data.at[index, 'pointScore'])\n",
    "#             print(\"gameScore:\", shot_data.at[index, 'gameScore'])\n",
    "#             print(\"setScore:\", shot_data.at[index, 'setScore'])\n",
    "#             print(\"setScore:\", shot_data.at[index, 'tiebreakScore'])\n",
    "\n",
    "        # Output the rows of shot_data that correspond to the indices in end_without_start\n",
    "        print(\" \")\n",
    "        print(shot_data.loc[end_without_start][['pointScore', 'gameScore', 'setScore', 'isPointEnd']])\n",
    "\n",
    "        return False\n",
    "    else:\n",
    "        print(\"All isPointEnd have corresponding isPointStart.\")\n",
    "        return True\n",
    "\n",
    "# Check if the condition is met\n",
    "check_isPointEnd_in_between(shot_data)"
   ]
  },
  {
   "cell_type": "markdown",
   "id": "3fec62fa",
   "metadata": {},
   "source": [
    "## Error Check 8:\n",
    "#### Change the score from incorrect date format\n",
    "- accounts for all variations of dates eg. (0-00-0000, 0/0/0000)"
   ]
  },
  {
   "cell_type": "code",
   "execution_count": 24,
   "id": "40ca3891",
   "metadata": {},
   "outputs": [],
   "source": [
    "## Error Check 13:\n",
    "#### Make Jan-00 back into 1-0 for Game/Set Score\n",
    "\n",
    "# Make Scores Strings not Date Time\n",
    "columns_to_convert = ['gameScore', 'setScore'] #if no tiebreakScore\n",
    "# columns_to_convert = ['gameScore', 'setScore', 'tiebreakScore']\n",
    "shot_data[columns_to_convert] = shot_data[columns_to_convert].astype(object)"
   ]
  },
  {
   "cell_type": "code",
   "execution_count": 25,
   "id": "370044f2",
   "metadata": {},
   "outputs": [],
   "source": [
    "import re\n",
    "\n",
    "# Define a mapping for month abbreviations\n",
    "month_mapping = {'Jan': '1', 'Feb': '2', 'Mar': '3', 'Apr': '4', 'May': '5', 'Jun': '6',\n",
    "                 'Jul': '7', 'Aug': '8', 'Sep': '9', 'Oct': '10', 'Nov': '11', 'Dec': '12'}\n",
    "\n",
    "# Function to convert string like 'Jan-00' to '1-0'\n",
    "def convert_score_string(score_str):\n",
    "    # Check if the string has a month abbreviation and a year ending with '00'\n",
    "    if re.match(r'^\\d{1,2}-[A-Za-z]{3}$', score_str):\n",
    "        # Extract year and month abbreviation\n",
    "        year, month = score_str.split('-')\n",
    "\n",
    "        # Remove leading zeros from the year\n",
    "        year = str(int(year))\n",
    "\n",
    "        # Replace month abbreviation with corresponding number\n",
    "        month_number = month_mapping.get(month, month)\n",
    "\n",
    "        # Concatenate the parts to form the transformed string\n",
    "        transformed_str = f'{year}-{month_number}'\n",
    "        return transformed_str\n",
    "\n",
    "    # Check if the string has a month abbreviation and a year with leading '0's\n",
    "    elif re.match(r'^[A-Za-z]{3}-\\d{1,2}$', score_str):\n",
    "        # Extract month abbreviation and year\n",
    "        month, year = score_str.split('-')\n",
    "\n",
    "        # Replace month abbreviation with corresponding number\n",
    "        month_number = month_mapping.get(month, month)\n",
    "\n",
    "        # Remove leading zeros from the year\n",
    "        year = str(int(year))\n",
    "\n",
    "        # Concatenate the parts to form the transformed string\n",
    "        transformed_str = f'{month_number}-{year}'\n",
    "        return transformed_str\n",
    "\n",
    "    # Check if the string has a date in the format 'month/day/year'\n",
    "    elif re.match(r'^\\d{1,2}/\\d{1,2}/\\d{4}$', score_str):\n",
    "        # Extract month, day, and year\n",
    "        month, day, year = score_str.split('/')\n",
    "\n",
    "        # Remove leading zeros from month and day\n",
    "        month = str(int(month))\n",
    "        day = str(int(day))\n",
    "\n",
    "        # Concatenate the parts to form the transformed string\n",
    "        transformed_str = f'{month}-{day}'\n",
    "        return transformed_str\n",
    "\n",
    "    # Check if the string has a date in the format 'month-day-year'\n",
    "    elif re.match(r'^\\d{1,2}-\\d{1,2}-\\d{4}$', score_str):\n",
    "        # Extract month, day, and year\n",
    "        month, day, year = score_str.split('-')\n",
    "\n",
    "        # Remove leading zeros from month and day\n",
    "        month = str(int(month))\n",
    "        day = str(int(day))\n",
    "\n",
    "        # Concatenate the parts to form the transformed string\n",
    "        transformed_str = f'{month}-{day}'\n",
    "        return transformed_str\n",
    "\n",
    "    return score_str\n",
    "\n",
    "# Apply the conversion function to the relevant columns in shot_data\n",
    "shot_data['gameScore'] = shot_data['gameScore'].apply(convert_score_string)\n",
    "shot_data['setScore'] = shot_data['setScore'].apply(convert_score_string)\n",
    "# shot_data['tiebreakerScore'] = shot_data['tiebreakerScore'].apply(convert_score_string)\n"
   ]
  },
  {
   "cell_type": "markdown",
   "id": "d8522b57-d0cc-43fc-b08c-47768bae5231",
   "metadata": {},
   "source": [
    "## Error Check 9: \n",
    "#### Check that there is no strings in set, game scores. "
   ]
  },
  {
   "cell_type": "code",
   "execution_count": 26,
   "id": "6dc62692-a1a6-4d0c-9e3a-d15f3ce06b84",
   "metadata": {
    "scrolled": true
   },
   "outputs": [
    {
     "name": "stdout",
     "output_type": "stream",
     "text": [
      "Unique Set Scores: ['0-0' '0-1' '1-1']\n",
      "Unique Game Scores: ['0-0' '1-0' '2-0' '2-1' '2-2' '2-3' '2-4' '3-4' '4-4' '4-5' '0-1' '1-1'\n",
      " '3-1' '3-2' '3-3' '3-5']\n"
     ]
    }
   ],
   "source": [
    "# Assuming shot_data is your DataFrame\n",
    "unique_set_scores = shot_data['setScore'].unique()\n",
    "unique_game_scores = shot_data['gameScore'].unique()\n",
    "\n",
    "# Print unique values\n",
    "print(\"Unique Set Scores:\", unique_set_scores)\n",
    "print(\"Unique Game Scores:\", unique_game_scores)\n"
   ]
  },
  {
   "cell_type": "markdown",
   "id": "4c415b10",
   "metadata": {},
   "source": [
    "## Error Check 10 : \n",
    "### Print out all the rows where isPointStart time doesn't start in the beginning of a rally"
   ]
  },
  {
   "cell_type": "code",
   "execution_count": 27,
   "id": "d9f6d0f2",
   "metadata": {},
   "outputs": [
    {
     "name": "stdout",
     "output_type": "stream",
     "text": [
      "Check passed.\n"
     ]
    }
   ],
   "source": [
    "# Filter the DataFrame\n",
    "filtered_rows = shot_data[(shot_data['isPointStart'] == 1) & (shot_data['shotInRally'] != 1)]\n",
    "\n",
    "# Print the filtered rows\n",
    "if filtered_rows.empty:\n",
    "    print (\"Check passed.\")\n",
    "else:\n",
    "    print(\"Rows where isPointStart = 1 and shotInRally != 1:\")\n",
    "    print(filtered_rows)\n"
   ]
  },
  {
   "cell_type": "markdown",
   "id": "dede4ccc",
   "metadata": {},
   "source": [
    "## Error Check 11: \n",
    "### Find the rows where isPointEnd = 1 and shotInRally = 1 but is neither an ace or a double fault"
   ]
  },
  {
   "cell_type": "code",
   "execution_count": 28,
   "id": "11411185",
   "metadata": {},
   "outputs": [
    {
     "name": "stdout",
     "output_type": "stream",
     "text": [
      "Check passed.\n"
     ]
    }
   ],
   "source": [
    "# Filter the DataFrame\n",
    "filtered_rows = shot_data[\n",
    "    (shot_data['isPointEnd'] == 1) & \n",
    "    (shot_data['shotInRally'] == 1) & \n",
    "    (shot_data['firstServeIn'] != 0) &\n",
    "    (shot_data['secondServeIn'] != 0) &\n",
    "    (shot_data['isAce'] != 1)\n",
    "]\n",
    "\n",
    "# Print the filtered rows\n",
    "if filtered_rows.empty:\n",
    "    print (\"Check passed.\")\n",
    "else:\n",
    "    print(\"Rows where isPointEnd = 1, shotInRally = 1, firstServeIn and secondServeIn are both not 0, and isAce != 1:\")\n",
    "    print(filtered_rows)"
   ]
  },
  {
   "cell_type": "markdown",
   "id": "63e9d925",
   "metadata": {},
   "source": [
    "## Error Check 12: \n",
    "### Find all the rows where there are duplicate isPointStarts == 1 points\n",
    "- Finds all the points where the there are the same score and isPointStart == 1\n",
    "#### Warning: This will output rows that have pointScore such as \"40-40\", \"40-A\", \"A-40\""
   ]
  },
  {
   "cell_type": "code",
   "execution_count": 29,
   "id": "1cb75856",
   "metadata": {},
   "outputs": [
    {
     "name": "stdout",
     "output_type": "stream",
     "text": [
      "Rows where isPointStart is 1 and pointScore, gameScore, and setScore have the same value:\n",
      "    pointScore gameScore setScore  isPointStart\n",
      "42       40-40       0-0      0-0           1.0\n",
      "53       40-40       0-0      0-0           1.0\n",
      "63        A-40       0-0      0-0           1.0\n",
      "68       40-40       0-0      0-0           1.0\n",
      "74        A-40       0-0      0-0           1.0\n",
      "79       40-40       0-0      0-0           1.0\n",
      "83        A-40       0-0      0-0           1.0\n",
      "88       40-40       0-0      0-0           1.0\n",
      "90        A-40       0-0      0-0           1.0\n",
      "95       40-40       0-0      0-0           1.0\n",
      "101       A-40       0-0      0-0           1.0\n",
      "104      40-40       0-0      0-0           1.0\n",
      "106       A-40       0-0      0-0           1.0\n",
      "472      40-40       4-5      0-0           1.0\n",
      "482      40-40       4-5      0-0           1.0\n",
      "611       40-A       1-1      0-1           1.0\n",
      "618      40-40       1-1      0-1           1.0\n",
      "620       A-40       1-1      0-1           1.0\n",
      "627      40-40       1-1      0-1           1.0\n",
      "630       40-A       1-1      0-1           1.0\n",
      "639      40-40       1-1      0-1           1.0\n",
      "643       A-40       1-1      0-1           1.0\n"
     ]
    }
   ],
   "source": [
    "# Filter the DataFrame\n",
    "filtered_rows = shot_data[shot_data['isPointStart'] == 1]\n",
    "\n",
    "# Output rows where isPointStart is 1 and pointScore, gameScore, and setScore have the same value\n",
    "output_rows = filtered_rows[filtered_rows.duplicated(subset=['pointScore', 'gameScore', 'setScore'], keep=False)]\n",
    "\n",
    "# Print the output rows\n",
    "if output_rows.empty:\n",
    "    print (\"Check passed.\")\n",
    "else:\n",
    "    print(\"Rows where isPointStart is 1 and pointScore, gameScore, and setScore have the same value:\")\n",
    "    print(output_rows[['pointScore', 'gameScore', 'setScore', 'isPointStart']])\n",
    "\n"
   ]
  },
  {
   "cell_type": "markdown",
   "id": "ae7b5b92",
   "metadata": {},
   "source": [
    "## Error Check 13: \n",
    "### Find all the rows where there are duplicate isPointEnd == 1 points\n",
    "- Finds all the points where the there are the same score and isPointEnd == 1"
   ]
  },
  {
   "cell_type": "code",
   "execution_count": 30,
   "id": "d66627be",
   "metadata": {},
   "outputs": [
    {
     "name": "stdout",
     "output_type": "stream",
     "text": [
      "Rows where isPointEnd is 1 and pointScore, gameScore, and setScore have the same value:\n",
      "    pointScore gameScore setScore  isPointStart\n",
      "48       40-40       0-0      0-0           NaN\n",
      "62       40-40       0-0      0-0           NaN\n",
      "67        A-40       0-0      0-0           NaN\n",
      "73       40-40       0-0      0-0           NaN\n",
      "78        A-40       0-0      0-0           NaN\n",
      "82       40-40       0-0      0-0           NaN\n",
      "87        A-40       0-0      0-0           NaN\n",
      "89       40-40       0-0      0-0           NaN\n",
      "94        A-40       0-0      0-0           NaN\n",
      "100      40-40       0-0      0-0           NaN\n",
      "103       A-40       0-0      0-0           NaN\n",
      "105      40-40       0-0      0-0           NaN\n",
      "118       A-40       0-0      0-0           NaN\n",
      "327       40-0       2-4      0-0           NaN\n",
      "348       40-0       2-4      0-0           NaN\n",
      "478      40-40       4-5      0-0           NaN\n",
      "486      40-40       4-5      0-0           NaN\n",
      "617       40-A       1-1      0-1           NaN\n",
      "619      40-40       1-1      0-1           NaN\n",
      "626       A-40       1-1      0-1           NaN\n",
      "629      40-40       1-1      0-1           NaN\n",
      "638       40-A       1-1      0-1           NaN\n",
      "642      40-40       1-1      0-1           NaN\n",
      "644       A-40       1-1      0-1           NaN\n"
     ]
    }
   ],
   "source": [
    "# Filter the DataFrame\n",
    "filtered_rows = shot_data[shot_data['isPointEnd'] == 1]\n",
    "\n",
    "# Output rows where isPointStart is 1 and pointScore, gameScore, and setScore have the same value\n",
    "output_rows = filtered_rows[filtered_rows.duplicated(subset=['pointScore', 'gameScore', 'setScore'], keep=False)]\n",
    "\n",
    "# Print the output rows\n",
    "if output_rows.empty:\n",
    "    print (\"Check passed.\")\n",
    "else:\n",
    "    print(\"Rows where isPointEnd is 1 and pointScore, gameScore, and setScore have the same value:\")\n",
    "    print(output_rows[['pointScore', 'gameScore', 'setScore', 'isPointStart']])\n"
   ]
  },
  {
   "cell_type": "markdown",
   "id": "00bd1abd",
   "metadata": {},
   "source": [
    "## Error Check 14:\n",
    "### Find all the rows where there is isPointEnd == 1 but there is no isWinner, isErrorWideL, isErrorWideR, isErrorNet, isErrorLong\n"
   ]
  },
  {
   "cell_type": "code",
   "execution_count": 31,
   "id": "08215648",
   "metadata": {},
   "outputs": [
    {
     "name": "stdout",
     "output_type": "stream",
     "text": [
      "Check passed.\n"
     ]
    }
   ],
   "source": [
    "filtered_rows = shot_data[(shot_data['isPointEnd'] == 1) &\n",
    "                          (shot_data['isWinner'] != 1) &\n",
    "                          (shot_data['isErrorWideL'] != 1) &\n",
    "                          (shot_data['isErrorWideR'] != 1) &\n",
    "                          (shot_data['isErrorNet'] != 1) & \n",
    "                          (shot_data['isErrorLong'] != 1) &\n",
    "                          (shot_data['firstServeIn'] != 0) & \n",
    "                          (shot_data['secondServeIn'] != 0)]\n",
    "\n",
    "if filtered_rows.empty:\n",
    "    print (\"Check passed.\")\n",
    "else:\n",
    "    print(\"Error: isPointEnd == 1 but there is no point end shot\")\n",
    "    print(filtered_rows[['pointScore', 'gameScore', 'setScore','isPointStart', 'isPointEnd', 'isWinner', 'isErrorWideL', 'isErrorWideR', 'isErrorNet', 'isErrorLong']])\n"
   ]
  },
  {
   "cell_type": "markdown",
   "id": "9aa7ed4f-7ebd-4c0b-b287-b8492bba44b6",
   "metadata": {},
   "source": [
    "# Add More Columns"
   ]
  },
  {
   "cell_type": "markdown",
   "id": "a7d5e03b",
   "metadata": {},
   "source": [
    "### Add Column: tiebreakScore"
   ]
  },
  {
   "cell_type": "code",
   "execution_count": 32,
   "id": "6c49d6c5",
   "metadata": {},
   "outputs": [],
   "source": [
    " # Check if both conditions passed\n",
    "if 'tiebreakScore' in shot_data.columns and not shot_data['tiebreakScore'].isnull().any():\n",
    "    print(\"Check Passed: Point Numbers already exist\")\n",
    "else:\n",
    "    shot_data['tiebreakScore'] = np.nan\n",
    "    player2_new_name = shot_data['player2Name'].iloc[0]\n",
    "\n",
    "    # Function to reverse pointScore\n",
    "    def reverse_point_score(score):\n",
    "        if '-' in score:\n",
    "            parts = score.split('-')\n",
    "            return '-'.join(parts[::-1])\n",
    "        return score\n",
    "\n",
    "    # Apply reverse_point_score function where serverName is 'Player2'\n",
    "    shot_data.loc[shot_data['serverName'] == player2_new_name, 'pointScore'] = \\\n",
    "        shot_data.loc[shot_data['serverName'] == player2_new_name, 'pointScore'].apply(reverse_point_score)\n",
    "\n",
    "    # Transfer values from pointScore to tiebreakScore where gameScore is '6-6'\n",
    "    shot_data.loc[shot_data['gameScore'] == '6-6', 'tiebreakScore'] = shot_data['pointScore']\n",
    "\n",
    "    # Set the pointScore to NaN where tiebreakScore is not NaN\n",
    "    shot_data.loc[pd.notna(shot_data['tiebreakScore']), 'pointScore'] = np.nan\n"
   ]
  },
  {
   "cell_type": "markdown",
   "id": "45fd0765",
   "metadata": {},
   "source": [
    "#### Print tiebreakScore"
   ]
  },
  {
   "cell_type": "code",
   "execution_count": 33,
   "id": "3eeff141",
   "metadata": {},
   "outputs": [
    {
     "data": {
      "text/plain": [
       "Series([], Name: tiebreakScore, dtype: float64)"
      ]
     },
     "execution_count": 33,
     "metadata": {},
     "output_type": "execute_result"
    }
   ],
   "source": [
    "shot_data.loc[shot_data['gameScore'] == '6-6', 'tiebreakScore']"
   ]
  },
  {
   "cell_type": "markdown",
   "id": "d83f3413",
   "metadata": {},
   "source": [
    "#### print pointScore when gameScore == '6-6'\n",
    "- should be all NA"
   ]
  },
  {
   "cell_type": "code",
   "execution_count": 34,
   "id": "c6bd1c07",
   "metadata": {},
   "outputs": [
    {
     "data": {
      "text/plain": [
       "Series([], Name: pointScore, dtype: object)"
      ]
     },
     "execution_count": 34,
     "metadata": {},
     "output_type": "execute_result"
    }
   ],
   "source": [
    "shot_data.loc[shot_data['gameScore'] == '6-6', 'pointScore'].head()"
   ]
  },
  {
   "cell_type": "markdown",
   "id": "a2f877ba-2c11-4bfa-b858-e9a7ce9f400d",
   "metadata": {},
   "source": [
    "### Add Column: returnerName"
   ]
  },
  {
   "cell_type": "code",
   "execution_count": 35,
   "id": "a95e4421-a815-4347-96b0-a71ad91011a2",
   "metadata": {},
   "outputs": [
    {
     "name": "stdout",
     "output_type": "stream",
     "text": [
      "Player 1 = Rudy Quan, Player 2 = Yuta Shimizu\n"
     ]
    }
   ],
   "source": [
    "# Get Returner Name for Shot DF\n",
    "\n",
    "# Extract player1Name and player2Name from the first row of shot_data\n",
    "first_row_shot_df = shot_data.iloc[0]\n",
    "player1_name = first_row_shot_df['player1Name']\n",
    "player2_name = first_row_shot_df['player2Name']\n",
    "\n",
    "# # Can Also Manually inpute Player 1 and 2 name\n",
    "# player1_name = \"Kimmi Hance\"\n",
    "# player2_name = \"Malaika Rapolu\"\n",
    "\n",
    "def get_returner_name(server_name):\n",
    "    return player2_name if server_name == player1_name else player1_name\n",
    "\n",
    "# Add 'Returner Name' column to point_df using the function\n",
    "shot_data['returnerName'] = shot_data['serverName'].apply(get_returner_name)\n",
    "\n",
    "print(f\"Player 1 = {player1_name}, Player 2 = {player2_name}\")\n",
    "# print(shot_data[['serverName','returnerName']])"
   ]
  },
  {
   "cell_type": "markdown",
   "id": "7c8cd7f8-100c-4419-a4ad-057a93024379",
   "metadata": {},
   "source": [
    "### Add Column: shotHitBy"
   ]
  },
  {
   "cell_type": "code",
   "execution_count": 36,
   "id": "359b8ee1-b6f1-4bad-b4c0-e0fd39e01ae1",
   "metadata": {},
   "outputs": [
    {
     "name": "stdout",
     "output_type": "stream",
     "text": [
      "  serverName     shotHitBy  pointNumber  shotInRally\n",
      "0  Rudy Quan     Rudy Quan            1            1\n",
      "1  Rudy Quan  Yuta Shimizu            1            2\n",
      "2  Rudy Quan     Rudy Quan            1            3\n",
      "3  Rudy Quan  Yuta Shimizu            1            4\n",
      "4  Rudy Quan     Rudy Quan            1            5\n",
      "5  Rudy Quan  Yuta Shimizu            1            6\n",
      "6  Rudy Quan     Rudy Quan            2            1\n",
      "7  Rudy Quan  Yuta Shimizu            2            2\n",
      "8  Rudy Quan     Rudy Quan            2            3\n",
      "9  Rudy Quan  Yuta Shimizu            2            4\n"
     ]
    }
   ],
   "source": [
    "# Add Shot Hit By for each Shot\n",
    "\n",
    "shot_data['shotHitBy'] = shot_data.apply(lambda row: row['serverName'] if row['shotInRally'] % 2 == 1 else row['returnerName'], axis=1)\n",
    "print(shot_data[['serverName', 'shotHitBy','pointNumber', 'shotInRally']].head(10))"
   ]
  },
  {
   "cell_type": "markdown",
   "id": "74920095-a63b-4e61-b350-d84587c217ae",
   "metadata": {},
   "source": [
    "### Add Column: isInsideOut, isInsideIn"
   ]
  },
  {
   "cell_type": "code",
   "execution_count": 37,
   "id": "f6d99f4c-77a8-48e4-9556-b0ff3417a2bb",
   "metadata": {},
   "outputs": [],
   "source": [
    "# Add columns for isInsideOut and isInsideIn, initially set to 0\n",
    "shot_data['isInsideOut'] = None\n",
    "shot_data['isInsideIn'] = None\n",
    "\n",
    "# Iterate through rows\n",
    "for index, row in shot_data.iterrows():\n",
    "    shotHitBy = row['shotHitBy']\n",
    "    player_hand = row['player1Hand'] if shotHitBy == row['player1Name'] else row['player2Hand']\n",
    "    \n",
    "\n",
    "    \n",
    "    if player_hand == \"Right\":\n",
    "        if row['side'] == \"Deuce\" and row['shotFhBh'] == \"Backhand\" and row['shotDirection'] == \"Crosscourt\":\n",
    "            shot_data.at[index, 'isInsideOut'] = 1\n",
    "        elif row['side'] == \"Ad\" and row['shotFhBh'] == \"Forehand\" and row['shotDirection'] == \"Crosscourt\":\n",
    "            shot_data.at[index, 'isInsideOut'] = 1\n",
    "        elif row['side'] == \"Deuce\" and row['shotFhBh'] == \"Backhand\" and row['shotDirection'] == \"Down the Line\":\n",
    "            shot_data.at[index, 'isInsideIn'] = 1\n",
    "        elif row['side'] == \"Ad\" and row['shotFhBh'] == \"Forehand\" and row['shotDirection'] == \"Down the Line\":\n",
    "            shot_data.at[index, 'isInsideIn'] = 1\n",
    "    elif player_hand == \"Left\":\n",
    "        if row['side'] == \"Ad\" and row['shotFhBh'] == \"Backhand\" and row['shotDirection'] == \"Crosscourt\":\n",
    "            shot_data.at[index, 'isInsideOut'] = 1\n",
    "        elif row['side'] == \"Deuce\" and row['shotFhBh'] == \"Forehand\" and row['shotDirection'] == \"Crosscourt\":\n",
    "            shot_data.at[index, 'isInsideOut'] = 1\n",
    "        elif row['side'] == \"Ad\" and row['shotFhBh'] == \"Backhand\" and row['shotDirection'] == \"Down the Line\":\n",
    "            shot_data.at[index, 'isInsideIn'] = 1\n",
    "        elif row['side'] == \"Deuce\" and row['shotFhBh'] == \"Forehand\" and row['shotDirection'] == \"Down the Line\":\n",
    "            shot_data.at[index, 'isInsideIn'] = 1"
   ]
  },
  {
   "cell_type": "markdown",
   "id": "5ce47455-e52a-4c29-846b-6ff44af87b62",
   "metadata": {},
   "source": [
    "### Add Column: isAce"
   ]
  },
  {
   "cell_type": "code",
   "execution_count": 38,
   "id": "a14a32f6-db9d-44e8-ad59-32b48995eb23",
   "metadata": {},
   "outputs": [],
   "source": [
    "# Add the Ace column\n",
    "shot_data['isAce'] = None\n",
    "\n",
    "for index, row in shot_data.iterrows():\n",
    "    if row['isPointEnd'] == 1:\n",
    "        if row['shotInRally'] == 1: # last point is serve\n",
    "            if (row['firstServeIn'] == 1 or row['secondServeIn'] == 1): # either first or second serve went in\n",
    "                shot_data.at[index, 'isAce'] = 1"
   ]
  },
  {
   "cell_type": "markdown",
   "id": "5beb11c5-27f4-413a-a96c-a07431d1a797",
   "metadata": {},
   "source": [
    "### Add Column: isDoubleFault"
   ]
  },
  {
   "cell_type": "code",
   "execution_count": 39,
   "id": "7365f350-9cb6-4c1a-ae51-8def184dddb4",
   "metadata": {},
   "outputs": [],
   "source": [
    "# Add the DoubleFault column\n",
    "shot_data['isDoubleFault'] = None\n",
    "\n",
    "for index, row in shot_data.iterrows():\n",
    "    if row['isPointEnd'] == 1:\n",
    "        if row['shotInRally'] == 1: # last point is serve\n",
    "            if (row['firstServeIn'] != 1 and row['secondServeIn'] != 1): # either first or second serve went in\n",
    "                shot_data.at[index, 'isDoubleFault'] = 1"
   ]
  },
  {
   "cell_type": "markdown",
   "id": "f8b2d1a4-6b15-49d8-82cf-451bf806402e",
   "metadata": {},
   "source": [
    "### Add Column: pointWonBy, lastShotError"
   ]
  },
  {
   "cell_type": "code",
   "execution_count": 40,
   "id": "d453c3e5-cf56-41a1-89ff-0db6f4ace548",
   "metadata": {},
   "outputs": [],
   "source": [
    "# Add the 'pointWonBy' column\n",
    "shot_data['pointWonBy'] = None\n",
    "\n",
    "# Add the 'lastShotError' column\n",
    "shot_data['lastShotError'] = 0\n",
    "\n",
    "for index, row in shot_data.iterrows():\n",
    "    if row['isPointEnd'] == 1:\n",
    "        if row['shotInRally'] == 1: # last point is serve\n",
    "            if row['isAce'] == 1: \n",
    "                shot_data.at[index, 'pointWonBy'] = row['serverName']\n",
    "            elif row['isDoubleFault'] == 1: \n",
    "                shot_data.at[index, 'pointWonBy'] = row['returnerName']\n",
    "\n",
    "                \n",
    "        elif row['shotInRally'] != 1:\n",
    "            if row['isErrorWideR'] == 1 or row['isErrorWideL'] == 1 or row['isErrorNet'] == 1 or row['isErrorLong'] == 1: # if error\n",
    "                shot_data.at[index, 'lastShotError'] = 1\n",
    "                \n",
    "                if row['shotInRally'] % 2 == 0:\n",
    "                    shot_data.at[index, 'pointWonBy'] = row['serverName']\n",
    "                else:\n",
    "                    shot_data.at[index, 'pointWonBy'] = row['returnerName']\n",
    "        \n",
    "            elif row['isWinner'] == 1:\n",
    "                if row['shotInRally'] % 2 == 0:\n",
    "                    shot_data.at[index, 'pointWonBy'] = row['returnerName']\n",
    "                else:\n",
    "                    shot_data.at[index, 'pointWonBy'] = row['serverName']\n"
   ]
  },
  {
   "cell_type": "markdown",
   "id": "ed0a1097-1617-4a01-94ba-e6340dbebf08",
   "metadata": {},
   "source": [
    "## Error Check 15: \n",
    "#### Output Point End with no pointWonBy\n"
   ]
  },
  {
   "cell_type": "code",
   "execution_count": 41,
   "id": "49a2474a-881f-4281-94cb-156ff1c947bc",
   "metadata": {},
   "outputs": [
    {
     "name": "stdout",
     "output_type": "stream",
     "text": [
      "Empty DataFrame\n",
      "Columns: [pointScore, gameScore, setScore, lastShotError, isWinner, isErrorWideR, isErrorWideL, isErrorNet, isErrorLong, pointWonBy, serverName, shotInRally]\n",
      "Index: []\n"
     ]
    }
   ],
   "source": [
    "# Missing Point End\n",
    "print(shot_data[(shot_data['isPointEnd'] == 1) & (shot_data['pointWonBy'].isnull())][['pointScore', 'gameScore','setScore', 'lastShotError', 'isWinner', 'isErrorWideR', 'isErrorWideL',\n",
    "       'isErrorNet', 'isErrorLong', 'pointWonBy', 'serverName', 'shotInRally']])\n"
   ]
  },
  {
   "cell_type": "markdown",
   "id": "4b8515de-5d31-4902-b3f0-a304940e3dfa",
   "metadata": {},
   "source": [
    "### Backward Fill: PointWonBy"
   ]
  },
  {
   "cell_type": "code",
   "execution_count": 42,
   "id": "1923cee2-b584-410b-a381-f1dc6396504b",
   "metadata": {},
   "outputs": [
    {
     "data": {
      "text/plain": [
       "0         Rudy Quan\n",
       "1         Rudy Quan\n",
       "2         Rudy Quan\n",
       "3         Rudy Quan\n",
       "4         Rudy Quan\n",
       "           ...     \n",
       "857    Yuta Shimizu\n",
       "858    Yuta Shimizu\n",
       "859    Yuta Shimizu\n",
       "860    Yuta Shimizu\n",
       "861    Yuta Shimizu\n",
       "Name: pointWonBy, Length: 862, dtype: object"
      ]
     },
     "execution_count": 42,
     "metadata": {},
     "output_type": "execute_result"
    }
   ],
   "source": [
    "shot_data['pointWonBy'].bfill()"
   ]
  },
  {
   "cell_type": "markdown",
   "id": "7dbdab42-8878-48d0-ba8d-3d2912919926",
   "metadata": {},
   "source": [
    "## Error Check 16: \n",
    "#### Find all rows with mismatched serve in/serve zone\n"
   ]
  },
  {
   "cell_type": "code",
   "execution_count": 43,
   "id": "90ff0c52-27f7-4a5d-bcdd-49b4be382d77",
   "metadata": {},
   "outputs": [
    {
     "name": "stdout",
     "output_type": "stream",
     "text": [
      "Check passed for first serves.\n",
      "Check passed for second serves.\n"
     ]
    }
   ],
   "source": [
    "# Find indices of all rows with firstServeIn data\n",
    "first_serve_row = shot_data.index[shot_data['firstServeIn'].notnull()]\n",
    "# Find indices of all rows with firstServeZone data\n",
    "first_serve_placement_row = shot_data.index[shot_data['firstServeZone'].notnull()]\n",
    "# Check which indices are not found in one column but are found in the other\n",
    "mismatched_first_serve_rows = list(set(first_serve_row).difference(first_serve_placement_row))\n",
    "# Add 2 to the indices to match numbering of Google Sheets\n",
    "mismatched_first_serve_rows = [x+2 for x in mismatched_first_serve_rows]\n",
    "if not mismatched_first_serve_rows:\n",
    "    print(\"Check passed for first serves.\")\n",
    "else:\n",
    "    print(\"Rows where first serve in and first serve zone are not found together: \" + str(mismatched_first_serve_rows))\n",
    "\n",
    "second_serve_row = shot_data.index[shot_data['secondServeIn'].notnull()]\n",
    "second_serve_placement_row = shot_data.index[shot_data['secondServeZone'].notnull()]\n",
    "mismatched_second_serve_rows = list(set(second_serve_row).difference(first_serve_placement_row))\n",
    "mismatched_second_serve_rows = [x+2 for x in mismatched_second_serve_rows]\n",
    "if not mismatched_second_serve_rows:\n",
    "    print(\"Check passed for second serves.\")\n",
    "else:\n",
    "    print(\"Rows where second serve in and second serve zone are not found together: \" + str(mismatched_second_serve_rows))"
   ]
  },
  {
   "cell_type": "markdown",
   "id": "bfbb8b2d-abc2-46bc-80eb-d78bd6f66fb9",
   "metadata": {},
   "source": [
    "### Add Column: serveResult, serveInPlacement"
   ]
  },
  {
   "cell_type": "code",
   "execution_count": 44,
   "id": "318eee77-8fa0-4da0-a8da-21656b027872",
   "metadata": {},
   "outputs": [],
   "source": [
    "conditions = [\n",
    "    (shot_data['isPointStart'] == 1) & (shot_data['firstServeIn'] == 1),\n",
    "    (shot_data['isPointStart'] == 1) & (shot_data['firstServeIn'] != 1) & (shot_data['secondServeIn'] == 1),\n",
    "    (shot_data['isPointStart'] == 1) & (shot_data['firstServeIn'] != 1) & (shot_data['secondServeIn'] != 1),]\n",
    "\n",
    "# Define the values to be assigned for each condition\n",
    "values_result = ['1st Serve In', '2nd Serve In', 'Double Fault']\n",
    "values_placement = [shot_data['firstServeZone'], shot_data['secondServeZone'], shot_data['secondServeZone']]\n",
    "\n",
    "# Use numpy.select to assign values based on conditions\n",
    "shot_data['serveResult'] = np.select(conditions, values_result, default='')\n",
    "shot_data['serveInPlacement'] = np.select(conditions, values_placement, default='')\n",
    "\n",
    "# Now shot_data DataFrame is updated with serveResult and serveInPlacement values where isPointStart is 1\n",
    "# print(shot_data[['serveResult', 'serveInPlacement','pointScore','side']].head(60))"
   ]
  },
  {
   "cell_type": "code",
   "execution_count": 45,
   "id": "2af189b3-2ae2-403a-91c4-a5367e417f86",
   "metadata": {},
   "outputs": [],
   "source": [
    "shot_data.replace(\"\", None, inplace=True)"
   ]
  },
  {
   "cell_type": "code",
   "execution_count": 46,
   "id": "b0f7c4e9",
   "metadata": {},
   "outputs": [
    {
     "data": {
      "text/plain": [
       "<bound method IndexOpsMixin.value_counts of 15      NaN\n",
       "247    Wide\n",
       "361    Body\n",
       "406       T\n",
       "789       T\n",
       "791       T\n",
       "809       T\n",
       "Name: serveInPlacement, dtype: object>"
      ]
     },
     "execution_count": 46,
     "metadata": {},
     "output_type": "execute_result"
    }
   ],
   "source": [
    "# shot_data.query(\"shotInRally == 1\")['serveResult'].unique()\n",
    "\n",
    "shot_data.loc[shot_data['serveResult'] == 'Double Fault', 'serveInPlacement'].value_counts"
   ]
  },
  {
   "cell_type": "markdown",
   "id": "808ebf9e",
   "metadata": {},
   "source": [
    "### Add Column: Depth"
   ]
  },
  {
   "cell_type": "code",
   "execution_count": 47,
   "id": "7d7ded73",
   "metadata": {},
   "outputs": [],
   "source": [
    "def depth_metric(shotInRally, x, y, side) :\n",
    "    \n",
    "    if (x >= -157.5) & (x <= 157.5):\n",
    "    \n",
    "        if side == 'Near':\n",
    "            if shotInRally % 2 == 0:\n",
    "                if -455 < y < -350: return 'Deep'\n",
    "                if -350 < y < 0: return 'Short'\n",
    "                if y < -455: return 'Long'\n",
    "\n",
    "            elif shotInRally % 2 == 1:\n",
    "                if 455 > y > 350: return 'Deep'\n",
    "                if 0 < y < 350: return 'Short'\n",
    "                if y > 455: return 'Long'\n",
    "\n",
    "        elif side == 'Far':\n",
    "            if shotInRally % 2 == 1:\n",
    "                if -455 < y < -350: return 'Deep'\n",
    "                if -350 < y < 0: return 'Short'\n",
    "                if y < -455: return 'Long'\n",
    "\n",
    "            elif shotInRally % 2 == 0:\n",
    "                if 455 > y > 350: return 'Deep'\n",
    "                if 0 < y < 350: return 'Short'\n",
    "                if y > 455: return 'Long'\n",
    "        \n",
    "shot_data['depth'] = shot_data.apply(lambda x: depth_metric(x['shotInRally'], x['shotLocationX'], x['shotLocationY'], x['serverFarNear']), axis=1)"
   ]
  },
  {
   "cell_type": "code",
   "execution_count": 48,
   "id": "364f2f6e",
   "metadata": {},
   "outputs": [
    {
     "data": {
      "text/plain": [
       "depth\n",
       "Short    398\n",
       "Deep     219\n",
       "Long      25\n",
       "Name: count, dtype: int64"
      ]
     },
     "execution_count": 48,
     "metadata": {},
     "output_type": "execute_result"
    }
   ],
   "source": [
    "shot_data[['shotInRally','serverFarNear', 'shotLocationY', 'depth']]['depth'].value_counts()"
   ]
  },
  {
   "cell_type": "code",
   "execution_count": 49,
   "id": "2071edaf",
   "metadata": {},
   "outputs": [
    {
     "data": {
      "text/html": [
       "<div>\n",
       "<style scoped>\n",
       "    .dataframe tbody tr th:only-of-type {\n",
       "        vertical-align: middle;\n",
       "    }\n",
       "\n",
       "    .dataframe tbody tr th {\n",
       "        vertical-align: top;\n",
       "    }\n",
       "\n",
       "    .dataframe thead th {\n",
       "        text-align: right;\n",
       "    }\n",
       "</style>\n",
       "<table border=\"1\" class=\"dataframe\">\n",
       "  <thead>\n",
       "    <tr style=\"text-align: right;\">\n",
       "      <th></th>\n",
       "      <th>pointScore</th>\n",
       "      <th>gameScore</th>\n",
       "      <th>setScore</th>\n",
       "      <th>isPointStart</th>\n",
       "      <th>pointStartTime</th>\n",
       "      <th>isPointEnd</th>\n",
       "      <th>pointEndTime</th>\n",
       "      <th>pointNumber</th>\n",
       "      <th>isBreakPoint</th>\n",
       "      <th>shotInRally</th>\n",
       "      <th>...</th>\n",
       "      <th>returnerName</th>\n",
       "      <th>shotHitBy</th>\n",
       "      <th>isInsideOut</th>\n",
       "      <th>isInsideIn</th>\n",
       "      <th>isDoubleFault</th>\n",
       "      <th>pointWonBy</th>\n",
       "      <th>lastShotError</th>\n",
       "      <th>serveResult</th>\n",
       "      <th>serveInPlacement</th>\n",
       "      <th>depth</th>\n",
       "    </tr>\n",
       "  </thead>\n",
       "  <tbody>\n",
       "    <tr>\n",
       "      <th>52</th>\n",
       "      <td>40-A</td>\n",
       "      <td>0-0</td>\n",
       "      <td>0-0</td>\n",
       "      <td>NaN</td>\n",
       "      <td>387090.0</td>\n",
       "      <td>1.0</td>\n",
       "      <td>NaN</td>\n",
       "      <td>8</td>\n",
       "      <td>NaN</td>\n",
       "      <td>4</td>\n",
       "      <td>...</td>\n",
       "      <td>Yuta Shimizu</td>\n",
       "      <td>Yuta Shimizu</td>\n",
       "      <td>None</td>\n",
       "      <td>None</td>\n",
       "      <td>None</td>\n",
       "      <td>Rudy Quan</td>\n",
       "      <td>1</td>\n",
       "      <td>None</td>\n",
       "      <td>None</td>\n",
       "      <td>Long</td>\n",
       "    </tr>\n",
       "    <tr>\n",
       "      <th>62</th>\n",
       "      <td>40-40</td>\n",
       "      <td>0-0</td>\n",
       "      <td>0-0</td>\n",
       "      <td>NaN</td>\n",
       "      <td>427462.0</td>\n",
       "      <td>1.0</td>\n",
       "      <td>NaN</td>\n",
       "      <td>9</td>\n",
       "      <td>NaN</td>\n",
       "      <td>10</td>\n",
       "      <td>...</td>\n",
       "      <td>Yuta Shimizu</td>\n",
       "      <td>Yuta Shimizu</td>\n",
       "      <td>None</td>\n",
       "      <td>None</td>\n",
       "      <td>None</td>\n",
       "      <td>Rudy Quan</td>\n",
       "      <td>1</td>\n",
       "      <td>None</td>\n",
       "      <td>None</td>\n",
       "      <td>Long</td>\n",
       "    </tr>\n",
       "    <tr>\n",
       "      <th>89</th>\n",
       "      <td>40-40</td>\n",
       "      <td>0-0</td>\n",
       "      <td>0-0</td>\n",
       "      <td>NaN</td>\n",
       "      <td>635707.0</td>\n",
       "      <td>1.0</td>\n",
       "      <td>NaN</td>\n",
       "      <td>15</td>\n",
       "      <td>NaN</td>\n",
       "      <td>2</td>\n",
       "      <td>...</td>\n",
       "      <td>Yuta Shimizu</td>\n",
       "      <td>Yuta Shimizu</td>\n",
       "      <td>None</td>\n",
       "      <td>None</td>\n",
       "      <td>None</td>\n",
       "      <td>Rudy Quan</td>\n",
       "      <td>1</td>\n",
       "      <td>None</td>\n",
       "      <td>None</td>\n",
       "      <td>Long</td>\n",
       "    </tr>\n",
       "    <tr>\n",
       "      <th>103</th>\n",
       "      <td>A-40</td>\n",
       "      <td>0-0</td>\n",
       "      <td>0-0</td>\n",
       "      <td>NaN</td>\n",
       "      <td>751952.0</td>\n",
       "      <td>1.0</td>\n",
       "      <td>NaN</td>\n",
       "      <td>18</td>\n",
       "      <td>NaN</td>\n",
       "      <td>3</td>\n",
       "      <td>...</td>\n",
       "      <td>Yuta Shimizu</td>\n",
       "      <td>Rudy Quan</td>\n",
       "      <td>None</td>\n",
       "      <td>None</td>\n",
       "      <td>None</td>\n",
       "      <td>Yuta Shimizu</td>\n",
       "      <td>1</td>\n",
       "      <td>None</td>\n",
       "      <td>None</td>\n",
       "      <td>Long</td>\n",
       "    </tr>\n",
       "    <tr>\n",
       "      <th>203</th>\n",
       "      <td>30-40</td>\n",
       "      <td>2-0</td>\n",
       "      <td>0-0</td>\n",
       "      <td>NaN</td>\n",
       "      <td>1299219.0</td>\n",
       "      <td>1.0</td>\n",
       "      <td>NaN</td>\n",
       "      <td>31</td>\n",
       "      <td>NaN</td>\n",
       "      <td>7</td>\n",
       "      <td>...</td>\n",
       "      <td>Yuta Shimizu</td>\n",
       "      <td>Rudy Quan</td>\n",
       "      <td>1</td>\n",
       "      <td>None</td>\n",
       "      <td>None</td>\n",
       "      <td>Yuta Shimizu</td>\n",
       "      <td>1</td>\n",
       "      <td>None</td>\n",
       "      <td>None</td>\n",
       "      <td>Long</td>\n",
       "    </tr>\n",
       "    <tr>\n",
       "      <th>242</th>\n",
       "      <td>0-30</td>\n",
       "      <td>2-1</td>\n",
       "      <td>0-0</td>\n",
       "      <td>NaN</td>\n",
       "      <td>1517069.0</td>\n",
       "      <td>1.0</td>\n",
       "      <td>NaN</td>\n",
       "      <td>34</td>\n",
       "      <td>NaN</td>\n",
       "      <td>5</td>\n",
       "      <td>...</td>\n",
       "      <td>Rudy Quan</td>\n",
       "      <td>Yuta Shimizu</td>\n",
       "      <td>None</td>\n",
       "      <td>1</td>\n",
       "      <td>None</td>\n",
       "      <td>Rudy Quan</td>\n",
       "      <td>1</td>\n",
       "      <td>None</td>\n",
       "      <td>None</td>\n",
       "      <td>Long</td>\n",
       "    </tr>\n",
       "    <tr>\n",
       "      <th>268</th>\n",
       "      <td>15-30</td>\n",
       "      <td>2-2</td>\n",
       "      <td>0-0</td>\n",
       "      <td>NaN</td>\n",
       "      <td>1727896.0</td>\n",
       "      <td>1.0</td>\n",
       "      <td>NaN</td>\n",
       "      <td>40</td>\n",
       "      <td>NaN</td>\n",
       "      <td>5</td>\n",
       "      <td>...</td>\n",
       "      <td>Yuta Shimizu</td>\n",
       "      <td>Rudy Quan</td>\n",
       "      <td>None</td>\n",
       "      <td>1</td>\n",
       "      <td>None</td>\n",
       "      <td>Yuta Shimizu</td>\n",
       "      <td>1</td>\n",
       "      <td>None</td>\n",
       "      <td>None</td>\n",
       "      <td>Long</td>\n",
       "    </tr>\n",
       "    <tr>\n",
       "      <th>360</th>\n",
       "      <td>0-15</td>\n",
       "      <td>3-4</td>\n",
       "      <td>0-0</td>\n",
       "      <td>NaN</td>\n",
       "      <td>2411036.0</td>\n",
       "      <td>1.0</td>\n",
       "      <td>NaN</td>\n",
       "      <td>54</td>\n",
       "      <td>NaN</td>\n",
       "      <td>5</td>\n",
       "      <td>...</td>\n",
       "      <td>Rudy Quan</td>\n",
       "      <td>Yuta Shimizu</td>\n",
       "      <td>None</td>\n",
       "      <td>None</td>\n",
       "      <td>None</td>\n",
       "      <td>Rudy Quan</td>\n",
       "      <td>1</td>\n",
       "      <td>None</td>\n",
       "      <td>None</td>\n",
       "      <td>Long</td>\n",
       "    </tr>\n",
       "    <tr>\n",
       "      <th>446</th>\n",
       "      <td>15-30</td>\n",
       "      <td>4-5</td>\n",
       "      <td>0-0</td>\n",
       "      <td>NaN</td>\n",
       "      <td>3020553.0</td>\n",
       "      <td>1.0</td>\n",
       "      <td>NaN</td>\n",
       "      <td>68</td>\n",
       "      <td>NaN</td>\n",
       "      <td>5</td>\n",
       "      <td>...</td>\n",
       "      <td>Rudy Quan</td>\n",
       "      <td>Yuta Shimizu</td>\n",
       "      <td>None</td>\n",
       "      <td>None</td>\n",
       "      <td>None</td>\n",
       "      <td>Rudy Quan</td>\n",
       "      <td>1</td>\n",
       "      <td>None</td>\n",
       "      <td>None</td>\n",
       "      <td>Long</td>\n",
       "    </tr>\n",
       "    <tr>\n",
       "      <th>478</th>\n",
       "      <td>40-40</td>\n",
       "      <td>4-5</td>\n",
       "      <td>0-0</td>\n",
       "      <td>NaN</td>\n",
       "      <td>NaN</td>\n",
       "      <td>1.0</td>\n",
       "      <td>NaN</td>\n",
       "      <td>71</td>\n",
       "      <td>NaN</td>\n",
       "      <td>7</td>\n",
       "      <td>...</td>\n",
       "      <td>Rudy Quan</td>\n",
       "      <td>Yuta Shimizu</td>\n",
       "      <td>None</td>\n",
       "      <td>None</td>\n",
       "      <td>None</td>\n",
       "      <td>Rudy Quan</td>\n",
       "      <td>1</td>\n",
       "      <td>None</td>\n",
       "      <td>None</td>\n",
       "      <td>Long</td>\n",
       "    </tr>\n",
       "    <tr>\n",
       "      <th>532</th>\n",
       "      <td>0-15</td>\n",
       "      <td>0-1</td>\n",
       "      <td>0-1</td>\n",
       "      <td>NaN</td>\n",
       "      <td>3737517.0</td>\n",
       "      <td>1.0</td>\n",
       "      <td>NaN</td>\n",
       "      <td>82</td>\n",
       "      <td>NaN</td>\n",
       "      <td>2</td>\n",
       "      <td>...</td>\n",
       "      <td>Rudy Quan</td>\n",
       "      <td>Rudy Quan</td>\n",
       "      <td>None</td>\n",
       "      <td>None</td>\n",
       "      <td>None</td>\n",
       "      <td>Yuta Shimizu</td>\n",
       "      <td>1</td>\n",
       "      <td>None</td>\n",
       "      <td>None</td>\n",
       "      <td>Long</td>\n",
       "    </tr>\n",
       "    <tr>\n",
       "      <th>545</th>\n",
       "      <td>30-30</td>\n",
       "      <td>0-1</td>\n",
       "      <td>0-1</td>\n",
       "      <td>NaN</td>\n",
       "      <td>3834720.0</td>\n",
       "      <td>1.0</td>\n",
       "      <td>NaN</td>\n",
       "      <td>85</td>\n",
       "      <td>NaN</td>\n",
       "      <td>7</td>\n",
       "      <td>...</td>\n",
       "      <td>Rudy Quan</td>\n",
       "      <td>Yuta Shimizu</td>\n",
       "      <td>None</td>\n",
       "      <td>None</td>\n",
       "      <td>None</td>\n",
       "      <td>Rudy Quan</td>\n",
       "      <td>1</td>\n",
       "      <td>None</td>\n",
       "      <td>None</td>\n",
       "      <td>Long</td>\n",
       "    </tr>\n",
       "    <tr>\n",
       "      <th>578</th>\n",
       "      <td>0-0</td>\n",
       "      <td>1-1</td>\n",
       "      <td>0-1</td>\n",
       "      <td>NaN</td>\n",
       "      <td>3993135.0</td>\n",
       "      <td>1.0</td>\n",
       "      <td>NaN</td>\n",
       "      <td>89</td>\n",
       "      <td>NaN</td>\n",
       "      <td>8</td>\n",
       "      <td>...</td>\n",
       "      <td>Yuta Shimizu</td>\n",
       "      <td>Yuta Shimizu</td>\n",
       "      <td>None</td>\n",
       "      <td>None</td>\n",
       "      <td>None</td>\n",
       "      <td>Rudy Quan</td>\n",
       "      <td>1</td>\n",
       "      <td>None</td>\n",
       "      <td>None</td>\n",
       "      <td>Long</td>\n",
       "    </tr>\n",
       "    <tr>\n",
       "      <th>582</th>\n",
       "      <td>15-0</td>\n",
       "      <td>1-1</td>\n",
       "      <td>1-1</td>\n",
       "      <td>NaN</td>\n",
       "      <td>4025746.0</td>\n",
       "      <td>1.0</td>\n",
       "      <td>NaN</td>\n",
       "      <td>90</td>\n",
       "      <td>NaN</td>\n",
       "      <td>4</td>\n",
       "      <td>...</td>\n",
       "      <td>Yuta Shimizu</td>\n",
       "      <td>Yuta Shimizu</td>\n",
       "      <td>1</td>\n",
       "      <td>None</td>\n",
       "      <td>None</td>\n",
       "      <td>Rudy Quan</td>\n",
       "      <td>1</td>\n",
       "      <td>None</td>\n",
       "      <td>None</td>\n",
       "      <td>Long</td>\n",
       "    </tr>\n",
       "    <tr>\n",
       "      <th>590</th>\n",
       "      <td>30-15</td>\n",
       "      <td>1-1</td>\n",
       "      <td>1-1</td>\n",
       "      <td>NaN</td>\n",
       "      <td>4117953.0</td>\n",
       "      <td>1.0</td>\n",
       "      <td>NaN</td>\n",
       "      <td>92</td>\n",
       "      <td>NaN</td>\n",
       "      <td>5</td>\n",
       "      <td>...</td>\n",
       "      <td>Yuta Shimizu</td>\n",
       "      <td>Rudy Quan</td>\n",
       "      <td>None</td>\n",
       "      <td>None</td>\n",
       "      <td>None</td>\n",
       "      <td>Yuta Shimizu</td>\n",
       "      <td>1</td>\n",
       "      <td>None</td>\n",
       "      <td>None</td>\n",
       "      <td>Long</td>\n",
       "    </tr>\n",
       "    <tr>\n",
       "      <th>601</th>\n",
       "      <td>30-30</td>\n",
       "      <td>1-1</td>\n",
       "      <td>1-1</td>\n",
       "      <td>NaN</td>\n",
       "      <td>4189574.0</td>\n",
       "      <td>1.0</td>\n",
       "      <td>NaN</td>\n",
       "      <td>93</td>\n",
       "      <td>NaN</td>\n",
       "      <td>3</td>\n",
       "      <td>...</td>\n",
       "      <td>Yuta Shimizu</td>\n",
       "      <td>Rudy Quan</td>\n",
       "      <td>None</td>\n",
       "      <td>None</td>\n",
       "      <td>None</td>\n",
       "      <td>Yuta Shimizu</td>\n",
       "      <td>1</td>\n",
       "      <td>None</td>\n",
       "      <td>None</td>\n",
       "      <td>Long</td>\n",
       "    </tr>\n",
       "    <tr>\n",
       "      <th>619</th>\n",
       "      <td>40-40</td>\n",
       "      <td>1-1</td>\n",
       "      <td>0-1</td>\n",
       "      <td>NaN</td>\n",
       "      <td>4322279.0</td>\n",
       "      <td>1.0</td>\n",
       "      <td>NaN</td>\n",
       "      <td>97</td>\n",
       "      <td>NaN</td>\n",
       "      <td>2</td>\n",
       "      <td>...</td>\n",
       "      <td>Yuta Shimizu</td>\n",
       "      <td>Yuta Shimizu</td>\n",
       "      <td>None</td>\n",
       "      <td>1</td>\n",
       "      <td>None</td>\n",
       "      <td>Rudy Quan</td>\n",
       "      <td>1</td>\n",
       "      <td>None</td>\n",
       "      <td>None</td>\n",
       "      <td>Long</td>\n",
       "    </tr>\n",
       "    <tr>\n",
       "      <th>626</th>\n",
       "      <td>A-40</td>\n",
       "      <td>1-1</td>\n",
       "      <td>0-1</td>\n",
       "      <td>NaN</td>\n",
       "      <td>4365950.0</td>\n",
       "      <td>1.0</td>\n",
       "      <td>NaN</td>\n",
       "      <td>98</td>\n",
       "      <td>NaN</td>\n",
       "      <td>7</td>\n",
       "      <td>...</td>\n",
       "      <td>Yuta Shimizu</td>\n",
       "      <td>Rudy Quan</td>\n",
       "      <td>None</td>\n",
       "      <td>None</td>\n",
       "      <td>None</td>\n",
       "      <td>Yuta Shimizu</td>\n",
       "      <td>1</td>\n",
       "      <td>None</td>\n",
       "      <td>None</td>\n",
       "      <td>Long</td>\n",
       "    </tr>\n",
       "    <tr>\n",
       "      <th>669</th>\n",
       "      <td>15-0</td>\n",
       "      <td>2-1</td>\n",
       "      <td>0-1</td>\n",
       "      <td>NaN</td>\n",
       "      <td>4705510.0</td>\n",
       "      <td>1.0</td>\n",
       "      <td>NaN</td>\n",
       "      <td>104</td>\n",
       "      <td>NaN</td>\n",
       "      <td>9</td>\n",
       "      <td>...</td>\n",
       "      <td>Rudy Quan</td>\n",
       "      <td>Yuta Shimizu</td>\n",
       "      <td>None</td>\n",
       "      <td>None</td>\n",
       "      <td>None</td>\n",
       "      <td>Rudy Quan</td>\n",
       "      <td>1</td>\n",
       "      <td>None</td>\n",
       "      <td>None</td>\n",
       "      <td>Long</td>\n",
       "    </tr>\n",
       "    <tr>\n",
       "      <th>679</th>\n",
       "      <td>30-15</td>\n",
       "      <td>2-1</td>\n",
       "      <td>0-1</td>\n",
       "      <td>NaN</td>\n",
       "      <td>4793591.0</td>\n",
       "      <td>1.0</td>\n",
       "      <td>NaN</td>\n",
       "      <td>106</td>\n",
       "      <td>NaN</td>\n",
       "      <td>4</td>\n",
       "      <td>...</td>\n",
       "      <td>Rudy Quan</td>\n",
       "      <td>Rudy Quan</td>\n",
       "      <td>None</td>\n",
       "      <td>None</td>\n",
       "      <td>None</td>\n",
       "      <td>Yuta Shimizu</td>\n",
       "      <td>1</td>\n",
       "      <td>None</td>\n",
       "      <td>None</td>\n",
       "      <td>Long</td>\n",
       "    </tr>\n",
       "    <tr>\n",
       "      <th>692</th>\n",
       "      <td>40-30</td>\n",
       "      <td>2-1</td>\n",
       "      <td>0-1</td>\n",
       "      <td>NaN</td>\n",
       "      <td>4876895.0</td>\n",
       "      <td>1.0</td>\n",
       "      <td>NaN</td>\n",
       "      <td>108</td>\n",
       "      <td>NaN</td>\n",
       "      <td>7</td>\n",
       "      <td>...</td>\n",
       "      <td>Rudy Quan</td>\n",
       "      <td>Yuta Shimizu</td>\n",
       "      <td>None</td>\n",
       "      <td>None</td>\n",
       "      <td>None</td>\n",
       "      <td>Rudy Quan</td>\n",
       "      <td>1</td>\n",
       "      <td>None</td>\n",
       "      <td>None</td>\n",
       "      <td>Long</td>\n",
       "    </tr>\n",
       "    <tr>\n",
       "      <th>697</th>\n",
       "      <td>0-0</td>\n",
       "      <td>3-1</td>\n",
       "      <td>0-1</td>\n",
       "      <td>NaN</td>\n",
       "      <td>4949081.0</td>\n",
       "      <td>1.0</td>\n",
       "      <td>NaN</td>\n",
       "      <td>109</td>\n",
       "      <td>NaN</td>\n",
       "      <td>5</td>\n",
       "      <td>...</td>\n",
       "      <td>Yuta Shimizu</td>\n",
       "      <td>Rudy Quan</td>\n",
       "      <td>None</td>\n",
       "      <td>None</td>\n",
       "      <td>None</td>\n",
       "      <td>Yuta Shimizu</td>\n",
       "      <td>1</td>\n",
       "      <td>None</td>\n",
       "      <td>None</td>\n",
       "      <td>Long</td>\n",
       "    </tr>\n",
       "    <tr>\n",
       "      <th>815</th>\n",
       "      <td>15-15</td>\n",
       "      <td>3-4</td>\n",
       "      <td>0-1</td>\n",
       "      <td>NaN</td>\n",
       "      <td>5944610.0</td>\n",
       "      <td>1.0</td>\n",
       "      <td>NaN</td>\n",
       "      <td>127</td>\n",
       "      <td>NaN</td>\n",
       "      <td>2</td>\n",
       "      <td>...</td>\n",
       "      <td>Rudy Quan</td>\n",
       "      <td>Rudy Quan</td>\n",
       "      <td>None</td>\n",
       "      <td>None</td>\n",
       "      <td>None</td>\n",
       "      <td>Yuta Shimizu</td>\n",
       "      <td>1</td>\n",
       "      <td>None</td>\n",
       "      <td>None</td>\n",
       "      <td>Long</td>\n",
       "    </tr>\n",
       "    <tr>\n",
       "      <th>827</th>\n",
       "      <td>15-40</td>\n",
       "      <td>3-4</td>\n",
       "      <td>0-1</td>\n",
       "      <td>NaN</td>\n",
       "      <td>6001814.0</td>\n",
       "      <td>1.0</td>\n",
       "      <td>NaN</td>\n",
       "      <td>129</td>\n",
       "      <td>NaN</td>\n",
       "      <td>6</td>\n",
       "      <td>...</td>\n",
       "      <td>Rudy Quan</td>\n",
       "      <td>Rudy Quan</td>\n",
       "      <td>None</td>\n",
       "      <td>None</td>\n",
       "      <td>None</td>\n",
       "      <td>Yuta Shimizu</td>\n",
       "      <td>1</td>\n",
       "      <td>None</td>\n",
       "      <td>None</td>\n",
       "      <td>Long</td>\n",
       "    </tr>\n",
       "    <tr>\n",
       "      <th>834</th>\n",
       "      <td>0-15</td>\n",
       "      <td>3-5</td>\n",
       "      <td>0-1</td>\n",
       "      <td>NaN</td>\n",
       "      <td>6092055.0</td>\n",
       "      <td>1.0</td>\n",
       "      <td>NaN</td>\n",
       "      <td>131</td>\n",
       "      <td>NaN</td>\n",
       "      <td>3</td>\n",
       "      <td>...</td>\n",
       "      <td>Yuta Shimizu</td>\n",
       "      <td>Rudy Quan</td>\n",
       "      <td>None</td>\n",
       "      <td>1</td>\n",
       "      <td>None</td>\n",
       "      <td>Yuta Shimizu</td>\n",
       "      <td>1</td>\n",
       "      <td>None</td>\n",
       "      <td>None</td>\n",
       "      <td>Long</td>\n",
       "    </tr>\n",
       "  </tbody>\n",
       "</table>\n",
       "<p>25 rows × 68 columns</p>\n",
       "</div>"
      ],
      "text/plain": [
       "    pointScore gameScore setScore  isPointStart  pointStartTime  isPointEnd  \\\n",
       "52        40-A       0-0      0-0           NaN        387090.0         1.0   \n",
       "62       40-40       0-0      0-0           NaN        427462.0         1.0   \n",
       "89       40-40       0-0      0-0           NaN        635707.0         1.0   \n",
       "103       A-40       0-0      0-0           NaN        751952.0         1.0   \n",
       "203      30-40       2-0      0-0           NaN       1299219.0         1.0   \n",
       "242       0-30       2-1      0-0           NaN       1517069.0         1.0   \n",
       "268      15-30       2-2      0-0           NaN       1727896.0         1.0   \n",
       "360       0-15       3-4      0-0           NaN       2411036.0         1.0   \n",
       "446      15-30       4-5      0-0           NaN       3020553.0         1.0   \n",
       "478      40-40       4-5      0-0           NaN             NaN         1.0   \n",
       "532       0-15       0-1      0-1           NaN       3737517.0         1.0   \n",
       "545      30-30       0-1      0-1           NaN       3834720.0         1.0   \n",
       "578        0-0       1-1      0-1           NaN       3993135.0         1.0   \n",
       "582       15-0       1-1      1-1           NaN       4025746.0         1.0   \n",
       "590      30-15       1-1      1-1           NaN       4117953.0         1.0   \n",
       "601      30-30       1-1      1-1           NaN       4189574.0         1.0   \n",
       "619      40-40       1-1      0-1           NaN       4322279.0         1.0   \n",
       "626       A-40       1-1      0-1           NaN       4365950.0         1.0   \n",
       "669       15-0       2-1      0-1           NaN       4705510.0         1.0   \n",
       "679      30-15       2-1      0-1           NaN       4793591.0         1.0   \n",
       "692      40-30       2-1      0-1           NaN       4876895.0         1.0   \n",
       "697        0-0       3-1      0-1           NaN       4949081.0         1.0   \n",
       "815      15-15       3-4      0-1           NaN       5944610.0         1.0   \n",
       "827      15-40       3-4      0-1           NaN       6001814.0         1.0   \n",
       "834       0-15       3-5      0-1           NaN       6092055.0         1.0   \n",
       "\n",
       "     pointEndTime  pointNumber  isBreakPoint  shotInRally  ...  returnerName  \\\n",
       "52            NaN            8           NaN            4  ...  Yuta Shimizu   \n",
       "62            NaN            9           NaN           10  ...  Yuta Shimizu   \n",
       "89            NaN           15           NaN            2  ...  Yuta Shimizu   \n",
       "103           NaN           18           NaN            3  ...  Yuta Shimizu   \n",
       "203           NaN           31           NaN            7  ...  Yuta Shimizu   \n",
       "242           NaN           34           NaN            5  ...     Rudy Quan   \n",
       "268           NaN           40           NaN            5  ...  Yuta Shimizu   \n",
       "360           NaN           54           NaN            5  ...     Rudy Quan   \n",
       "446           NaN           68           NaN            5  ...     Rudy Quan   \n",
       "478           NaN           71           NaN            7  ...     Rudy Quan   \n",
       "532           NaN           82           NaN            2  ...     Rudy Quan   \n",
       "545           NaN           85           NaN            7  ...     Rudy Quan   \n",
       "578           NaN           89           NaN            8  ...  Yuta Shimizu   \n",
       "582           NaN           90           NaN            4  ...  Yuta Shimizu   \n",
       "590           NaN           92           NaN            5  ...  Yuta Shimizu   \n",
       "601           NaN           93           NaN            3  ...  Yuta Shimizu   \n",
       "619           NaN           97           NaN            2  ...  Yuta Shimizu   \n",
       "626           NaN           98           NaN            7  ...  Yuta Shimizu   \n",
       "669           NaN          104           NaN            9  ...     Rudy Quan   \n",
       "679           NaN          106           NaN            4  ...     Rudy Quan   \n",
       "692           NaN          108           NaN            7  ...     Rudy Quan   \n",
       "697           NaN          109           NaN            5  ...  Yuta Shimizu   \n",
       "815           NaN          127           NaN            2  ...     Rudy Quan   \n",
       "827           NaN          129           NaN            6  ...     Rudy Quan   \n",
       "834           NaN          131           NaN            3  ...  Yuta Shimizu   \n",
       "\n",
       "        shotHitBy isInsideOut  isInsideIn isDoubleFault    pointWonBy  \\\n",
       "52   Yuta Shimizu        None        None          None     Rudy Quan   \n",
       "62   Yuta Shimizu        None        None          None     Rudy Quan   \n",
       "89   Yuta Shimizu        None        None          None     Rudy Quan   \n",
       "103     Rudy Quan        None        None          None  Yuta Shimizu   \n",
       "203     Rudy Quan           1        None          None  Yuta Shimizu   \n",
       "242  Yuta Shimizu        None           1          None     Rudy Quan   \n",
       "268     Rudy Quan        None           1          None  Yuta Shimizu   \n",
       "360  Yuta Shimizu        None        None          None     Rudy Quan   \n",
       "446  Yuta Shimizu        None        None          None     Rudy Quan   \n",
       "478  Yuta Shimizu        None        None          None     Rudy Quan   \n",
       "532     Rudy Quan        None        None          None  Yuta Shimizu   \n",
       "545  Yuta Shimizu        None        None          None     Rudy Quan   \n",
       "578  Yuta Shimizu        None        None          None     Rudy Quan   \n",
       "582  Yuta Shimizu           1        None          None     Rudy Quan   \n",
       "590     Rudy Quan        None        None          None  Yuta Shimizu   \n",
       "601     Rudy Quan        None        None          None  Yuta Shimizu   \n",
       "619  Yuta Shimizu        None           1          None     Rudy Quan   \n",
       "626     Rudy Quan        None        None          None  Yuta Shimizu   \n",
       "669  Yuta Shimizu        None        None          None     Rudy Quan   \n",
       "679     Rudy Quan        None        None          None  Yuta Shimizu   \n",
       "692  Yuta Shimizu        None        None          None     Rudy Quan   \n",
       "697     Rudy Quan        None        None          None  Yuta Shimizu   \n",
       "815     Rudy Quan        None        None          None  Yuta Shimizu   \n",
       "827     Rudy Quan        None        None          None  Yuta Shimizu   \n",
       "834     Rudy Quan        None           1          None  Yuta Shimizu   \n",
       "\n",
       "     lastShotError  serveResult serveInPlacement  depth  \n",
       "52               1         None             None   Long  \n",
       "62               1         None             None   Long  \n",
       "89               1         None             None   Long  \n",
       "103              1         None             None   Long  \n",
       "203              1         None             None   Long  \n",
       "242              1         None             None   Long  \n",
       "268              1         None             None   Long  \n",
       "360              1         None             None   Long  \n",
       "446              1         None             None   Long  \n",
       "478              1         None             None   Long  \n",
       "532              1         None             None   Long  \n",
       "545              1         None             None   Long  \n",
       "578              1         None             None   Long  \n",
       "582              1         None             None   Long  \n",
       "590              1         None             None   Long  \n",
       "601              1         None             None   Long  \n",
       "619              1         None             None   Long  \n",
       "626              1         None             None   Long  \n",
       "669              1         None             None   Long  \n",
       "679              1         None             None   Long  \n",
       "692              1         None             None   Long  \n",
       "697              1         None             None   Long  \n",
       "815              1         None             None   Long  \n",
       "827              1         None             None   Long  \n",
       "834              1         None             None   Long  \n",
       "\n",
       "[25 rows x 68 columns]"
      ]
     },
     "execution_count": 49,
     "metadata": {},
     "output_type": "execute_result"
    }
   ],
   "source": [
    "shot_data[shot_data['depth'] == 'Long']"
   ]
  },
  {
   "cell_type": "code",
   "execution_count": 50,
   "id": "813caf4a",
   "metadata": {},
   "outputs": [
    {
     "data": {
      "text/html": [
       "<div>\n",
       "<style scoped>\n",
       "    .dataframe tbody tr th:only-of-type {\n",
       "        vertical-align: middle;\n",
       "    }\n",
       "\n",
       "    .dataframe tbody tr th {\n",
       "        vertical-align: top;\n",
       "    }\n",
       "\n",
       "    .dataframe thead th {\n",
       "        text-align: right;\n",
       "    }\n",
       "</style>\n",
       "<table border=\"1\" class=\"dataframe\">\n",
       "  <thead>\n",
       "    <tr style=\"text-align: right;\">\n",
       "      <th></th>\n",
       "      <th>shotLocationX</th>\n",
       "      <th>shotLocationY</th>\n",
       "    </tr>\n",
       "  </thead>\n",
       "  <tbody>\n",
       "    <tr>\n",
       "      <th>48</th>\n",
       "      <td>-168.0</td>\n",
       "      <td>493.0</td>\n",
       "    </tr>\n",
       "    <tr>\n",
       "      <th>52</th>\n",
       "      <td>93.0</td>\n",
       "      <td>-522.0</td>\n",
       "    </tr>\n",
       "    <tr>\n",
       "      <th>62</th>\n",
       "      <td>-139.0</td>\n",
       "      <td>-528.0</td>\n",
       "    </tr>\n",
       "    <tr>\n",
       "      <th>89</th>\n",
       "      <td>88.0</td>\n",
       "      <td>-490.0</td>\n",
       "    </tr>\n",
       "    <tr>\n",
       "      <th>103</th>\n",
       "      <td>59.0</td>\n",
       "      <td>482.0</td>\n",
       "    </tr>\n",
       "    <tr>\n",
       "      <th>147</th>\n",
       "      <td>-160.0</td>\n",
       "      <td>496.0</td>\n",
       "    </tr>\n",
       "    <tr>\n",
       "      <th>203</th>\n",
       "      <td>-119.0</td>\n",
       "      <td>-506.0</td>\n",
       "    </tr>\n",
       "    <tr>\n",
       "      <th>242</th>\n",
       "      <td>-119.0</td>\n",
       "      <td>-498.0</td>\n",
       "    </tr>\n",
       "    <tr>\n",
       "      <th>261</th>\n",
       "      <td>-130.0</td>\n",
       "      <td>-466.0</td>\n",
       "    </tr>\n",
       "    <tr>\n",
       "      <th>268</th>\n",
       "      <td>-135.0</td>\n",
       "      <td>506.0</td>\n",
       "    </tr>\n",
       "    <tr>\n",
       "      <th>360</th>\n",
       "      <td>-104.0</td>\n",
       "      <td>-504.0</td>\n",
       "    </tr>\n",
       "    <tr>\n",
       "      <th>446</th>\n",
       "      <td>-98.0</td>\n",
       "      <td>501.0</td>\n",
       "    </tr>\n",
       "    <tr>\n",
       "      <th>471</th>\n",
       "      <td>-196.0</td>\n",
       "      <td>-509.0</td>\n",
       "    </tr>\n",
       "    <tr>\n",
       "      <th>478</th>\n",
       "      <td>-114.0</td>\n",
       "      <td>473.0</td>\n",
       "    </tr>\n",
       "    <tr>\n",
       "      <th>532</th>\n",
       "      <td>-88.0</td>\n",
       "      <td>477.0</td>\n",
       "    </tr>\n",
       "    <tr>\n",
       "      <th>545</th>\n",
       "      <td>80.0</td>\n",
       "      <td>-490.0</td>\n",
       "    </tr>\n",
       "    <tr>\n",
       "      <th>578</th>\n",
       "      <td>52.0</td>\n",
       "      <td>-487.0</td>\n",
       "    </tr>\n",
       "    <tr>\n",
       "      <th>582</th>\n",
       "      <td>7.0</td>\n",
       "      <td>-479.0</td>\n",
       "    </tr>\n",
       "    <tr>\n",
       "      <th>590</th>\n",
       "      <td>-126.0</td>\n",
       "      <td>499.0</td>\n",
       "    </tr>\n",
       "    <tr>\n",
       "      <th>601</th>\n",
       "      <td>20.0</td>\n",
       "      <td>501.0</td>\n",
       "    </tr>\n",
       "    <tr>\n",
       "      <th>619</th>\n",
       "      <td>-123.0</td>\n",
       "      <td>-484.0</td>\n",
       "    </tr>\n",
       "    <tr>\n",
       "      <th>626</th>\n",
       "      <td>111.0</td>\n",
       "      <td>480.0</td>\n",
       "    </tr>\n",
       "    <tr>\n",
       "      <th>669</th>\n",
       "      <td>67.0</td>\n",
       "      <td>475.0</td>\n",
       "    </tr>\n",
       "    <tr>\n",
       "      <th>679</th>\n",
       "      <td>-13.0</td>\n",
       "      <td>-523.0</td>\n",
       "    </tr>\n",
       "    <tr>\n",
       "      <th>692</th>\n",
       "      <td>-75.0</td>\n",
       "      <td>472.0</td>\n",
       "    </tr>\n",
       "    <tr>\n",
       "      <th>697</th>\n",
       "      <td>-11.0</td>\n",
       "      <td>-470.0</td>\n",
       "    </tr>\n",
       "    <tr>\n",
       "      <th>718</th>\n",
       "      <td>168.0</td>\n",
       "      <td>-483.0</td>\n",
       "    </tr>\n",
       "    <tr>\n",
       "      <th>815</th>\n",
       "      <td>22.0</td>\n",
       "      <td>-544.0</td>\n",
       "    </tr>\n",
       "    <tr>\n",
       "      <th>827</th>\n",
       "      <td>59.0</td>\n",
       "      <td>-504.0</td>\n",
       "    </tr>\n",
       "    <tr>\n",
       "      <th>834</th>\n",
       "      <td>112.0</td>\n",
       "      <td>-498.0</td>\n",
       "    </tr>\n",
       "  </tbody>\n",
       "</table>\n",
       "</div>"
      ],
      "text/plain": [
       "     shotLocationX  shotLocationY\n",
       "48          -168.0          493.0\n",
       "52            93.0         -522.0\n",
       "62          -139.0         -528.0\n",
       "89            88.0         -490.0\n",
       "103           59.0          482.0\n",
       "147         -160.0          496.0\n",
       "203         -119.0         -506.0\n",
       "242         -119.0         -498.0\n",
       "261         -130.0         -466.0\n",
       "268         -135.0          506.0\n",
       "360         -104.0         -504.0\n",
       "446          -98.0          501.0\n",
       "471         -196.0         -509.0\n",
       "478         -114.0          473.0\n",
       "532          -88.0          477.0\n",
       "545           80.0         -490.0\n",
       "578           52.0         -487.0\n",
       "582            7.0         -479.0\n",
       "590         -126.0          499.0\n",
       "601           20.0          501.0\n",
       "619         -123.0         -484.0\n",
       "626          111.0          480.0\n",
       "669           67.0          475.0\n",
       "679          -13.0         -523.0\n",
       "692          -75.0          472.0\n",
       "697          -11.0         -470.0\n",
       "718          168.0         -483.0\n",
       "815           22.0         -544.0\n",
       "827           59.0         -504.0\n",
       "834          112.0         -498.0"
      ]
     },
     "execution_count": 50,
     "metadata": {},
     "output_type": "execute_result"
    }
   ],
   "source": [
    "shot_data[shot_data['isErrorLong'] == 1][['shotLocationX', 'shotLocationY']]"
   ]
  },
  {
   "cell_type": "markdown",
   "id": "6efac920",
   "metadata": {},
   "source": [
    "### Add Column: isAprroach"
   ]
  },
  {
   "cell_type": "code",
   "execution_count": null,
   "id": "d71e3e52",
   "metadata": {},
   "outputs": [],
   "source": []
  },
  {
   "cell_type": "code",
   "execution_count": null,
   "id": "75b32b17",
   "metadata": {},
   "outputs": [],
   "source": []
  },
  {
   "cell_type": "markdown",
   "id": "10658bcb-6b73-487c-bb7a-26b280781f10",
   "metadata": {},
   "source": [
    "# Double Check BEFORE Outputting"
   ]
  },
  {
   "cell_type": "code",
   "execution_count": 51,
   "id": "79424c5b-e819-4fdd-865e-80a3fc983710",
   "metadata": {},
   "outputs": [
    {
     "name": "stdout",
     "output_type": "stream",
     "text": [
      "  pointScore gameScore setScore  isPointStart  pointStartTime  isPointEnd  \\\n",
      "0        0-0       0-0      0-0           1.0          1442.0         NaN   \n",
      "1        0-0       0-0      0-0           NaN         81939.0         NaN   \n",
      "2        0-0       0-0      0-0           NaN         82644.0         NaN   \n",
      "3        0-0       0-0      0-0           NaN         84691.0         NaN   \n",
      "4        0-0       0-0      0-0           NaN         85867.0         NaN   \n",
      "5        0-0       0-0      0-0           NaN         87748.0         1.0   \n",
      "6       15-0       0-0      0-0           1.0         87749.0         NaN   \n",
      "7       15-0       0-0      0-0           NaN        108583.0         NaN   \n",
      "8       15-0       0-0      0-0           NaN        109307.0         NaN   \n",
      "9       15-0       0-0      0-0           NaN        110717.0         NaN   \n",
      "\n",
      "   pointEndTime  pointNumber  isBreakPoint  shotInRally  ...  returnerName  \\\n",
      "0           NaN            1           NaN            1  ...  Yuta Shimizu   \n",
      "1           NaN            1           NaN            2  ...  Yuta Shimizu   \n",
      "2           NaN            1           NaN            3  ...  Yuta Shimizu   \n",
      "3           NaN            1           NaN            4  ...  Yuta Shimizu   \n",
      "4           NaN            1           NaN            5  ...  Yuta Shimizu   \n",
      "5           NaN            1           NaN            6  ...  Yuta Shimizu   \n",
      "6           NaN            2           NaN            1  ...  Yuta Shimizu   \n",
      "7           NaN            2           NaN            2  ...  Yuta Shimizu   \n",
      "8           NaN            2           NaN            3  ...  Yuta Shimizu   \n",
      "9           NaN            2           NaN            4  ...  Yuta Shimizu   \n",
      "\n",
      "      shotHitBy isInsideOut  isInsideIn isDoubleFault  pointWonBy  \\\n",
      "0     Rudy Quan        None        None          None        None   \n",
      "1  Yuta Shimizu        None           1          None        None   \n",
      "2     Rudy Quan        None           1          None        None   \n",
      "3  Yuta Shimizu        None        None          None        None   \n",
      "4     Rudy Quan           1        None          None        None   \n",
      "5  Yuta Shimizu        None        None          None   Rudy Quan   \n",
      "6     Rudy Quan        None        None          None        None   \n",
      "7  Yuta Shimizu        None        None          None        None   \n",
      "8     Rudy Quan        None           1          None        None   \n",
      "9  Yuta Shimizu        None        None          None        None   \n",
      "\n",
      "   lastShotError   serveResult serveInPlacement  depth  \n",
      "0              0  1st Serve In             Body   None  \n",
      "1              0          None             None  Short  \n",
      "2              0          None             None  Short  \n",
      "3              0          None             None  Short  \n",
      "4              0          None             None  Short  \n",
      "5              1          None             None   None  \n",
      "6              0  1st Serve In             Body   None  \n",
      "7              0          None             None  Short  \n",
      "8              0          None             None   Deep  \n",
      "9              0          None             None  Short  \n",
      "\n",
      "[10 rows x 68 columns]\n"
     ]
    }
   ],
   "source": [
    "print(shot_data.head(10))"
   ]
  },
  {
   "cell_type": "code",
   "execution_count": 52,
   "id": "7a9192e5-8f0e-4267-bdc5-7003a9dbe45d",
   "metadata": {},
   "outputs": [
    {
     "name": "stdout",
     "output_type": "stream",
     "text": [
      "    pointScore gameScore setScore  isPointStart  pointStartTime  isPointEnd  \\\n",
      "852      15-40       3-5      0-1           NaN       6168835.0         NaN   \n",
      "853      15-40       3-5      0-1           NaN       6170085.0         NaN   \n",
      "854      15-40       3-5      0-1           NaN       6171334.0         1.0   \n",
      "855      30-40       3-5      0-1           1.0       6173700.0         NaN   \n",
      "856      30-40       3-5      0-1           NaN       6198398.0         NaN   \n",
      "857      30-40       3-5      0-1           NaN       6201149.0         NaN   \n",
      "858      30-40       3-5      0-1           NaN       6201818.0         NaN   \n",
      "859      30-40       3-5      0-1           NaN       6204151.0         NaN   \n",
      "860      30-40       3-5      0-1           NaN       6204390.0         NaN   \n",
      "861      30-40       3-5      0-1           NaN             NaN         1.0   \n",
      "\n",
      "     pointEndTime  pointNumber  isBreakPoint  shotInRally  ...  returnerName  \\\n",
      "852           NaN          134           NaN           12  ...  Yuta Shimizu   \n",
      "853           NaN          134           NaN           13  ...  Yuta Shimizu   \n",
      "854           NaN          134           NaN           14  ...  Yuta Shimizu   \n",
      "855           NaN          135           NaN            1  ...  Yuta Shimizu   \n",
      "856           NaN          135           NaN            2  ...  Yuta Shimizu   \n",
      "857           NaN          135           NaN            3  ...  Yuta Shimizu   \n",
      "858           NaN          135           NaN            4  ...  Yuta Shimizu   \n",
      "859           NaN          135           NaN            5  ...  Yuta Shimizu   \n",
      "860           NaN          135           NaN            6  ...  Yuta Shimizu   \n",
      "861           NaN          135           NaN            7  ...  Yuta Shimizu   \n",
      "\n",
      "        shotHitBy isInsideOut  isInsideIn isDoubleFault    pointWonBy  \\\n",
      "852  Yuta Shimizu        None        None          None          None   \n",
      "853     Rudy Quan        None        None          None          None   \n",
      "854  Yuta Shimizu           1        None          None     Rudy Quan   \n",
      "855     Rudy Quan        None        None          None          None   \n",
      "856  Yuta Shimizu        None        None          None          None   \n",
      "857     Rudy Quan           1        None          None          None   \n",
      "858  Yuta Shimizu        None        None          None          None   \n",
      "859     Rudy Quan        None        None          None          None   \n",
      "860  Yuta Shimizu        None        None          None          None   \n",
      "861     Rudy Quan        None        None          None  Yuta Shimizu   \n",
      "\n",
      "     lastShotError   serveResult serveInPlacement  depth  \n",
      "852              0          None             None  Short  \n",
      "853              0          None             None  Short  \n",
      "854              1          None             None   None  \n",
      "855              0  1st Serve In             Wide   None  \n",
      "856              0          None             None   Deep  \n",
      "857              0          None             None  Short  \n",
      "858              0          None             None   Deep  \n",
      "859              0          None             None  Short  \n",
      "860              0          None             None  Short  \n",
      "861              1          None             None   None  \n",
      "\n",
      "[10 rows x 68 columns]\n"
     ]
    }
   ],
   "source": [
    "print(shot_data.tail(10))"
   ]
  },
  {
   "cell_type": "markdown",
   "id": "a69a017a-9959-4eca-b083-edbc8b009e78",
   "metadata": {},
   "source": [
    "# Output ShotCSV"
   ]
  },
  {
   "cell_type": "code",
   "execution_count": 53,
   "id": "cb74fcb2-47ea-43bd-b304-dd5e05f17df3",
   "metadata": {},
   "outputs": [],
   "source": [
    "# # # Ouput Improved Shot Csv HERE\n",
    "# # Assuming point_df is your DataFrame and player1Name and player2Name are the names from the first row\n",
    "player1NameNoSpace = shot_data.iloc[0]['player1Name'].replace(\" \", \"\")\n",
    "player2NameNoSpace = shot_data.iloc[0]['player2Name'].replace(\" \", \"\")\n",
    "\n",
    "# Save DataFrame to CSV file with modified player names\n",
    "shot_data.to_csv(f'Shot_Visuals_{player1NameNoSpace}_{player2NameNoSpace}.csv', index=False)"
   ]
  },
  {
   "cell_type": "code",
   "execution_count": 54,
   "id": "92ba40db-005c-47d7-86e7-fa52d25ec080",
   "metadata": {
    "scrolled": true
   },
   "outputs": [
    {
     "data": {
      "text/plain": [
       "array([  1,   2,   3,   4,   5,   6,   7,   8,   9,  10,  11,  12,  13,\n",
       "        14,  15,  16,  17,  18,  19,  20,  21,  22,  23,  24,  25,  26,\n",
       "        27,  28,  29,  30,  31,  32,  33,  34,  35,  36,  37,  38,  39,\n",
       "        40,  41,  42,  43,  44,  45,  46,  47,  48,  49,  50,  51,  52,\n",
       "        53,  54,  55,  56,  57,  58,  59,  60,  61,  62,  63,  64,  65,\n",
       "        66,  67,  68,  69,  70,  71,  72,  73,  74,  75,  76,  77,  78,\n",
       "        79,  80,  81,  82,  83,  84,  85,  86,  87,  88,  89,  90,  91,\n",
       "        92,  93,  94,  95,  96,  97,  98,  99, 100, 101, 102, 103, 104,\n",
       "       105, 106, 107, 108, 109, 110, 111, 112, 113, 114, 115, 116, 117,\n",
       "       118, 119, 120, 121, 122, 123, 124, 125, 126, 127, 128, 129, 130,\n",
       "       131, 132, 133, 134, 135])"
      ]
     },
     "execution_count": 54,
     "metadata": {},
     "output_type": "execute_result"
    }
   ],
   "source": [
    "shot_data['pointNumber'].unique()"
   ]
  },
  {
   "cell_type": "markdown",
   "id": "dd38774c-8826-4889-b85c-7b19567048ee",
   "metadata": {},
   "source": [
    "# Below is for Point CSV"
   ]
  },
  {
   "cell_type": "markdown",
   "id": "7f1d94f6-82a3-41b6-baf6-a37171703732",
   "metadata": {},
   "source": [
    "### Create Point DF"
   ]
  },
  {
   "cell_type": "code",
   "execution_count": 55,
   "id": "e50fad00-3f62-41c7-9d3f-87d19fdc6925",
   "metadata": {},
   "outputs": [],
   "source": [
    "# Creating point_df (with only 1 row for each pointNumber)\n",
    "point_df = shot_data.drop_duplicates(subset='pointNumber')[['pointNumber']]\n",
    "# point_df.shape"
   ]
  },
  {
   "cell_type": "markdown",
   "id": "a57ecdf5-aaa6-4799-92e6-2845775401b8",
   "metadata": {},
   "source": [
    "### Add Column: player1Name, player2Name\n",
    "### Set Variable: first_player1Name, first_player2Name"
   ]
  },
  {
   "cell_type": "code",
   "execution_count": 56,
   "id": "f15c115d-4eb4-4eb3-9a6d-e4ff225c1385",
   "metadata": {},
   "outputs": [],
   "source": [
    "# Extract the first value of player1Name and player2Name from shot_data\n",
    "first_player1Name = shot_data['player1Name'].iloc[0]\n",
    "first_player2Name = shot_data['player2Name'].iloc[0]\n",
    "\n",
    "# Fill in the first value into all rows of point_df['player1Name'] and point_df['player2Name']\n",
    "point_df['player1Name'] = first_player1Name\n",
    "point_df['player2Name'] = first_player2Name"
   ]
  },
  {
   "cell_type": "markdown",
   "id": "deb74788-f2d1-4c96-98e0-9d0d3717c6a7",
   "metadata": {},
   "source": [
    "### Add Column: Scores"
   ]
  },
  {
   "cell_type": "code",
   "execution_count": 57,
   "id": "ee01bdd1-0815-4eb5-9d0b-7cd0f0749a38",
   "metadata": {},
   "outputs": [],
   "source": [
    "point_df['pointScore'] = shot_data.groupby('pointNumber')['pointScore'].first().values\n",
    "point_df['gameScore'] = shot_data.groupby('pointNumber')['gameScore'].first().values\n",
    "point_df['setScore'] = shot_data.groupby('pointNumber')['setScore'].first().values\n",
    "point_df['tiebreakScore'] = shot_data.groupby('pointNumber')['tiebreakScore'].first().values"
   ]
  },
  {
   "cell_type": "markdown",
   "id": "14fe84b7-38de-4c4a-97a2-17aca9281bd8",
   "metadata": {},
   "source": [
    "### Add Column: Side"
   ]
  },
  {
   "cell_type": "code",
   "execution_count": 58,
   "id": "4d250819-706d-4cdf-ba3e-bc2a48a323bb",
   "metadata": {},
   "outputs": [],
   "source": [
    "# Group shot_data by 'pointNumber' and get the first 'side' value for each group\n",
    "side_values = shot_data.groupby('pointNumber')['side'].first().reset_index()\n",
    "\n",
    "point_df['side'] = side_values['side'].values"
   ]
  },
  {
   "cell_type": "markdown",
   "id": "0da6808a-148a-4a16-be9a-dcf1902c385a",
   "metadata": {},
   "source": [
    "### Add Column: serverName, returnerName"
   ]
  },
  {
   "cell_type": "code",
   "execution_count": 59,
   "id": "062f1793-501f-4662-b5f9-606d4d44d97f",
   "metadata": {},
   "outputs": [],
   "source": [
    "# Adds Server and Returner Names and pointScore\n",
    "\n",
    "point_df['serverName'] = shot_data.groupby('pointNumber')['serverName'].first().values\n",
    "point_df['returnerName'] = shot_data.groupby('pointNumber')['returnerName'].first().values\n"
   ]
  },
  {
   "cell_type": "code",
   "execution_count": 60,
   "id": "04e27ed6-5293-4ef2-a98f-ce93e3b34e40",
   "metadata": {},
   "outputs": [],
   "source": [
    "client_team_value = shot_data.loc[0, 'clientTeam']\n",
    "opponent_team_value = shot_data.loc[0, 'opponentTeam']\n",
    "\n",
    "# Adding 'clientTeam' and 'opponentTeam' columns to point_df\n",
    "point_df['clientTeam'] = client_team_value\n",
    "point_df['opponentTeam'] = opponent_team_value\n"
   ]
  },
  {
   "cell_type": "markdown",
   "id": "b2aa7da7-feee-49a5-9598-71c9738584cb",
   "metadata": {},
   "source": [
    "## Warning: Will be Empty if Timestamp separate"
   ]
  },
  {
   "cell_type": "code",
   "execution_count": 61,
   "id": "bc3a101c-f6f7-410c-bae1-f248d85614df",
   "metadata": {},
   "outputs": [],
   "source": [
    "# Add Start and End times per point\n",
    "\n",
    "for index, row in shot_data.iterrows():\n",
    "    point_number = row['pointNumber']\n",
    "    \n",
    "    if row['isPointStart'] == 1:\n",
    "        point_df.loc[point_df['pointNumber'] == point_number, 'Position'] = row['pointStartTime']\n",
    "    if row['isPointEnd'] == 1:\n",
    "        point_df.loc[point_df['pointNumber'] == point_number, 'pointEndPosition'] = row['pointEndTime']\n",
    "\n",
    "# Add Duration\n",
    "point_df['Duration'] = point_df['pointEndPosition'] - point_df['Position']"
   ]
  },
  {
   "cell_type": "code",
   "execution_count": 62,
   "id": "92d51e83",
   "metadata": {},
   "outputs": [
    {
     "data": {
      "text/plain": [
       "135"
      ]
     },
     "execution_count": 62,
     "metadata": {},
     "output_type": "execute_result"
    }
   ],
   "source": [
    "len(point_df['Position'])"
   ]
  },
  {
   "cell_type": "code",
   "execution_count": 63,
   "id": "cc20d163",
   "metadata": {},
   "outputs": [
    {
     "data": {
      "text/plain": [
       "135"
      ]
     },
     "execution_count": 63,
     "metadata": {},
     "output_type": "execute_result"
    }
   ],
   "source": [
    "len(point_df['pointEndPosition'])"
   ]
  },
  {
   "cell_type": "markdown",
   "id": "ab9a88ef-3f8a-42c1-b81c-50b03c2fc853",
   "metadata": {},
   "source": [
    "### Add Column: Rally Column\n",
    "- rallyCount (x amount)\n",
    "- rallyCountFreq (1-4,5-8,9-12,13+)"
   ]
  },
  {
   "cell_type": "code",
   "execution_count": 64,
   "id": "c69f0435-3385-448e-8d1e-f60bad6bbfb9",
   "metadata": {},
   "outputs": [],
   "source": [
    "# Find the highest shotInRally for each pointNumber in shot_data\n",
    "max_rally_per_point = shot_data.groupby('pointNumber')['shotInRally'].max().reset_index()\n",
    "point_df['rallyCount'] = list(max_rally_per_point['shotInRally'])\n",
    "\n",
    "# Add 'rallyCountFreq' column based on specified conditions\n",
    "point_df['rallyCountFreq'] = point_df['rallyCount'].apply(lambda x: '1 - 4' if 1 <= x <= 4 else ('5 - 8' if 5 <= x <= 8 else ('9 - 12' if 9 <= x <= 12 else ('13 +' if x >= 13 else 'Error'))))\n"
   ]
  },
  {
   "cell_type": "markdown",
   "id": "6d73c5aa-9ba2-428b-80e8-5a85f7fbb4a1",
   "metadata": {},
   "source": [
    "### Add Column: Serve \n",
    "- firstServeIn\n",
    "- secondServeIn\n",
    "- serveResult\n",
    "- serveInPlacement\n",
    "\n",
    "Part 2\n",
    "- serveResult\n",
    "- serveInPlacement\n",
    " \n",
    "Part 3\n",
    "- firstServeZone\n",
    "- secondServeZone"
   ]
  },
  {
   "cell_type": "code",
   "execution_count": 65,
   "id": "ab2ae70f-ad58-4d53-b229-44044ad391c8",
   "metadata": {},
   "outputs": [],
   "source": [
    "# Add firstServeIn and secondServeIn\n",
    "\n",
    "# Add firstServeIn and secondServeIn columns\n",
    "point_df['firstServeIn'] = 0\n",
    "point_df['secondServeIn'] = 0\n",
    "\n",
    "for point_number in shot_data['pointNumber'].unique():\n",
    "    # Check if firstServeIn is 1 for the given pointNumber in shot_data\n",
    "    if any((shot_data['pointNumber'] == point_number) & (shot_data['firstServeIn'] == 1)):\n",
    "        point_df.loc[point_df['pointNumber'] == point_number, 'firstServeIn'] = 1\n",
    "    \n",
    "    # Check if secondServeIn is 1 for the given pointNumber in shot_data\n",
    "    if any((shot_data['pointNumber'] == point_number) & (shot_data['secondServeIn'] == 1)):\n",
    "        point_df.loc[point_df['pointNumber'] == point_number, 'secondServeIn'] = 1\n",
    "\n",
    "#part 2\n",
    "start_points = shot_data[shot_data['isPointStart'] == 1]\n",
    "\n",
    "# Set values in point_df to corresponding values from start_points\n",
    "point_df['serveResult'] = start_points['serveResult'].values\n",
    "point_df['serveInPlacement'] = start_points['serveInPlacement'].values\n",
    "\n",
    "# part 3\n",
    "serve_zones = shot_data.loc[shot_data['shotInRally'] == 1, ['pointNumber', 'firstServeZone', 'secondServeZone', 'firstServeIn', 'secondServeIn']].drop_duplicates()\n",
    "point_df['firstServeZone'] = shot_data.groupby('pointNumber')['firstServeZone'].first().values\n",
    "point_df['secondServeZone'] = shot_data.groupby('pointNumber')['secondServeZone'].first().values"
   ]
  },
  {
   "cell_type": "markdown",
   "id": "eb67c372-56c0-41d2-b972-84b747cf0cd1",
   "metadata": {},
   "source": [
    "### Add Column: Ace"
   ]
  },
  {
   "cell_type": "code",
   "execution_count": 66,
   "id": "dccd8e5d-c4aa-42a9-9131-a950fd9c1fc3",
   "metadata": {},
   "outputs": [
    {
     "name": "stdout",
     "output_type": "stream",
     "text": [
      "    pointNumber  rallyCount  isAce\n",
      "0             1           6  False\n",
      "6             2           5  False\n",
      "11            3           4  False\n",
      "15            4           7  False\n",
      "22            5           8  False\n",
      "30            6          12  False\n",
      "42            7           7  False\n",
      "49            8           4  False\n",
      "53            9          10  False\n",
      "63           10           5  False\n",
      "68           11           6  False\n",
      "74           12           5  False\n",
      "79           13           4  False\n",
      "83           14           5  False\n"
     ]
    }
   ],
   "source": [
    "point_df['isAce'] = ((point_df['rallyCount'] == 1) & ((point_df['serveResult'] != \"Double Fault\")))\n",
    "\n",
    "# Display the resulting DataFrame\n",
    "print(point_df[['pointNumber', 'rallyCount', 'isAce']].head(14))"
   ]
  },
  {
   "cell_type": "markdown",
   "id": "323be033-ebbe-4692-942e-345f68f721c7",
   "metadata": {},
   "source": [
    "### Add Column: Server Coordinate Data"
   ]
  },
  {
   "cell_type": "code",
   "execution_count": 67,
   "id": "75d07ff9-83fa-4edd-9009-80c3ad5c10bf",
   "metadata": {},
   "outputs": [
    {
     "data": {
      "text/html": [
       "<div>\n",
       "<style scoped>\n",
       "    .dataframe tbody tr th:only-of-type {\n",
       "        vertical-align: middle;\n",
       "    }\n",
       "\n",
       "    .dataframe tbody tr th {\n",
       "        vertical-align: top;\n",
       "    }\n",
       "\n",
       "    .dataframe thead th {\n",
       "        text-align: right;\n",
       "    }\n",
       "</style>\n",
       "<table border=\"1\" class=\"dataframe\">\n",
       "  <thead>\n",
       "    <tr style=\"text-align: right;\">\n",
       "      <th></th>\n",
       "      <th>serverFarNear</th>\n",
       "      <th>firstServeXCoord</th>\n",
       "      <th>firstServeYCoord</th>\n",
       "      <th>secondServeXCoord</th>\n",
       "      <th>secondServeYCoord</th>\n",
       "    </tr>\n",
       "  </thead>\n",
       "  <tbody>\n",
       "    <tr>\n",
       "      <th>0</th>\n",
       "      <td>Near</td>\n",
       "      <td>-76.0</td>\n",
       "      <td>131.0</td>\n",
       "      <td>NaN</td>\n",
       "      <td>NaN</td>\n",
       "    </tr>\n",
       "    <tr>\n",
       "      <th>6</th>\n",
       "      <td>Near</td>\n",
       "      <td>83.0</td>\n",
       "      <td>188.0</td>\n",
       "      <td>NaN</td>\n",
       "      <td>NaN</td>\n",
       "    </tr>\n",
       "    <tr>\n",
       "      <th>11</th>\n",
       "      <td>Near</td>\n",
       "      <td>-49.0</td>\n",
       "      <td>267.0</td>\n",
       "      <td>-65.0</td>\n",
       "      <td>220.0</td>\n",
       "    </tr>\n",
       "    <tr>\n",
       "      <th>15</th>\n",
       "      <td>Near</td>\n",
       "      <td>NaN</td>\n",
       "      <td>NaN</td>\n",
       "      <td>NaN</td>\n",
       "      <td>NaN</td>\n",
       "    </tr>\n",
       "    <tr>\n",
       "      <th>22</th>\n",
       "      <td>Near</td>\n",
       "      <td>-34.0</td>\n",
       "      <td>169.0</td>\n",
       "      <td>NaN</td>\n",
       "      <td>NaN</td>\n",
       "    </tr>\n",
       "    <tr>\n",
       "      <th>...</th>\n",
       "      <td>...</td>\n",
       "      <td>...</td>\n",
       "      <td>...</td>\n",
       "      <td>...</td>\n",
       "      <td>...</td>\n",
       "    </tr>\n",
       "    <tr>\n",
       "      <th>832</th>\n",
       "      <td>Far</td>\n",
       "      <td>-56.0</td>\n",
       "      <td>-228.0</td>\n",
       "      <td>NaN</td>\n",
       "      <td>NaN</td>\n",
       "    </tr>\n",
       "    <tr>\n",
       "      <th>835</th>\n",
       "      <td>Far</td>\n",
       "      <td>88.0</td>\n",
       "      <td>-238.0</td>\n",
       "      <td>NaN</td>\n",
       "      <td>NaN</td>\n",
       "    </tr>\n",
       "    <tr>\n",
       "      <th>839</th>\n",
       "      <td>Far</td>\n",
       "      <td>-56.0</td>\n",
       "      <td>-241.0</td>\n",
       "      <td>NaN</td>\n",
       "      <td>NaN</td>\n",
       "    </tr>\n",
       "    <tr>\n",
       "      <th>841</th>\n",
       "      <td>Far</td>\n",
       "      <td>88.0</td>\n",
       "      <td>-233.0</td>\n",
       "      <td>NaN</td>\n",
       "      <td>NaN</td>\n",
       "    </tr>\n",
       "    <tr>\n",
       "      <th>855</th>\n",
       "      <td>Far</td>\n",
       "      <td>-117.0</td>\n",
       "      <td>-220.0</td>\n",
       "      <td>NaN</td>\n",
       "      <td>NaN</td>\n",
       "    </tr>\n",
       "  </tbody>\n",
       "</table>\n",
       "<p>135 rows × 5 columns</p>\n",
       "</div>"
      ],
      "text/plain": [
       "    serverFarNear  firstServeXCoord  firstServeYCoord  secondServeXCoord  \\\n",
       "0            Near             -76.0             131.0                NaN   \n",
       "6            Near              83.0             188.0                NaN   \n",
       "11           Near             -49.0             267.0              -65.0   \n",
       "15           Near               NaN               NaN                NaN   \n",
       "22           Near             -34.0             169.0                NaN   \n",
       "..            ...               ...               ...                ...   \n",
       "832           Far             -56.0            -228.0                NaN   \n",
       "835           Far              88.0            -238.0                NaN   \n",
       "839           Far             -56.0            -241.0                NaN   \n",
       "841           Far              88.0            -233.0                NaN   \n",
       "855           Far            -117.0            -220.0                NaN   \n",
       "\n",
       "     secondServeYCoord  \n",
       "0                  NaN  \n",
       "6                  NaN  \n",
       "11               220.0  \n",
       "15                 NaN  \n",
       "22                 NaN  \n",
       "..                 ...  \n",
       "832                NaN  \n",
       "835                NaN  \n",
       "839                NaN  \n",
       "841                NaN  \n",
       "855                NaN  \n",
       "\n",
       "[135 rows x 5 columns]"
      ]
     },
     "execution_count": 67,
     "metadata": {},
     "output_type": "execute_result"
    }
   ],
   "source": [
    "point_df['serverFarNear'] = shot_data.groupby('pointNumber')['serverFarNear'].first().values\n",
    "\n",
    "# Add first serve X and Y column\n",
    "point_df['firstServeXCoord'] = shot_data.groupby('pointNumber')['firstServeXCoord'].first().values\n",
    "point_df['firstServeYCoord'] = shot_data.groupby('pointNumber')['firstServeYCoord'].first().values\n",
    "\n",
    "# Add second serve X and Y column\n",
    "point_df['secondServeXCoord'] = shot_data.groupby('pointNumber')['secondServeXCoord'].first().values\n",
    "point_df['secondServeYCoord'] = shot_data.groupby('pointNumber')['secondServeYCoord'].first().values\n",
    "\n",
    "\n",
    "point_df[['serverFarNear', 'firstServeXCoord', 'firstServeYCoord', 'secondServeXCoord', 'secondServeYCoord']]"
   ]
  },
  {
   "cell_type": "markdown",
   "id": "3e3a3730-dac7-44f0-b03c-de912ab7b0d5",
   "metadata": {},
   "source": [
    "### Add Column: Return"
   ]
  },
  {
   "cell_type": "code",
   "execution_count": 68,
   "id": "6ad9166e-c979-4914-b749-d734d1a26bd7",
   "metadata": {},
   "outputs": [],
   "source": [
    "# print(shot_data[shot_data['shotInRally'] == 2][['shotDirection','shotFhBh','pointScore','gameScore','setScore']])"
   ]
  },
  {
   "cell_type": "code",
   "execution_count": 69,
   "id": "c8456a4a-2faf-401c-ade1-180c6c28f40a",
   "metadata": {},
   "outputs": [
    {
     "name": "stdout",
     "output_type": "stream",
     "text": [
      "    pointNumber player1Name   player2Name pointScore gameScore setScore  \\\n",
      "0             1   Rudy Quan  Yuta Shimizu        0-0       0-0      0-0   \n",
      "6             2   Rudy Quan  Yuta Shimizu       15-0       0-0      0-0   \n",
      "11            3   Rudy Quan  Yuta Shimizu      15-15       0-0      0-0   \n",
      "15            4   Rudy Quan  Yuta Shimizu      30-15       0-0      0-0   \n",
      "22            5   Rudy Quan  Yuta Shimizu      30-30       0-0      0-0   \n",
      "30            6   Rudy Quan  Yuta Shimizu      40-30       0-0      0-0   \n",
      "42            7   Rudy Quan  Yuta Shimizu      40-40       0-0      0-0   \n",
      "49            8   Rudy Quan  Yuta Shimizu       40-A       0-0      0-0   \n",
      "53            9   Rudy Quan  Yuta Shimizu      40-40       0-0      0-0   \n",
      "63           10   Rudy Quan  Yuta Shimizu       A-40       0-0      0-0   \n",
      "\n",
      "    tiebreakScore   side serverName  returnerName  ... firstServeZone  \\\n",
      "0             NaN  Deuce  Rudy Quan  Yuta Shimizu  ...           Body   \n",
      "6             NaN     Ad  Rudy Quan  Yuta Shimizu  ...           Body   \n",
      "11            NaN  Deuce  Rudy Quan  Yuta Shimizu  ...              T   \n",
      "15            NaN     Ad  Rudy Quan  Yuta Shimizu  ...           None   \n",
      "22            NaN  Deuce  Rudy Quan  Yuta Shimizu  ...              T   \n",
      "30            NaN     Ad  Rudy Quan  Yuta Shimizu  ...           Body   \n",
      "42            NaN  Deuce  Rudy Quan  Yuta Shimizu  ...           Body   \n",
      "49            NaN     Ad  Rudy Quan  Yuta Shimizu  ...           Wide   \n",
      "53            NaN  Deuce  Rudy Quan  Yuta Shimizu  ...           Wide   \n",
      "63            NaN     Ad  Rudy Quan  Yuta Shimizu  ...           Body   \n",
      "\n",
      "   secondServeZone  isAce  serverFarNear  firstServeXCoord  firstServeYCoord  \\\n",
      "0             None  False           Near             -76.0             131.0   \n",
      "6             None  False           Near              83.0             188.0   \n",
      "11            Body  False           Near             -49.0             267.0   \n",
      "15            None  False           Near               NaN               NaN   \n",
      "22            None  False           Near             -34.0             169.0   \n",
      "30            None  False           Near              59.0             151.0   \n",
      "42               T  False           Near             -93.0             265.0   \n",
      "49               T  False           Near             123.0             265.0   \n",
      "53            None  False           Near            -120.0             206.0   \n",
      "63            None  False           Near              83.0             116.0   \n",
      "\n",
      "   secondServeXCoord  secondServeYCoord  returnDirection returnFhBh  \n",
      "0                NaN                NaN    Down the Line   Forehand  \n",
      "6                NaN                NaN       Crosscourt   Forehand  \n",
      "11             -65.0              220.0       Crosscourt   Forehand  \n",
      "15               NaN                NaN       Crosscourt   Forehand  \n",
      "22               NaN                NaN    Down the Line   Forehand  \n",
      "30               NaN                NaN       Crosscourt   Backhand  \n",
      "42             -48.0              149.0    Down the Line   Forehand  \n",
      "49              24.0              165.0    Down the Line   Backhand  \n",
      "53               NaN                NaN       Crosscourt   Backhand  \n",
      "63               NaN                NaN       Crosscourt   Forehand  \n",
      "\n",
      "[10 rows x 31 columns]\n"
     ]
    }
   ],
   "source": [
    "# Set the initial values of 'returnDirection' and 'returnHand' columns to None\n",
    "point_df['returnDirection'] = None\n",
    "point_df['returnFhBh'] = None\n",
    "\n",
    "# Iterate through pointNumber in shot_data\n",
    "for point_number in shot_data['pointNumber'].unique():\n",
    "    # Check if shotInRally == 2 exists for the given pointNumber\n",
    "    if 2 in shot_data.loc[shot_data['pointNumber'] == point_number, 'shotInRally'].values:\n",
    "        # Get the information from the corresponding row\n",
    "        row_with_return_info = shot_data[(shot_data['pointNumber'] == point_number) & (shot_data['shotInRally'] == 2)].iloc[0]\n",
    "\n",
    "        # Assign values to 'returnDirection' and 'returnHand' columns\n",
    "        point_df.loc[point_df['pointNumber'] == point_number, 'returnDirection'] = row_with_return_info['shotDirection']\n",
    "        point_df.loc[point_df['pointNumber'] == point_number, 'returnFhBh'] = row_with_return_info['shotFhBh']\n",
    "\n",
    "# Display the modified DataFrame\n",
    "print(point_df.head(10))"
   ]
  },
  {
   "cell_type": "markdown",
   "id": "c33cb300-0c70-49d2-bb4b-e76d4853de0a",
   "metadata": {},
   "source": [
    "### Add Column: Error Column\n",
    "- errorType"
   ]
  },
  {
   "cell_type": "code",
   "execution_count": 70,
   "id": "f10972b3-884a-4e58-9d81-ab0d9704bd23",
   "metadata": {},
   "outputs": [],
   "source": [
    "# Create an empty DataFrame to store the results\n",
    "error_results = pd.DataFrame(columns=['errorType', 'pointNumber'])\n",
    "\n",
    "# Iterate through entire shot_data\n",
    "for index, row in shot_data.iterrows():\n",
    "    pointNumber = row['pointNumber']\n",
    "    point_error_value = None\n",
    "    \n",
    "    if row['isErrorWideR'] == 1:\n",
    "        point_error_value = 'Wide Right'\n",
    "    elif row['isErrorWideL'] == 1:\n",
    "        point_error_value = 'Wide Left'\n",
    "    elif 'isErrorNet' in row and row['isErrorNet'] == 1:\n",
    "        point_error_value = 'Net'\n",
    "    elif row['isErrorLong'] == 1:\n",
    "        point_error_value = 'Long'\n",
    "    \n",
    "\n",
    "    # If an error is found, append the result to the error_results DataFrame\n",
    "    if point_error_value is not None:\n",
    "        error_results = pd.concat([error_results, pd.DataFrame({'pointNumber': [pointNumber], 'errorType': [point_error_value]})], ignore_index=True)\n",
    "\n",
    "\n",
    "# Drop duplicates based on 'pointNumber'\n",
    "error_results = error_results.drop_duplicates(subset=['pointNumber'])"
   ]
  },
  {
   "cell_type": "code",
   "execution_count": 71,
   "id": "a9b428e1-322f-4908-b89f-2a7c38667504",
   "metadata": {},
   "outputs": [],
   "source": [
    "# Create a dictionary mapping 'pointNumber' to 'errorType' in error_results\n",
    "error_type_mapping = dict(zip(error_results['pointNumber'], error_results['errorType']))\n",
    "\n",
    "# Create 'errorType' column in point_df based on the mapping\n",
    "point_df['errorType'] = point_df['pointNumber'].map(error_type_mapping)\n",
    "\n",
    "point_df = point_df.replace({np.nan: None})"
   ]
  },
  {
   "cell_type": "markdown",
   "id": "60e73b6b-2a6f-4a29-9110-010eefc4021b",
   "metadata": {},
   "source": [
    "### Add Column: Error (Returns)"
   ]
  },
  {
   "cell_type": "code",
   "execution_count": 72,
   "id": "4b6b3aa8-be4c-4fe7-ad30-f3a8b58fde86",
   "metadata": {},
   "outputs": [],
   "source": [
    "def get_return_error(row):\n",
    "    if row['rallyCount'] == 2:\n",
    "        return row['errorType']\n",
    "    else:\n",
    "        return None\n",
    "\n",
    "point_df.loc[point_df['pointNumber'] == point_number, 'serveInPlacement'] = shot_data['secondServeZone']  \n",
    "\n",
    "# Apply the functions to create the new columns\n",
    "point_df['returnError'] = point_df.apply(get_return_error, axis=1)\n"
   ]
  },
  {
   "cell_type": "markdown",
   "id": "9016ca68-379b-4af0-9d34-17e9dea6de06",
   "metadata": {},
   "source": [
    "### Add Column: Last Shot"
   ]
  },
  {
   "cell_type": "code",
   "execution_count": 73,
   "id": "d82dd333-70de-4a33-b493-cca692cde241",
   "metadata": {},
   "outputs": [],
   "source": [
    "point_df['lastShotDirection'] = None\n",
    "point_df['lastShotFhBh'] = None\n",
    "point_df['lastShotHitBy'] = None  \n",
    "point_df['lastShotResult'] = None  \n",
    "\n",
    "# Iterate through unique pointNumbers in shot_data\n",
    "for point_number in shot_data['pointNumber'].unique():\n",
    "    # Check if isPointEnd == 1 exists for the given pointNumber\n",
    "    if 1 in shot_data.loc[shot_data['pointNumber'] == point_number, 'isPointEnd'].values:\n",
    "        # Get the information from the corresponding row\n",
    "        row_with_lastshot_info = shot_data[(shot_data['pointNumber'] == point_number) & (shot_data['isPointEnd'] == 1)].iloc[0]\n",
    "\n",
    "        # Assign values to 'lastShotDirection' and 'lastShotFhBh' columns\n",
    "        point_df.loc[point_df['pointNumber'] == point_number, 'lastShotDirection'] = row_with_lastshot_info['shotDirection']\n",
    "        point_df.loc[point_df['pointNumber'] == point_number, 'lastShotFhBh'] = row_with_lastshot_info['shotFhBh']\n",
    "        point_df.loc[point_df['pointNumber'] == point_number, 'lastShotHitBy'] = row_with_lastshot_info['shotHitBy']\n",
    "        \n",
    "        # Determine lastShotResult based on conditions\n",
    "        if row_with_lastshot_info['isWinner'] == 1 and not row_with_lastshot_info['isAce']:\n",
    "            point_df.loc[point_df['pointNumber'] == point_number, 'lastShotResult'] = \"Winner\"\n",
    "        elif row_with_lastshot_info['lastShotError'] == 1:\n",
    "            point_df.loc[point_df['pointNumber'] == point_number, 'lastShotResult'] = \"Error\""
   ]
  },
  {
   "cell_type": "code",
   "execution_count": 74,
   "id": "d8f8eb4c-73cf-4dd4-ab19-60a81bcd6bc9",
   "metadata": {},
   "outputs": [
    {
     "name": "stdout",
     "output_type": "stream",
     "text": [
      "['Error' 'Winner' None]\n"
     ]
    }
   ],
   "source": [
    "print(point_df['lastShotResult'].unique())"
   ]
  },
  {
   "cell_type": "markdown",
   "id": "f86354a2-0aca-4d0b-9e61-5d5f93c2a6d8",
   "metadata": {},
   "source": [
    "### Add Column: pointWonBy"
   ]
  },
  {
   "cell_type": "code",
   "execution_count": 75,
   "id": "072c95c3-a8cd-448c-8ce8-88b5288316bb",
   "metadata": {},
   "outputs": [],
   "source": [
    "# Initialize variables to keep track of the state\n",
    "prev_point_number = None\n",
    "point_won_by_list = []\n",
    "\n",
    "# Iterate through the DataFrame\n",
    "for index, row in shot_data.iterrows():\n",
    "    if row['isPointEnd'] == 1:\n",
    "        # Check if pointNumber is different and consecutively increasing\n",
    "        if prev_point_number is None or row['pointNumber'] == prev_point_number + 1:\n",
    "            # Append pointWonBy to the list\n",
    "            point_won_by_list.append(row['pointWonBy'])\n",
    "            prev_point_number = row['pointNumber']\n",
    "        else:\n",
    "            raise ValueError(\"Error: Point numbers are not different or consecutively increasing.\")\n",
    "            break\n",
    "\n",
    "# Add point_won_by_list as a new column to point_df\n",
    "point_df['pointWonBy'] = point_won_by_list"
   ]
  },
  {
   "cell_type": "markdown",
   "id": "f95b7b48-0466-45c5-88de-91e830549c35",
   "metadata": {},
   "source": [
    "### Add Column: isExcitingPoint"
   ]
  },
  {
   "cell_type": "code",
   "execution_count": 76,
   "id": "bcb5d70f-9ba3-4e1b-a91a-cf8749383d86",
   "metadata": {},
   "outputs": [],
   "source": [
    "point_df['isExcitingPoint'] = shot_data.groupby('pointNumber')['isExcitingPoint'].count()"
   ]
  },
  {
   "cell_type": "markdown",
   "id": "eaf01ad1-a8bd-4d4a-88fd-8a8e2402d069",
   "metadata": {},
   "source": [
    "## Error Check 17: \n",
    "#### player1, player2, serverName, returnerName do not have misspellings"
   ]
  },
  {
   "cell_type": "code",
   "execution_count": 77,
   "id": "5a0fd4d2-e9e5-435a-ac05-17f52f8bfef2",
   "metadata": {},
   "outputs": [
    {
     "name": "stdout",
     "output_type": "stream",
     "text": [
      "['Rudy Quan']\n",
      "['Yuta Shimizu']\n",
      "['Rudy Quan' 'Yuta Shimizu']\n",
      "['Yuta Shimizu' 'Rudy Quan']\n"
     ]
    }
   ],
   "source": [
    "print(point_df['player1Name'].unique())\n",
    "print(point_df['player2Name'].unique())\n",
    "print(point_df['serverName'].unique())\n",
    "print(point_df['returnerName'].unique())\n",
    "\n",
    "if (len(point_df['serverName'].unique()) != 2):\n",
    "    raise ValueError('Error: Mispelled Names')\n",
    "    \n",
    "if (len(point_df['returnerName'].unique()) != 2):\n",
    "    raise ValueError('Error: Mispelled Names')"
   ]
  },
  {
   "cell_type": "markdown",
   "id": "81674f01-f647-4ecb-8c11-8e8c7caa037f",
   "metadata": {},
   "source": [
    "## Error Check 18: \n",
    "#### pointWonBy has value that is not one of the two player names\n",
    "- References: first_player1Name, first_player2Name from above server info in point_df"
   ]
  },
  {
   "cell_type": "code",
   "execution_count": 78,
   "id": "20159d1f-49e5-4b80-94bc-0273386eeaf2",
   "metadata": {},
   "outputs": [
    {
     "name": "stdout",
     "output_type": "stream",
     "text": [
      "['Rudy Quan' 'Yuta Shimizu']\n",
      "Check passed.\n"
     ]
    }
   ],
   "source": [
    "print(point_df['pointWonBy'].unique())\n",
    "none_pointWonBy_df = point_df[~point_df['pointWonBy'].isin([first_player1Name, first_player2Name])]\n",
    "\n",
    "if none_pointWonBy_df.empty:\n",
    "    print(\"Check passed.\")\n",
    "else:\n",
    "    print(\"Error: Rows where pointWonBy is not by either player!\")\n",
    "    print(none_pointWonBy_df)"
   ]
  },
  {
   "cell_type": "markdown",
   "id": "60aebf71-65aa-4d1d-8fec-ea650c4ae3be",
   "metadata": {},
   "source": [
    "### Add Column: Break Point"
   ]
  },
  {
   "cell_type": "code",
   "execution_count": 79,
   "id": "77ec29ea",
   "metadata": {},
   "outputs": [],
   "source": [
    "break_point_values = ['0-40', '15-40', '30-40', '40-40']\n",
    "\n",
    "# Create 'isBreakPoint' column in point_df\n",
    "point_df['isBreakPoint'] = point_df['pointScore'].isin(break_point_values)"
   ]
  },
  {
   "cell_type": "code",
   "execution_count": 80,
   "id": "2ab037f6",
   "metadata": {},
   "outputs": [
    {
     "name": "stdout",
     "output_type": "stream",
     "text": [
      "Total break points: 32\n"
     ]
    },
    {
     "data": {
      "text/html": [
       "<div>\n",
       "<style scoped>\n",
       "    .dataframe tbody tr th:only-of-type {\n",
       "        vertical-align: middle;\n",
       "    }\n",
       "\n",
       "    .dataframe tbody tr th {\n",
       "        vertical-align: top;\n",
       "    }\n",
       "\n",
       "    .dataframe thead th {\n",
       "        text-align: right;\n",
       "    }\n",
       "</style>\n",
       "<table border=\"1\" class=\"dataframe\">\n",
       "  <thead>\n",
       "    <tr style=\"text-align: right;\">\n",
       "      <th></th>\n",
       "      <th>pointNumber</th>\n",
       "      <th>player1Name</th>\n",
       "      <th>player2Name</th>\n",
       "      <th>pointScore</th>\n",
       "      <th>gameScore</th>\n",
       "      <th>setScore</th>\n",
       "      <th>tiebreakScore</th>\n",
       "      <th>side</th>\n",
       "      <th>serverName</th>\n",
       "      <th>returnerName</th>\n",
       "      <th>...</th>\n",
       "      <th>returnFhBh</th>\n",
       "      <th>errorType</th>\n",
       "      <th>returnError</th>\n",
       "      <th>lastShotDirection</th>\n",
       "      <th>lastShotFhBh</th>\n",
       "      <th>lastShotHitBy</th>\n",
       "      <th>lastShotResult</th>\n",
       "      <th>pointWonBy</th>\n",
       "      <th>isExcitingPoint</th>\n",
       "      <th>isBreakPoint</th>\n",
       "    </tr>\n",
       "  </thead>\n",
       "  <tbody>\n",
       "    <tr>\n",
       "      <th>42</th>\n",
       "      <td>7</td>\n",
       "      <td>Rudy Quan</td>\n",
       "      <td>Yuta Shimizu</td>\n",
       "      <td>40-40</td>\n",
       "      <td>0-0</td>\n",
       "      <td>0-0</td>\n",
       "      <td>None</td>\n",
       "      <td>Deuce</td>\n",
       "      <td>Rudy Quan</td>\n",
       "      <td>Yuta Shimizu</td>\n",
       "      <td>...</td>\n",
       "      <td>Forehand</td>\n",
       "      <td>Wide Left</td>\n",
       "      <td>None</td>\n",
       "      <td>Down the Line</td>\n",
       "      <td>Forehand</td>\n",
       "      <td>Rudy Quan</td>\n",
       "      <td>Error</td>\n",
       "      <td>Yuta Shimizu</td>\n",
       "      <td>0.0</td>\n",
       "      <td>True</td>\n",
       "    </tr>\n",
       "    <tr>\n",
       "      <th>53</th>\n",
       "      <td>9</td>\n",
       "      <td>Rudy Quan</td>\n",
       "      <td>Yuta Shimizu</td>\n",
       "      <td>40-40</td>\n",
       "      <td>0-0</td>\n",
       "      <td>0-0</td>\n",
       "      <td>None</td>\n",
       "      <td>Deuce</td>\n",
       "      <td>Rudy Quan</td>\n",
       "      <td>Yuta Shimizu</td>\n",
       "      <td>...</td>\n",
       "      <td>Backhand</td>\n",
       "      <td>Long</td>\n",
       "      <td>None</td>\n",
       "      <td>Down the Line</td>\n",
       "      <td>Backhand</td>\n",
       "      <td>Yuta Shimizu</td>\n",
       "      <td>Error</td>\n",
       "      <td>Rudy Quan</td>\n",
       "      <td>0.0</td>\n",
       "      <td>True</td>\n",
       "    </tr>\n",
       "    <tr>\n",
       "      <th>68</th>\n",
       "      <td>11</td>\n",
       "      <td>Rudy Quan</td>\n",
       "      <td>Yuta Shimizu</td>\n",
       "      <td>40-40</td>\n",
       "      <td>0-0</td>\n",
       "      <td>0-0</td>\n",
       "      <td>None</td>\n",
       "      <td>Deuce</td>\n",
       "      <td>Rudy Quan</td>\n",
       "      <td>Yuta Shimizu</td>\n",
       "      <td>...</td>\n",
       "      <td>Forehand</td>\n",
       "      <td>Wide Right</td>\n",
       "      <td>None</td>\n",
       "      <td>Crosscourt</td>\n",
       "      <td>Forehand</td>\n",
       "      <td>Yuta Shimizu</td>\n",
       "      <td>Error</td>\n",
       "      <td>Rudy Quan</td>\n",
       "      <td>0.0</td>\n",
       "      <td>True</td>\n",
       "    </tr>\n",
       "    <tr>\n",
       "      <th>79</th>\n",
       "      <td>13</td>\n",
       "      <td>Rudy Quan</td>\n",
       "      <td>Yuta Shimizu</td>\n",
       "      <td>40-40</td>\n",
       "      <td>0-0</td>\n",
       "      <td>0-0</td>\n",
       "      <td>None</td>\n",
       "      <td>Deuce</td>\n",
       "      <td>Rudy Quan</td>\n",
       "      <td>Yuta Shimizu</td>\n",
       "      <td>...</td>\n",
       "      <td>Backhand</td>\n",
       "      <td>Net</td>\n",
       "      <td>None</td>\n",
       "      <td>Crosscourt</td>\n",
       "      <td>Forehand</td>\n",
       "      <td>Yuta Shimizu</td>\n",
       "      <td>Error</td>\n",
       "      <td>Rudy Quan</td>\n",
       "      <td>0.0</td>\n",
       "      <td>True</td>\n",
       "    </tr>\n",
       "    <tr>\n",
       "      <th>88</th>\n",
       "      <td>15</td>\n",
       "      <td>Rudy Quan</td>\n",
       "      <td>Yuta Shimizu</td>\n",
       "      <td>40-40</td>\n",
       "      <td>0-0</td>\n",
       "      <td>0-0</td>\n",
       "      <td>None</td>\n",
       "      <td>Deuce</td>\n",
       "      <td>Rudy Quan</td>\n",
       "      <td>Yuta Shimizu</td>\n",
       "      <td>...</td>\n",
       "      <td>Backhand</td>\n",
       "      <td>Long</td>\n",
       "      <td>Long</td>\n",
       "      <td>Crosscourt</td>\n",
       "      <td>Backhand</td>\n",
       "      <td>Yuta Shimizu</td>\n",
       "      <td>Error</td>\n",
       "      <td>Rudy Quan</td>\n",
       "      <td>0.0</td>\n",
       "      <td>True</td>\n",
       "    </tr>\n",
       "  </tbody>\n",
       "</table>\n",
       "<p>5 rows × 40 columns</p>\n",
       "</div>"
      ],
      "text/plain": [
       "    pointNumber player1Name   player2Name pointScore gameScore setScore  \\\n",
       "42            7   Rudy Quan  Yuta Shimizu      40-40       0-0      0-0   \n",
       "53            9   Rudy Quan  Yuta Shimizu      40-40       0-0      0-0   \n",
       "68           11   Rudy Quan  Yuta Shimizu      40-40       0-0      0-0   \n",
       "79           13   Rudy Quan  Yuta Shimizu      40-40       0-0      0-0   \n",
       "88           15   Rudy Quan  Yuta Shimizu      40-40       0-0      0-0   \n",
       "\n",
       "   tiebreakScore   side serverName  returnerName  ... returnFhBh   errorType  \\\n",
       "42          None  Deuce  Rudy Quan  Yuta Shimizu  ...   Forehand   Wide Left   \n",
       "53          None  Deuce  Rudy Quan  Yuta Shimizu  ...   Backhand        Long   \n",
       "68          None  Deuce  Rudy Quan  Yuta Shimizu  ...   Forehand  Wide Right   \n",
       "79          None  Deuce  Rudy Quan  Yuta Shimizu  ...   Backhand         Net   \n",
       "88          None  Deuce  Rudy Quan  Yuta Shimizu  ...   Backhand        Long   \n",
       "\n",
       "    returnError lastShotDirection lastShotFhBh  lastShotHitBy lastShotResult  \\\n",
       "42         None     Down the Line     Forehand      Rudy Quan          Error   \n",
       "53         None     Down the Line     Backhand   Yuta Shimizu          Error   \n",
       "68         None        Crosscourt     Forehand   Yuta Shimizu          Error   \n",
       "79         None        Crosscourt     Forehand   Yuta Shimizu          Error   \n",
       "88         Long        Crosscourt     Backhand   Yuta Shimizu          Error   \n",
       "\n",
       "      pointWonBy  isExcitingPoint isBreakPoint  \n",
       "42  Yuta Shimizu              0.0         True  \n",
       "53     Rudy Quan              0.0         True  \n",
       "68     Rudy Quan              0.0         True  \n",
       "79     Rudy Quan              0.0         True  \n",
       "88     Rudy Quan              0.0         True  \n",
       "\n",
       "[5 rows x 40 columns]"
      ]
     },
     "execution_count": 80,
     "metadata": {},
     "output_type": "execute_result"
    }
   ],
   "source": [
    "break_point_total = point_df['isBreakPoint'].sum()\n",
    "print(\"Total break points:\", break_point_total)\n",
    "point_df[point_df['isBreakPoint'] == 1].head()"
   ]
  },
  {
   "cell_type": "markdown",
   "id": "57c12014-bf30-4719-b6d9-e9ab29a33c8f",
   "metadata": {},
   "source": [
    "## Warning: Do not use if atNetPlayer1 is in shot_data\n",
    "### Add Column: atNetPlayer1, atNetPlayer2\n",
    "\n",
    "- if below says atNetPlayer1: Uncomment below Code\n",
    "- replace later with atNetPlayer1 atNetPlayer2"
   ]
  },
  {
   "cell_type": "code",
   "execution_count": 81,
   "id": "2cd27435-75e9-4673-862d-39adbeb93580",
   "metadata": {},
   "outputs": [
    {
     "name": "stdout",
     "output_type": "stream",
     "text": [
      "Column 'atNetPlayer1' exists in point_df.\n",
      "Column 'atNetPlayer2' exists in point_df.\n"
     ]
    }
   ],
   "source": [
    "# Check if 'atNetPlayer1' exists in point_df\n",
    "if 'atNetPlayer1' in shot_data.columns:\n",
    "    print(\"Column 'atNetPlayer1' exists in point_df.\")\n",
    "else:\n",
    "    raise ValueError(\"Column 'atNetPlayer1' does not exist in point_df.\")\n",
    "\n",
    "\n",
    "if 'atNetPlayer2' in shot_data.columns:\n",
    "    print(\"Column 'atNetPlayer2' exists in point_df.\")\n",
    "else:\n",
    "    raise ValueError(\"Column 'atNetPlayer2' does not exist in point_df.\")"
   ]
  },
  {
   "cell_type": "code",
   "execution_count": 82,
   "id": "36d51032-7be4-4e1c-81e8-6888f389660f",
   "metadata": {},
   "outputs": [],
   "source": [
    "# Add atNetPlayer1 and atNetPlayer2 columns\n",
    "# point_df['atNetPlayer1'] = 0\n",
    "# point_df['atNetPlayer2'] = 0\n",
    "\n",
    "for point_number in shot_data['pointNumber'].unique():\n",
    "    # Check if firstServeIn is 1 for the given pointNumber in shot_data\n",
    "    if any((shot_data['pointNumber'] == point_number) & (shot_data['atNetPlayer1'] == 1)):\n",
    "        point_df.loc[point_df['pointNumber'] == point_number, 'atNetPlayer1'] = 1\n",
    "\n",
    "    # Check if secondServeIn is 1 for the given pointNumber in shot_data\n",
    "    if any((shot_data['pointNumber'] == point_number) & (shot_data['atNetPlayer2'] == 1)):\n",
    "        point_df.loc[point_df['pointNumber'] == point_number, 'atNetPlayer2'] = 1"
   ]
  },
  {
   "cell_type": "markdown",
   "id": "7d091079-a2ba-485c-8abb-71acb4df66f6",
   "metadata": {},
   "source": [
    "### Add Column: setNum"
   ]
  },
  {
   "cell_type": "code",
   "execution_count": 83,
   "id": "6f762139-8377-4e82-90e1-5a6b474d0375",
   "metadata": {},
   "outputs": [],
   "source": [
    "# Extract numbers from 'setScore' and calculate the sum plus 1\n",
    "point_df['setNum'] = point_df['setScore'].apply(lambda x: sum(int(char) for char in x if char.isdigit()) + 1)"
   ]
  },
  {
   "cell_type": "code",
   "execution_count": 84,
   "id": "5321fcdc-09a6-4442-832e-8df1485658f1",
   "metadata": {},
   "outputs": [
    {
     "data": {
      "text/plain": [
       "Index(['pointNumber', 'player1Name', 'player2Name', 'pointScore', 'gameScore',\n",
       "       'setScore', 'tiebreakScore', 'side', 'serverName', 'returnerName',\n",
       "       'clientTeam', 'opponentTeam', 'Position', 'pointEndPosition',\n",
       "       'Duration', 'rallyCount', 'rallyCountFreq', 'firstServeIn',\n",
       "       'secondServeIn', 'serveResult', 'serveInPlacement', 'firstServeZone',\n",
       "       'secondServeZone', 'isAce', 'serverFarNear', 'firstServeXCoord',\n",
       "       'firstServeYCoord', 'secondServeXCoord', 'secondServeYCoord',\n",
       "       'returnDirection', 'returnFhBh', 'errorType', 'returnError',\n",
       "       'lastShotDirection', 'lastShotFhBh', 'lastShotHitBy', 'lastShotResult',\n",
       "       'pointWonBy', 'isExcitingPoint', 'isBreakPoint', 'atNetPlayer2',\n",
       "       'atNetPlayer1', 'setNum'],\n",
       "      dtype='object')"
      ]
     },
     "execution_count": 84,
     "metadata": {},
     "output_type": "execute_result"
    }
   ],
   "source": [
    "point_df.columns"
   ]
  },
  {
   "cell_type": "markdown",
   "id": "68b07b91-ef33-4314-a33a-41be146d2707",
   "metadata": {},
   "source": [
    "### Add Column: Game Number, Set Number, Game/Set/Point for each player"
   ]
  },
  {
   "cell_type": "code",
   "execution_count": 85,
   "id": "35bbb4a6-53dc-4b66-8399-5cd1d2cd4365",
   "metadata": {},
   "outputs": [],
   "source": [
    "point_df[['player1SetScore', 'player2SetScore']] = point_df['setScore'].str.split('-', expand=True)\n",
    "point_df[['player1GameScore', 'player2GameScore']] = point_df['gameScore'].str.split('-', expand=True)\n",
    "point_df[['player1PointScore', 'player2PointScore']] = point_df['pointScore'].str.split('-', expand=True)\n",
    "if not point_df['tiebreakScore'].isnull().all() and not point_df['tiebreakScore'].eq(\"\").all():\n",
    "    # Perform the operation only when tiebreakScore is not empty\n",
    "    point_df[['player1TiebreakScore', 'player2TiebreakScore']] = point_df['tiebreakScore'].str.split('-', expand=True)\n",
    "else:\n",
    "    # Set player1TiebreakScore and player2TiebreakScore to NaN\n",
    "    point_df['player1TiebreakScore'] = np.nan\n",
    "    point_df['player2TiebreakScore'] = np.nan\n",
    "    \n",
    "def calculate_game_number(score):\n",
    "    return int(score.split('-')[0]) + int(score.split('-')[1])+1\n",
    "\n",
    "# Apply the function to create the 'gameNumber' column\n",
    "point_df['gameNumber'] = point_df['gameScore'].apply(calculate_game_number)"
   ]
  },
  {
   "cell_type": "markdown",
   "id": "c07b8392-9f9d-4768-bef3-8217effe0c97",
   "metadata": {},
   "source": [
    "## Error Check 19: \n",
    "#### Output Game Number in order: Should be consecutive increasing. Ex: 1,2,3,4,5,6. End of Set 1. 1,2,3,4,5,6,7,8"
   ]
  },
  {
   "cell_type": "code",
   "execution_count": 86,
   "id": "07889dd3-4887-495d-9536-30d0b799b14e",
   "metadata": {},
   "outputs": [
    {
     "name": "stdout",
     "output_type": "stream",
     "text": [
      "1, 2, 3, 4, 5, 6, 7, 8, 9, 10, 1, 2, 3, 4, 5, 6, 7, 8, 9, "
     ]
    }
   ],
   "source": [
    "game_numbers = point_df['gameNumber'].tolist()\n",
    "\n",
    "# Initialize variables\n",
    "seen = set()\n",
    "prev = None\n",
    "\n",
    "# Iterate through gameNumber column\n",
    "for num in game_numbers:\n",
    "    # If the number is not in seen or it's different from the previous one, print it\n",
    "    if num not in seen or num != prev:\n",
    "        print(num, end=', ')\n",
    "    # If the number is the same as the previous one but not consecutive, print it\n",
    "    elif num == prev and num not in seen:\n",
    "        print(num, end=', ')\n",
    "    # Update seen set and prev variable\n",
    "    seen.add(num)\n",
    "    prev = num"
   ]
  },
  {
   "cell_type": "markdown",
   "id": "528a0c89-8948-43be-8d37-b844a061d6b7",
   "metadata": {},
   "source": [
    "### Add Column: player1ServeResult"
   ]
  },
  {
   "cell_type": "code",
   "execution_count": 87,
   "id": "c2362f99-6beb-4821-8880-a7717298d872",
   "metadata": {},
   "outputs": [],
   "source": [
    "# Add the 'player1ServeResult' column\n",
    "point_df['player1ServeResult'] = None\n",
    "\n",
    "# Set player1ServeResult based on conditions\n",
    "point_df.loc[point_df['serverName'] == point_df['player1Name'], 'player1ServeResult'] = point_df['serveResult']"
   ]
  },
  {
   "cell_type": "code",
   "execution_count": 88,
   "id": "384f623f-5341-4996-b688-fd5856f77d55",
   "metadata": {},
   "outputs": [],
   "source": [
    "point_df.loc[point_df['isAce'] == True, 'player1ServeResult'] = 'Ace'\n"
   ]
  },
  {
   "cell_type": "markdown",
   "id": "12706269-25d1-4c42-8200-6e4ccdeef2ab",
   "metadata": {},
   "source": [
    "### Add Column: player1ServePlacement"
   ]
  },
  {
   "cell_type": "code",
   "execution_count": 89,
   "id": "096d87b3-5048-493d-9444-99549d3afa85",
   "metadata": {},
   "outputs": [],
   "source": [
    "# Add the 'player1ServePlacement' column\n",
    "point_df['player1ServePlacement'] = None\n",
    "\n",
    "# Set player1ServePlacement based on conditions\n",
    "point_df.loc[point_df['serverName'] == point_df['player1Name'], 'player1ServePlacement'] = point_df['side'] + ': ' + point_df['serveInPlacement']"
   ]
  },
  {
   "cell_type": "markdown",
   "id": "368139a0-a088-44d1-9603-3f15c4c9a92b",
   "metadata": {},
   "source": [
    "### Add Column: player1ReturnPlacement"
   ]
  },
  {
   "cell_type": "code",
   "execution_count": 90,
   "id": "e6c850aa-b0bc-497e-a2b8-ba9b935287b1",
   "metadata": {},
   "outputs": [],
   "source": [
    "# Add the 'player1ReturnPlacement' column\n",
    "point_df['player1ReturnPlacement'] = None\n",
    "\n",
    "# Set player1ServePlacement based on conditions\n",
    "point_df.loc[point_df['returnerName'] == point_df['player1Name'], 'player1ReturnPlacement'] = point_df['returnDirection']"
   ]
  },
  {
   "cell_type": "markdown",
   "id": "1dbe59a6-7462-470a-8655-4ac199d5c678",
   "metadata": {},
   "source": [
    "### Add Column: player1ReturnFhBh"
   ]
  },
  {
   "cell_type": "code",
   "execution_count": 91,
   "id": "12563728-af42-4207-bd96-3185ff9b1325",
   "metadata": {},
   "outputs": [],
   "source": [
    "# Add the 'player1ReturnFhBh' column\n",
    "point_df['player1ReturnFhBh'] = None\n",
    "\n",
    "# Set player1ServePlacement based on conditions\n",
    "point_df.loc[point_df['returnerName'] == point_df['player1Name'], 'player1ReturnFhBh'] = point_df['returnFhBh']"
   ]
  },
  {
   "cell_type": "markdown",
   "id": "6153038d-b0fb-4a4a-a6ef-964f5ba94d10",
   "metadata": {},
   "source": [
    "### Add Column: player1LastShotPlacement"
   ]
  },
  {
   "cell_type": "code",
   "execution_count": 92,
   "id": "8a766537-32fa-4dee-b49b-05403db0fca6",
   "metadata": {},
   "outputs": [],
   "source": [
    "# Add the 'player1LastShotFhBh' column\n",
    "point_df['player1LastShotPlacement'] = None\n",
    "\n",
    "# Set player1ServePlacement based on conditions\n",
    "point_df.loc[point_df['lastShotHitBy'] == point_df['player1Name'], 'player1LastShotPlacement'] = point_df['lastShotDirection']"
   ]
  },
  {
   "cell_type": "markdown",
   "id": "0c6cb1ae-ea60-4d85-93ba-890ed98180b4",
   "metadata": {},
   "source": [
    "### Add Column: player1LastShotFhBh"
   ]
  },
  {
   "cell_type": "code",
   "execution_count": 93,
   "id": "b3657d3b-ba7d-43e7-9735-9674e6a7a6ad",
   "metadata": {},
   "outputs": [],
   "source": [
    "# Add the 'player1LastShotFhBh' column\n",
    "point_df['player1LastShotFhBh'] = None\n",
    "\n",
    "# Set player1ServePlacement based on conditions\n",
    "point_df.loc[point_df['lastShotHitBy'] == point_df['player1Name'], 'player1LastShotFhBh'] = point_df['lastShotFhBh']"
   ]
  },
  {
   "cell_type": "markdown",
   "id": "7c843db5-492a-4b4b-9e73-18e82782b18d",
   "metadata": {},
   "source": [
    "### Add Column: player1LastShotResult"
   ]
  },
  {
   "cell_type": "code",
   "execution_count": 94,
   "id": "a5d72b7c-175e-4389-9c1d-b87c905f07fd",
   "metadata": {},
   "outputs": [],
   "source": [
    "# Add the 'player1LastShotResult' column\n",
    "point_df['player1LastShotResult'] = None\n",
    "\n",
    "# Set player1LastShotResult based on conditions, excluding 'Ace' and 'Double Fault'\n",
    "point_df.loc[\n",
    "    (point_df['lastShotHitBy'] == point_df['player1Name']) & \n",
    "    ~point_df['player1ServeResult'].isin(['Ace', 'Double Fault']), \n",
    "    'player1LastShotResult'\n",
    "] = point_df['lastShotResult']\n"
   ]
  },
  {
   "cell_type": "code",
   "execution_count": 95,
   "id": "30f640bb-b8f8-4f3a-867a-bc157dfc2b25",
   "metadata": {},
   "outputs": [],
   "source": [
    "# Add the 'player2ServeResult' column\n",
    "point_df['player2ServeResult'] = None\n",
    "\n",
    "# Set player1ServeResult based on conditions\n",
    "point_df.loc[point_df['serverName'] == point_df['player2Name'], 'player2ServeResult'] = point_df['serveResult']"
   ]
  },
  {
   "cell_type": "code",
   "execution_count": 96,
   "id": "f7204d76-ebb4-488c-a1fd-20defa050fdc",
   "metadata": {},
   "outputs": [],
   "source": [
    "point_df.loc[point_df['isAce'] == True, 'player1ServeResult'] = 'Ace'\n"
   ]
  },
  {
   "cell_type": "markdown",
   "id": "3f127274-937c-44dc-b661-0cf1394f7a55",
   "metadata": {},
   "source": [
    "### Add Column: player2ServePlacement"
   ]
  },
  {
   "cell_type": "code",
   "execution_count": 97,
   "id": "5555bf1b-130a-4504-a291-c55e14c7082e",
   "metadata": {},
   "outputs": [],
   "source": [
    "# Add the 'player1ServePlacement' column\n",
    "point_df['player2ServePlacement'] = None\n",
    "\n",
    "# Set player1ServePlacement based on conditions\n",
    "point_df.loc[point_df['serverName'] == point_df['player2Name'], 'player2ServePlacement'] = point_df['side'] + ': ' + point_df['serveInPlacement']"
   ]
  },
  {
   "cell_type": "markdown",
   "id": "ab680e05-13fa-445d-b17c-d4e917e4b0a0",
   "metadata": {},
   "source": [
    "### Add Column: player2ReturnPlacement"
   ]
  },
  {
   "cell_type": "code",
   "execution_count": 98,
   "id": "6cff1321-4e19-4f3b-a124-9447543f9836",
   "metadata": {},
   "outputs": [],
   "source": [
    "# Add the 'player2ReturnPlacement' column\n",
    "point_df['player2ReturnPlacement'] = None\n",
    "\n",
    "# Set player1ServePlacement based on conditions\n",
    "point_df.loc[point_df['returnerName'] == point_df['player2Name'], 'player2ReturnPlacement'] = point_df['returnDirection']"
   ]
  },
  {
   "cell_type": "markdown",
   "id": "9922c54f-d431-4d06-8e4f-5b5ae7db3ec4",
   "metadata": {},
   "source": [
    "### Add Column: player2ReturnFhBh"
   ]
  },
  {
   "cell_type": "code",
   "execution_count": 99,
   "id": "ab4569cf-557f-45e0-8d63-700c57ccb7d7",
   "metadata": {},
   "outputs": [],
   "source": [
    "# Add the 'player1ReturnFhBh' column\n",
    "point_df['player2ReturnFhBh'] = None\n",
    "\n",
    "# Set player1ServePlacement based on conditions\n",
    "point_df.loc[point_df['returnerName'] == point_df['player2Name'], 'player2ReturnFhBh'] = point_df['returnFhBh']"
   ]
  },
  {
   "cell_type": "markdown",
   "id": "ae86d237-6e1c-430e-9b4c-5b5a9b115a21",
   "metadata": {},
   "source": [
    "### Add Column: player2LastShotPlacement"
   ]
  },
  {
   "cell_type": "code",
   "execution_count": 100,
   "id": "9dc20090-333e-4779-93f3-734e4643bd3c",
   "metadata": {},
   "outputs": [],
   "source": [
    "# Add the 'player1LastShotFhBh' column\n",
    "point_df['player2LastShotPlacement'] = None\n",
    "\n",
    "# Set player1ServePlacement based on conditions\n",
    "point_df.loc[point_df['lastShotHitBy'] == point_df['player2Name'], 'player2LastShotPlacement'] = point_df['lastShotDirection']"
   ]
  },
  {
   "cell_type": "markdown",
   "id": "1f64ec58-4876-47f3-8312-6618e70a885b",
   "metadata": {},
   "source": [
    "### Add Column: player2LastShotFhBh"
   ]
  },
  {
   "cell_type": "code",
   "execution_count": 101,
   "id": "1e23e946-630d-4abb-8784-ba54ee2c361e",
   "metadata": {},
   "outputs": [],
   "source": [
    "# Add the 'player1LastShotFhBh' column\n",
    "point_df['player2LastShotFhBh'] = None\n",
    "\n",
    "# Set player1ServePlacement based on conditions\n",
    "point_df.loc[point_df['lastShotHitBy'] == point_df['player2Name'], 'player2LastShotFhBh'] = point_df['lastShotFhBh']"
   ]
  },
  {
   "cell_type": "markdown",
   "id": "980ec9fa-6b5c-48b5-bc75-7faee7fc6d16",
   "metadata": {},
   "source": [
    "### Add Column: player2LastShotResult"
   ]
  },
  {
   "cell_type": "code",
   "execution_count": 102,
   "id": "f2c4e04c-911c-4afc-b485-0f4236f0aa2b",
   "metadata": {},
   "outputs": [],
   "source": [
    "# Add the 'player2LastShotResult' column\n",
    "point_df['player2LastShotResult'] = None\n",
    "\n",
    "# Set player1LastShotResult based on conditions, excluding 'Ace' and 'Double Fault'\n",
    "point_df.loc[\n",
    "    (point_df['lastShotHitBy'] == point_df['player2Name']) &\n",
    "    ~point_df['player2ServeResult'].isin(['Ace', 'Double Fault']),\n",
    "    'player2LastShotResult'\n",
    "] = point_df['lastShotResult']\n"
   ]
  },
  {
   "cell_type": "code",
   "execution_count": 103,
   "id": "28c08aa1-6a66-4f0d-a28d-c159a9509fec",
   "metadata": {},
   "outputs": [
    {
     "name": "stdout",
     "output_type": "stream",
     "text": [
      "    setNum gameScore pointScore player1ServePlacement serveInPlacement\n",
      "0        1       0-0        0-0           Deuce: Body             Body\n",
      "6        1       0-0       15-0              Ad: Body             Body\n",
      "11       1       0-0      15-15           Deuce: Body             Body\n",
      "15       1       0-0      30-15                   NaN             None\n",
      "22       1       0-0      30-30              Deuce: T                T\n",
      "30       1       0-0      40-30              Ad: Body             Body\n",
      "42       1       0-0      40-40              Deuce: T                T\n",
      "49       1       0-0       40-A                 Ad: T                T\n",
      "53       1       0-0      40-40           Deuce: Wide             Wide\n",
      "63       1       0-0       A-40              Ad: Body             Body\n"
     ]
    }
   ],
   "source": [
    "print(point_df[['setNum', 'gameScore','pointScore','player1ServePlacement','serveInPlacement']].head(10))"
   ]
  },
  {
   "cell_type": "code",
   "execution_count": 104,
   "id": "75c4d4fb-612f-437d-8ea0-ba4895d11fc2",
   "metadata": {},
   "outputs": [
    {
     "name": "stdout",
     "output_type": "stream",
     "text": [
      "    setNum gameScore pointScore player1ServePlacement serveInPlacement\n",
      "0        1       0-0        0-0           Deuce: Body             Body\n",
      "6        1       0-0       15-0              Ad: Body             Body\n",
      "11       1       0-0      15-15           Deuce: Body             Body\n",
      "15       1       0-0      30-15                   NaN             None\n",
      "22       1       0-0      30-30              Deuce: T                T\n",
      "30       1       0-0      40-30              Ad: Body             Body\n",
      "42       1       0-0      40-40              Deuce: T                T\n",
      "49       1       0-0       40-A                 Ad: T                T\n",
      "53       1       0-0      40-40           Deuce: Wide             Wide\n",
      "63       1       0-0       A-40              Ad: Body             Body\n"
     ]
    }
   ],
   "source": [
    "print(point_df[['setNum', 'gameScore','pointScore','player1ServePlacement','serveInPlacement']].head(10))"
   ]
  },
  {
   "cell_type": "markdown",
   "id": "a7233156",
   "metadata": {},
   "source": [
    "### Add Columns: Depths Count (Short, Deep)"
   ]
  },
  {
   "cell_type": "code",
   "execution_count": 105,
   "id": "f621dc7f",
   "metadata": {},
   "outputs": [],
   "source": [
    "# Add counts for each player on how many short and deep balls they hit in the point (group by pointNumber)\n",
    "# - don't have to do long since we already know what points end with isErrorLong (and also isErrorNet)\n",
    "\n"
   ]
  },
  {
   "cell_type": "markdown",
   "id": "fcb3dc11-4abc-4f1b-b07a-50e2b8295043",
   "metadata": {},
   "source": [
    "## Add Column: Name (For Video)"
   ]
  },
  {
   "cell_type": "code",
   "execution_count": 106,
   "id": "9487a6d5-18eb-4a3b-ab7c-995482a3ce49",
   "metadata": {},
   "outputs": [],
   "source": [
    "# Change pointScore to the specified format\n",
    "point_df['Name'] = point_df.apply(lambda row: f\"Set {row['setNum']}: {row['gameScore']}, {row['tiebreakScore']} {row['serverName']} Serving\" if pd.notna(row['tiebreakScore']) else f\"Set {row['setNum']}: {row['gameScore']}, {row['pointScore']} {row['serverName']} Serving\", axis=1)\n"
   ]
  },
  {
   "cell_type": "code",
   "execution_count": 107,
   "id": "ea3c8e6e-fd05-47e1-90a1-aded3c01c54b",
   "metadata": {
    "scrolled": true
   },
   "outputs": [
    {
     "data": {
      "text/html": [
       "<div>\n",
       "<style scoped>\n",
       "    .dataframe tbody tr th:only-of-type {\n",
       "        vertical-align: middle;\n",
       "    }\n",
       "\n",
       "    .dataframe tbody tr th {\n",
       "        vertical-align: top;\n",
       "    }\n",
       "\n",
       "    .dataframe thead th {\n",
       "        text-align: right;\n",
       "    }\n",
       "</style>\n",
       "<table border=\"1\" class=\"dataframe\">\n",
       "  <thead>\n",
       "    <tr style=\"text-align: right;\">\n",
       "      <th></th>\n",
       "      <th>setNum</th>\n",
       "      <th>gameScore</th>\n",
       "      <th>pointScore</th>\n",
       "      <th>tiebreakScore</th>\n",
       "      <th>Name</th>\n",
       "    </tr>\n",
       "  </thead>\n",
       "  <tbody>\n",
       "    <tr>\n",
       "      <th>0</th>\n",
       "      <td>1</td>\n",
       "      <td>0-0</td>\n",
       "      <td>0-0</td>\n",
       "      <td>None</td>\n",
       "      <td>Set 1: 0-0, 0-0 Rudy Quan Serving</td>\n",
       "    </tr>\n",
       "    <tr>\n",
       "      <th>6</th>\n",
       "      <td>1</td>\n",
       "      <td>0-0</td>\n",
       "      <td>15-0</td>\n",
       "      <td>None</td>\n",
       "      <td>Set 1: 0-0, 15-0 Rudy Quan Serving</td>\n",
       "    </tr>\n",
       "    <tr>\n",
       "      <th>11</th>\n",
       "      <td>1</td>\n",
       "      <td>0-0</td>\n",
       "      <td>15-15</td>\n",
       "      <td>None</td>\n",
       "      <td>Set 1: 0-0, 15-15 Rudy Quan Serving</td>\n",
       "    </tr>\n",
       "    <tr>\n",
       "      <th>15</th>\n",
       "      <td>1</td>\n",
       "      <td>0-0</td>\n",
       "      <td>30-15</td>\n",
       "      <td>None</td>\n",
       "      <td>Set 1: 0-0, 30-15 Rudy Quan Serving</td>\n",
       "    </tr>\n",
       "    <tr>\n",
       "      <th>22</th>\n",
       "      <td>1</td>\n",
       "      <td>0-0</td>\n",
       "      <td>30-30</td>\n",
       "      <td>None</td>\n",
       "      <td>Set 1: 0-0, 30-30 Rudy Quan Serving</td>\n",
       "    </tr>\n",
       "  </tbody>\n",
       "</table>\n",
       "</div>"
      ],
      "text/plain": [
       "    setNum gameScore pointScore tiebreakScore  \\\n",
       "0        1       0-0        0-0          None   \n",
       "6        1       0-0       15-0          None   \n",
       "11       1       0-0      15-15          None   \n",
       "15       1       0-0      30-15          None   \n",
       "22       1       0-0      30-30          None   \n",
       "\n",
       "                                   Name  \n",
       "0     Set 1: 0-0, 0-0 Rudy Quan Serving  \n",
       "6    Set 1: 0-0, 15-0 Rudy Quan Serving  \n",
       "11  Set 1: 0-0, 15-15 Rudy Quan Serving  \n",
       "15  Set 1: 0-0, 30-15 Rudy Quan Serving  \n",
       "22  Set 1: 0-0, 30-30 Rudy Quan Serving  "
      ]
     },
     "execution_count": 107,
     "metadata": {},
     "output_type": "execute_result"
    }
   ],
   "source": [
    "point_df[['setNum', 'gameScore','pointScore','tiebreakScore','Name']].head(5)"
   ]
  },
  {
   "cell_type": "code",
   "execution_count": 108,
   "id": "e9eae2e3",
   "metadata": {},
   "outputs": [
    {
     "data": {
      "text/html": [
       "<div>\n",
       "<style scoped>\n",
       "    .dataframe tbody tr th:only-of-type {\n",
       "        vertical-align: middle;\n",
       "    }\n",
       "\n",
       "    .dataframe tbody tr th {\n",
       "        vertical-align: top;\n",
       "    }\n",
       "\n",
       "    .dataframe thead th {\n",
       "        text-align: right;\n",
       "    }\n",
       "</style>\n",
       "<table border=\"1\" class=\"dataframe\">\n",
       "  <thead>\n",
       "    <tr style=\"text-align: right;\">\n",
       "      <th></th>\n",
       "      <th>setNum</th>\n",
       "      <th>gameScore</th>\n",
       "      <th>pointScore</th>\n",
       "      <th>tiebreakScore</th>\n",
       "      <th>Name</th>\n",
       "    </tr>\n",
       "  </thead>\n",
       "  <tbody>\n",
       "    <tr>\n",
       "      <th>832</th>\n",
       "      <td>2</td>\n",
       "      <td>3-5</td>\n",
       "      <td>0-15</td>\n",
       "      <td>None</td>\n",
       "      <td>Set 2: 3-5, 0-15 Rudy Quan Serving</td>\n",
       "    </tr>\n",
       "    <tr>\n",
       "      <th>835</th>\n",
       "      <td>2</td>\n",
       "      <td>3-5</td>\n",
       "      <td>0-30</td>\n",
       "      <td>None</td>\n",
       "      <td>Set 2: 3-5, 0-30 Rudy Quan Serving</td>\n",
       "    </tr>\n",
       "    <tr>\n",
       "      <th>839</th>\n",
       "      <td>2</td>\n",
       "      <td>3-5</td>\n",
       "      <td>0-40</td>\n",
       "      <td>None</td>\n",
       "      <td>Set 2: 3-5, 0-40 Rudy Quan Serving</td>\n",
       "    </tr>\n",
       "    <tr>\n",
       "      <th>841</th>\n",
       "      <td>2</td>\n",
       "      <td>3-5</td>\n",
       "      <td>15-40</td>\n",
       "      <td>None</td>\n",
       "      <td>Set 2: 3-5, 15-40 Rudy Quan Serving</td>\n",
       "    </tr>\n",
       "    <tr>\n",
       "      <th>855</th>\n",
       "      <td>2</td>\n",
       "      <td>3-5</td>\n",
       "      <td>30-40</td>\n",
       "      <td>None</td>\n",
       "      <td>Set 2: 3-5, 30-40 Rudy Quan Serving</td>\n",
       "    </tr>\n",
       "  </tbody>\n",
       "</table>\n",
       "</div>"
      ],
      "text/plain": [
       "     setNum gameScore pointScore tiebreakScore  \\\n",
       "832       2       3-5       0-15          None   \n",
       "835       2       3-5       0-30          None   \n",
       "839       2       3-5       0-40          None   \n",
       "841       2       3-5      15-40          None   \n",
       "855       2       3-5      30-40          None   \n",
       "\n",
       "                                    Name  \n",
       "832   Set 2: 3-5, 0-15 Rudy Quan Serving  \n",
       "835   Set 2: 3-5, 0-30 Rudy Quan Serving  \n",
       "839   Set 2: 3-5, 0-40 Rudy Quan Serving  \n",
       "841  Set 2: 3-5, 15-40 Rudy Quan Serving  \n",
       "855  Set 2: 3-5, 30-40 Rudy Quan Serving  "
      ]
     },
     "execution_count": 108,
     "metadata": {},
     "output_type": "execute_result"
    }
   ],
   "source": [
    "point_df[['setNum', 'gameScore','pointScore','tiebreakScore','Name']].tail(5)"
   ]
  },
  {
   "cell_type": "markdown",
   "id": "d4ebed59-72a7-4dc9-a63f-95b528ab5bbb",
   "metadata": {},
   "source": [
    "## Reorder DataFrame for Output"
   ]
  },
  {
   "cell_type": "code",
   "execution_count": 109,
   "id": "8fa6c8a9-ad32-47d6-88f0-1f3550fcff96",
   "metadata": {},
   "outputs": [],
   "source": [
    "point_df_copy = point_df.copy()"
   ]
  },
  {
   "cell_type": "code",
   "execution_count": 110,
   "id": "90659462-13b0-4991-9c59-4924754d9924",
   "metadata": {},
   "outputs": [
    {
     "data": {
      "text/plain": [
       "(135, 67)"
      ]
     },
     "execution_count": 110,
     "metadata": {},
     "output_type": "execute_result"
    }
   ],
   "source": [
    "point_df.shape"
   ]
  },
  {
   "cell_type": "code",
   "execution_count": 111,
   "id": "4ea3efb9-85d7-4428-afef-2c174d1e5f13",
   "metadata": {},
   "outputs": [
    {
     "data": {
      "text/plain": [
       "(135, 67)"
      ]
     },
     "execution_count": 111,
     "metadata": {},
     "output_type": "execute_result"
    }
   ],
   "source": [
    "point_df_copy.shape"
   ]
  },
  {
   "cell_type": "code",
   "execution_count": 112,
   "id": "fddad71c-4394-4731-979b-63add27425ea",
   "metadata": {},
   "outputs": [
    {
     "data": {
      "text/plain": [
       "Index(['pointNumber', 'player1Name', 'player2Name', 'pointScore', 'gameScore',\n",
       "       'setScore', 'tiebreakScore', 'side', 'serverName', 'returnerName',\n",
       "       'clientTeam', 'opponentTeam', 'Position', 'pointEndPosition',\n",
       "       'Duration', 'rallyCount', 'rallyCountFreq', 'firstServeIn',\n",
       "       'secondServeIn', 'serveResult', 'serveInPlacement', 'firstServeZone',\n",
       "       'secondServeZone', 'isAce', 'serverFarNear', 'firstServeXCoord',\n",
       "       'firstServeYCoord', 'secondServeXCoord', 'secondServeYCoord',\n",
       "       'returnDirection', 'returnFhBh', 'errorType', 'returnError',\n",
       "       'lastShotDirection', 'lastShotFhBh', 'lastShotHitBy', 'lastShotResult',\n",
       "       'pointWonBy', 'isExcitingPoint', 'isBreakPoint', 'atNetPlayer2',\n",
       "       'atNetPlayer1', 'setNum', 'player1SetScore', 'player2SetScore',\n",
       "       'player1GameScore', 'player2GameScore', 'player1PointScore',\n",
       "       'player2PointScore', 'player1TiebreakScore', 'player2TiebreakScore',\n",
       "       'gameNumber', 'player1ServeResult', 'player1ServePlacement',\n",
       "       'player1ReturnPlacement', 'player1ReturnFhBh',\n",
       "       'player1LastShotPlacement', 'player1LastShotFhBh',\n",
       "       'player1LastShotResult', 'player2ServeResult', 'player2ServePlacement',\n",
       "       'player2ReturnPlacement', 'player2ReturnFhBh',\n",
       "       'player2LastShotPlacement', 'player2LastShotFhBh',\n",
       "       'player2LastShotResult', 'Name'],\n",
       "      dtype='object')"
      ]
     },
     "execution_count": 112,
     "metadata": {},
     "output_type": "execute_result"
    }
   ],
   "source": [
    "point_df.columns"
   ]
  },
  {
   "cell_type": "code",
   "execution_count": 113,
   "id": "ba386657-82b9-4b27-9354-770b50fc7623",
   "metadata": {},
   "outputs": [],
   "source": [
    "desired_order = [\n",
    "    'Name', 'pointNumber', 'setNum', 'gameNumber', 'player1Name', 'player2Name',\n",
    "    'pointScore', 'gameScore', 'setScore', 'tiebreakScore', 'side', 'serverName',\n",
    "    'returnerName', 'Position', 'pointEndPosition', 'Duration', 'pointWonBy',\n",
    "    'rallyCount', 'rallyCountFreq', 'firstServeIn', 'secondServeIn',\n",
    "    'serveResult', 'serveInPlacement', 'firstServeZone', 'secondServeZone',\n",
    "    'isAce','serverFarNear', 'firstServeXCoord', 'firstServeYCoord', 'secondServeXCoord', 'secondServeYCoord','returnDirection', 'returnFhBh', 'errorType', 'returnError',\n",
    "    'lastShotDirection', 'lastShotFhBh', 'lastShotHitBy', 'lastShotResult',\n",
    "    'isBreakPoint', 'atNetPlayer1', 'atNetPlayer2', 'isExcitingPoint', 'player1SetScore',\n",
    "    'player2SetScore', 'player1GameScore', 'player2GameScore', 'player1PointScore',\n",
    "    'player2PointScore', 'player1TiebreakScore', 'player2TiebreakScore',\n",
    "    'player1ServeResult', 'player1ServePlacement', 'player1ReturnPlacement',\n",
    "    'player1ReturnFhBh', 'player1LastShotPlacement', 'player1LastShotFhBh',\n",
    "    'player1LastShotResult', 'player2ServeResult', 'player2ServePlacement',\n",
    "       'player2ReturnPlacement', 'player2ReturnFhBh',\n",
    "       'player2LastShotPlacement', 'player2LastShotFhBh',\n",
    "       'player2LastShotResult', 'clientTeam', 'opponentTeam'\n",
    "]\n",
    "\n",
    "# Reorder the columns\n",
    "point_df = point_df.reindex(columns=desired_order)"
   ]
  },
  {
   "cell_type": "markdown",
   "id": "2b3f3268-eac6-4b0d-83d8-0b943d927015",
   "metadata": {},
   "source": [
    "## Error Check 20: \n",
    "#### Check if the columns and their order are the same"
   ]
  },
  {
   "cell_type": "code",
   "execution_count": 114,
   "id": "fdead9e8-666d-4d5a-82b6-f3691aae7185",
   "metadata": {},
   "outputs": [
    {
     "name": "stdout",
     "output_type": "stream",
     "text": [
      "(135, 67)\n",
      "(135, 67)\n",
      "Check passed.\n"
     ]
    }
   ],
   "source": [
    "print(point_df.shape)\n",
    "print(point_df_copy.shape)\n",
    "\n",
    "if (point_df.shape == point_df_copy.shape):\n",
    "    print('Check passed.')\n",
    "else:\n",
    "    raise ValueError('Error: Not the same!')"
   ]
  },
  {
   "cell_type": "code",
   "execution_count": 115,
   "id": "48cf85be-dfd1-4cd0-a548-be645e166da8",
   "metadata": {},
   "outputs": [
    {
     "name": "stdout",
     "output_type": "stream",
     "text": [
      "All columns in point_df are also in point_df_copy\n",
      "All columns in point_df_copy are also in point_df\n"
     ]
    }
   ],
   "source": [
    "# Get the set of column names for each DataFrame\n",
    "point_df_columns = set(point_df.columns)\n",
    "point_df_copy_columns = set(point_df_copy.columns)\n",
    "\n",
    "# Find the column names unique to each DataFrame\n",
    "unique_to_point_df = point_df_columns - point_df_copy_columns\n",
    "unique_to_point_df_copy = point_df_copy_columns - point_df_columns\n",
    "\n",
    "# Output the results\n",
    "if unique_to_point_df:\n",
    "    print(\"Columns unique to point_df:\", unique_to_point_df)\n",
    "else:\n",
    "    print(\"All columns in point_df are also in point_df_copy\")\n",
    "\n",
    "if unique_to_point_df_copy:\n",
    "    print(\"Columns unique to point_df_copy:\", unique_to_point_df_copy)\n",
    "else:\n",
    "    print(\"All columns in point_df_copy are also in point_df\")\n"
   ]
  },
  {
   "cell_type": "markdown",
   "id": "0b51b1c2-8a26-4b5a-8a86-c08c7738172b",
   "metadata": {},
   "source": [
    "## Warning: All nan to \"\"\n",
    "### Alterating Data"
   ]
  },
  {
   "cell_type": "code",
   "execution_count": 116,
   "id": "c6f8badd-f2e3-469e-a885-2ce2f56a9c49",
   "metadata": {},
   "outputs": [],
   "source": [
    "# Change Na to \"\" Empty String\n",
    "\n",
    "# Assuming point_df is your DataFrame\n",
    "point_df.replace([pd.NA, None, pd.NaT, float('nan')], \"\", inplace=True)"
   ]
  },
  {
   "cell_type": "markdown",
   "id": "ad4334e4-cac5-451d-8770-8b691649ba07",
   "metadata": {},
   "source": [
    "# Double Check before Outputting Point (FOR VISUAL)"
   ]
  },
  {
   "cell_type": "code",
   "execution_count": 117,
   "id": "6a44a324-4c8b-49a8-96d4-80be4ea2267f",
   "metadata": {},
   "outputs": [
    {
     "name": "stdout",
     "output_type": "stream",
     "text": [
      "                                   Name  pointNumber  setNum  gameNumber  \\\n",
      "0     Set 1: 0-0, 0-0 Rudy Quan Serving            1       1           1   \n",
      "6    Set 1: 0-0, 15-0 Rudy Quan Serving            2       1           1   \n",
      "11  Set 1: 0-0, 15-15 Rudy Quan Serving            3       1           1   \n",
      "15  Set 1: 0-0, 30-15 Rudy Quan Serving            4       1           1   \n",
      "22  Set 1: 0-0, 30-30 Rudy Quan Serving            5       1           1   \n",
      "\n",
      "   player1Name   player2Name pointScore gameScore setScore tiebreakScore  ...  \\\n",
      "0    Rudy Quan  Yuta Shimizu        0-0       0-0      0-0                ...   \n",
      "6    Rudy Quan  Yuta Shimizu       15-0       0-0      0-0                ...   \n",
      "11   Rudy Quan  Yuta Shimizu      15-15       0-0      0-0                ...   \n",
      "15   Rudy Quan  Yuta Shimizu      30-15       0-0      0-0                ...   \n",
      "22   Rudy Quan  Yuta Shimizu      30-30       0-0      0-0                ...   \n",
      "\n",
      "   player1LastShotResult player2ServeResult player2ServePlacement  \\\n",
      "0                                                                   \n",
      "6                  Error                                            \n",
      "11                                                                  \n",
      "15                                                                  \n",
      "22                                                                  \n",
      "\n",
      "    player2ReturnPlacement player2ReturnFhBh player2LastShotPlacement  \\\n",
      "0            Down the Line          Forehand            Down the Line   \n",
      "6               Crosscourt          Forehand                            \n",
      "11              Crosscourt          Forehand            Down the Line   \n",
      "15              Crosscourt          Forehand                            \n",
      "22           Down the Line          Forehand            Down the Line   \n",
      "\n",
      "   player2LastShotFhBh  player2LastShotResult clientTeam  opponentTeam  \n",
      "0             Forehand                  Error       UCLA                \n",
      "6                                                   UCLA                \n",
      "11            Forehand                  Error       UCLA                \n",
      "15                                                  UCLA                \n",
      "22            Forehand                  Error       UCLA                \n",
      "\n",
      "[5 rows x 67 columns]\n"
     ]
    }
   ],
   "source": [
    "print(point_df.head(5))"
   ]
  },
  {
   "cell_type": "code",
   "execution_count": 118,
   "id": "83c57f83-14d4-4594-8e29-ee29b83c6eea",
   "metadata": {},
   "outputs": [
    {
     "name": "stdout",
     "output_type": "stream",
     "text": [
      "                                    Name  pointNumber  setNum  gameNumber  \\\n",
      "832   Set 2: 3-5, 0-15 Rudy Quan Serving          131       2           9   \n",
      "835   Set 2: 3-5, 0-30 Rudy Quan Serving          132       2           9   \n",
      "839   Set 2: 3-5, 0-40 Rudy Quan Serving          133       2           9   \n",
      "841  Set 2: 3-5, 15-40 Rudy Quan Serving          134       2           9   \n",
      "855  Set 2: 3-5, 30-40 Rudy Quan Serving          135       2           9   \n",
      "\n",
      "    player1Name   player2Name pointScore gameScore setScore tiebreakScore  \\\n",
      "832   Rudy Quan  Yuta Shimizu       0-15       3-5      0-1                 \n",
      "835   Rudy Quan  Yuta Shimizu       0-30       3-5      0-1                 \n",
      "839   Rudy Quan  Yuta Shimizu       0-40       3-5      0-1                 \n",
      "841   Rudy Quan  Yuta Shimizu      15-40       3-5      0-1                 \n",
      "855   Rudy Quan  Yuta Shimizu      30-40       3-5      0-1                 \n",
      "\n",
      "     ... player1LastShotResult player2ServeResult player2ServePlacement  \\\n",
      "832  ...                 Error                                            \n",
      "835  ...                                                                  \n",
      "839  ...                                                                  \n",
      "841  ...                                                                  \n",
      "855  ...                 Error                                            \n",
      "\n",
      "     player2ReturnPlacement player2ReturnFhBh player2LastShotPlacement  \\\n",
      "832              Crosscourt          Backhand                            \n",
      "835              Crosscourt          Backhand            Down the Line   \n",
      "839           Down the Line          Backhand            Down the Line   \n",
      "841           Down the Line          Backhand               Crosscourt   \n",
      "855              Crosscourt          Forehand                            \n",
      "\n",
      "    player2LastShotFhBh  player2LastShotResult clientTeam  opponentTeam  \n",
      "832                                                  UCLA                \n",
      "835            Forehand                 Winner       UCLA                \n",
      "839            Backhand                  Error       UCLA                \n",
      "841            Forehand                  Error       UCLA                \n",
      "855                                                  UCLA                \n",
      "\n",
      "[5 rows x 67 columns]\n"
     ]
    }
   ],
   "source": [
    "print(point_df.tail(5))"
   ]
  },
  {
   "cell_type": "markdown",
   "id": "67a89dc9-8346-46c7-abd1-c35e3d60513d",
   "metadata": {},
   "source": []
  },
  {
   "cell_type": "code",
   "execution_count": 119,
   "id": "a7408afb-d79d-433f-bfad-12831c0d78a7",
   "metadata": {},
   "outputs": [],
   "source": [
    "# Change Value Names for Match Viewer Output\n",
    "\n",
    "# Assuming point_df is your DataFrame and player1Name is the name from the first row\n",
    "player1Name = point_df.iloc[0]['player1Name']\n",
    "player2Name = point_df.iloc[0]['player2Name']\n",
    "\n",
    "# Replace values in the 'atNetPlayer1' column\n",
    "point_df['atNetPlayer1'] = point_df['atNetPlayer1'].replace({0: \"\", 1: player1Name})\n",
    "point_df['atNetPlayer2'] = point_df['atNetPlayer2'].replace({0: \"\", 1: player2Name})"
   ]
  },
  {
   "cell_type": "markdown",
   "id": "29c55fac-8013-4892-b868-89894561453c",
   "metadata": {},
   "source": [
    "# PRINT POINTCSV VISUALS"
   ]
  },
  {
   "cell_type": "code",
   "execution_count": 120,
   "id": "6068f39f-7f61-4a09-8b29-07adc9b52e83",
   "metadata": {},
   "outputs": [],
   "source": [
    "# Save point_df to CSV file\n",
    "\n",
    "# Assuming point_df is your DataFrame and player1Name and player2Name are the names from the first row\n",
    "player1NameNoSpace = point_df.iloc[0]['player1Name'].replace(\" \", \"\")\n",
    "player2NameNoSpace = point_df.iloc[0]['player2Name'].replace(\" \", \"\")\n",
    "\n",
    "# Save DataFrame to CSV file with modified player names\n",
    "point_df.to_csv(f'Point_Visuals_{player1NameNoSpace}_{player2NameNoSpace}.csv', index=False)\n"
   ]
  },
  {
   "cell_type": "code",
   "execution_count": 121,
   "id": "bac20398-32b6-443c-91c8-b846081258ee",
   "metadata": {},
   "outputs": [
    {
     "data": {
      "text/plain": [
       "'Point_Visuals_RudyQuan_YutaShimizu.json'"
      ]
     },
     "execution_count": 121,
     "metadata": {},
     "output_type": "execute_result"
    }
   ],
   "source": [
    "def csv_to_json(csv_file_path, json_file_name):\n",
    "    # Load CSV file into a pandas DataFrame\n",
    "    df = pd.read_csv(csv_file_path)\n",
    "    \n",
    "    # Convert DataFrame to JSON format\n",
    "    json_data = df.to_json(orient='records')\n",
    "    \n",
    "    # Save JSON data to a file in the same directory\n",
    "    json_file_path = f'{json_file_name}'\n",
    "    with open(json_file_path, 'w') as json_file:\n",
    "        json_file.write(json_data)\n",
    "    \n",
    "    return json_file_path\n",
    "\n",
    "# Define the CSV file path\n",
    "csv_file_path = f\"Point_Visuals_{player1NameNoSpace}_{player2NameNoSpace}.csv\"\n",
    "\n",
    "# Define the desired JSON file name (without extension)\n",
    "json_file_name = f\"Point_Visuals_{player1NameNoSpace}_{player2NameNoSpace}.json\"\n",
    "\n",
    "# Convert CSV to JSON and save in the same directory\n",
    "output_file_path = csv_to_json(csv_file_path, json_file_name)\n",
    "\n",
    "# Display the path where the JSON file is saved\n",
    "output_file_path\n"
   ]
  },
  {
   "cell_type": "markdown",
   "id": "c00e49c8-0479-47e8-bf83-28c6d57da209",
   "metadata": {},
   "source": [
    "# EDA"
   ]
  },
  {
   "cell_type": "markdown",
   "id": "735f9aa0-d40c-4c43-94a8-d97bbf920d60",
   "metadata": {},
   "source": [
    "## Shot CSV EDA"
   ]
  },
  {
   "cell_type": "code",
   "execution_count": 122,
   "id": "fc732ce1-8de6-4248-a8b2-228f4934eebd",
   "metadata": {},
   "outputs": [],
   "source": [
    "# Can input CSV Directly here for statistics functions\n",
    "\n",
    "# your_file_name = \"filename.csv\"\n",
    "# shot_eda = pd.read_csv(your_file_name)\n",
    "\n",
    "# if directly from notebook\n",
    "shot_eda = shot_data.copy()"
   ]
  },
  {
   "cell_type": "code",
   "execution_count": 123,
   "id": "4f834479-9c3d-4279-a799-99a8f595a08f",
   "metadata": {},
   "outputs": [
    {
     "name": "stdout",
     "output_type": "stream",
     "text": [
      "Number of Approach Shots hit by Rudy Quan: 1\n"
     ]
    }
   ],
   "source": [
    "player1Name = shot_eda.iloc[0]['player1Name']\n",
    "\n",
    "# Filter shot_data based on the conditions\n",
    "approach_data_player1 = shot_eda[(shot_eda['isApproach'] == 1) & (shot_eda['shotHitBy'] == player1Name)]\n",
    "\n",
    "# Count the distinct pointNumbers\n",
    "distinct_point_numbers = approach_data_player1['pointNumber'].nunique()\n",
    "\n",
    "# Print the result\n",
    "print(f\"Number of Approach Shots hit by {player1Name}: {distinct_point_numbers}\" )\n",
    "\n",
    "# print(approach_data_player1)\n"
   ]
  },
  {
   "cell_type": "markdown",
   "id": "479c35f4-3096-40c9-9560-3d5abeb81626",
   "metadata": {},
   "source": [
    "## Point CSV EDA"
   ]
  },
  {
   "cell_type": "code",
   "execution_count": 124,
   "id": "4f0feb90-99df-4639-bd31-95772fbdc57b",
   "metadata": {},
   "outputs": [],
   "source": [
    "# # Can input CSV Directly here for statistics functions\n",
    "# import pandas as pd\n",
    "# your_file_name = \"Point_Visuals_Anne-ChristineLutkemeyer_SehaYu.csv\"\n",
    "# point_df_eda = pd.read_csv(your_file_name)\n",
    "\n",
    "# # OR MAKE point_df_eda copy of point_df\n",
    "\n",
    "point_df_eda = point_df.copy()"
   ]
  },
  {
   "cell_type": "code",
   "execution_count": 125,
   "id": "ff9f9652-5ce4-436a-be30-abf5ea40236b",
   "metadata": {
    "scrolled": true
   },
   "outputs": [
    {
     "name": "stdout",
     "output_type": "stream",
     "text": [
      "Index(['Name', 'pointNumber', 'setNum', 'gameNumber', 'player1Name',\n",
      "       'player2Name', 'pointScore', 'gameScore', 'setScore', 'tiebreakScore',\n",
      "       'side', 'serverName', 'returnerName', 'Position', 'pointEndPosition',\n",
      "       'Duration', 'pointWonBy', 'rallyCount', 'rallyCountFreq',\n",
      "       'firstServeIn', 'secondServeIn', 'serveResult', 'serveInPlacement',\n",
      "       'firstServeZone', 'secondServeZone', 'isAce', 'serverFarNear',\n",
      "       'firstServeXCoord', 'firstServeYCoord', 'secondServeXCoord',\n",
      "       'secondServeYCoord', 'returnDirection', 'returnFhBh', 'errorType',\n",
      "       'returnError', 'lastShotDirection', 'lastShotFhBh', 'lastShotHitBy',\n",
      "       'lastShotResult', 'isBreakPoint', 'atNetPlayer1', 'atNetPlayer2',\n",
      "       'isExcitingPoint', 'player1SetScore', 'player2SetScore',\n",
      "       'player1GameScore', 'player2GameScore', 'player1PointScore',\n",
      "       'player2PointScore', 'player1TiebreakScore', 'player2TiebreakScore',\n",
      "       'player1ServeResult', 'player1ServePlacement', 'player1ReturnPlacement',\n",
      "       'player1ReturnFhBh', 'player1LastShotPlacement', 'player1LastShotFhBh',\n",
      "       'player1LastShotResult', 'player2ServeResult', 'player2ServePlacement',\n",
      "       'player2ReturnPlacement', 'player2ReturnFhBh',\n",
      "       'player2LastShotPlacement', 'player2LastShotFhBh',\n",
      "       'player2LastShotResult', 'clientTeam', 'opponentTeam'],\n",
      "      dtype='object')\n"
     ]
    }
   ],
   "source": [
    "print(point_df_eda.columns)"
   ]
  },
  {
   "cell_type": "code",
   "execution_count": 126,
   "id": "028aa13a-95ce-4020-85b6-b1a8e4d10014",
   "metadata": {},
   "outputs": [
    {
     "name": "stdout",
     "output_type": "stream",
     "text": [
      "pointNumber              47\n",
      "setNum                    1\n",
      "gameNumber                6\n",
      "serveResult    1st Serve In\n",
      "rallyCount                1\n",
      "serverName     Yuta Shimizu\n",
      "Name: 324, dtype: object\n",
      "pointNumber              66\n",
      "setNum                    1\n",
      "gameNumber               10\n",
      "serveResult    1st Serve In\n",
      "rallyCount                1\n",
      "serverName     Yuta Shimizu\n",
      "Name: 434, dtype: object\n",
      "pointNumber             121\n",
      "setNum                    2\n",
      "gameNumber                7\n",
      "serveResult    1st Serve In\n",
      "rallyCount                1\n",
      "serverName        Rudy Quan\n",
      "Name: 790, dtype: object\n",
      "pointNumber             125\n",
      "setNum                    2\n",
      "gameNumber                8\n",
      "serveResult    1st Serve In\n",
      "rallyCount                1\n",
      "serverName     Yuta Shimizu\n",
      "Name: 808, dtype: object\n"
     ]
    }
   ],
   "source": [
    "serve_in_rows = point_df_eda[(point_df_eda['serveResult'] == '1st Serve In') | (point_df_eda['serveResult'] == '2nd Serve In')]\n",
    "\n",
    "# filter the rows where rallyCount column is equal to 1\n",
    "desired_rows = serve_in_rows[serve_in_rows['rallyCount'] == 1]\n",
    "\n",
    "# print each row\n",
    "for index, row in desired_rows.iterrows():\n",
    "    print(row[['pointNumber', 'setNum', 'gameNumber','serveResult','rallyCount' ,'serverName']])\n"
   ]
  },
  {
   "cell_type": "code",
   "execution_count": 127,
   "id": "7cfc7542-6668-4c85-9522-cc52c121fa37",
   "metadata": {
    "scrolled": true
   },
   "outputs": [
    {
     "name": "stdout",
     "output_type": "stream",
     "text": [
      "\n",
      "Serve Results for Rudy Quan:\n",
      "\n",
      "Total Serves: 80\n",
      "First Serve In (Count): 64\n",
      "First Serve Won (Count): 31\n",
      "First Serve In (%): 80.00%\n",
      "First Serve Won (%): 48.44%\n",
      "Second Serve In (Count): 12\n",
      "Second Serve Total (Count): 16\n",
      "Second Serve Won (Count): 5\n",
      "Second Serve In (%): 75.00%\n",
      "Second Serve Won (%): 41.67%\n",
      "Ace (Count): 1\n",
      "Double Fault (Count): 4\n",
      "Points Won on Serve (Count) 36\n",
      "Points Won on Serve (%): 45.00%\n",
      "\n",
      "Return Results for Rudy Quan:\n",
      "\n",
      "Total Return (Count): 55\n",
      "Return Won (Count): 25\n",
      "Return Won (%): 56.81818181818182\n",
      "\n",
      "Return Made (Count): 44\n",
      "Return Made (%): 0.8\n",
      "Return Error (Count): 6\n",
      "Return Winner (Count): 0\n",
      "\n",
      "Deuce Return (Count): 29\n",
      "Deuce Return Made (Count): 22\n",
      "Deuce Return Made (%): 0.7586206896551724\n",
      "Deuce Return Won by Player1 (%): 72.72727272727273\n",
      "Deuce Return Won by Player1 (Count): 16\n",
      "\n",
      "Ad Return (Count): 26\n",
      "Ad Return Made (Count): 22\n",
      "Ad Return Made (%): 0.8461538461538461\n",
      "Ad Return Won by Player1 (Count): 9\n",
      "Ad Return Won by Player1 (%): 40.909090909090914\n",
      "\n",
      "Deuce Forehand Return Points - Made: 9\n",
      "Deuce Forehand Return Points - Error: 1\n",
      "Deuce Backhand Return Points - Made: 13\n",
      "Deuce Backhand Return Points - Error: 2\n",
      "\n",
      "Ad Forehand Return Points - Made: 3\n",
      "Ad Forehand Return Points - Error: 1\n",
      "Ad Backhand Return Points - Made: 19\n",
      "Ad Backhand Return Points - Error: 2\n",
      "\n",
      "At Net Results for Rudy Quan:\n",
      "\n",
      "Total Net Points for Rudy Quan: 3\n",
      "Percentage of Net Points for Rudy Quan: 2.22%\n",
      "\n",
      "Total Net Points won by Rudy Quan: 1\n",
      "Percentage of Net Points won by Rudy Quan: 33.33%\n"
     ]
    }
   ],
   "source": [
    "first_player1Name = point_df_eda['player1Name'].iloc[0]\n",
    "\n",
    "\n",
    "\n",
    "# Display the results\n",
    "print(f\"\\nServe Results for {first_player1Name}:\")\n",
    "\n",
    "# Assuming point_df_eda is your DataFrame\n",
    "total_serves = len(point_df_eda[point_df_eda['serverName'] == first_player1Name])\n",
    "first_serve_in_count = len(point_df_eda[(point_df_eda['serverName'] == first_player1Name) & (point_df_eda['firstServeIn'] == 1)])\n",
    "first_serve_won_count = len(point_df_eda[(point_df_eda['serverName'] == first_player1Name) & (point_df_eda['firstServeIn'] == 1) & (point_df_eda['pointWonBy'] == first_player1Name)])\n",
    "percentage_first_serve_in = (first_serve_in_count / total_serves) * 100 if total_serves > 0 else 0\n",
    "percentage_first_serve_won = (first_serve_won_count / first_serve_in_count) * 100 if first_serve_in_count > 0 else 0\n",
    "\n",
    "second_serve_total_count = len(point_df_eda[(point_df_eda['serverName'] == first_player1Name) & (point_df_eda['firstServeIn'] == 0)])\n",
    "second_serve_in_count = len(point_df_eda[(point_df_eda['serverName'] == first_player1Name) & (point_df_eda['firstServeIn'] == 0)& (point_df_eda['secondServeIn'] == 1)])\n",
    "second_serve_won_count = len(point_df_eda[(point_df_eda['serverName'] == first_player1Name) & (point_df_eda['firstServeIn'] == 0)& (point_df_eda['secondServeIn'] == 1) & (point_df_eda['pointWonBy'] == first_player1Name)])\n",
    "percentage_second_serve_in = (second_serve_in_count / second_serve_total_count) * 100 if second_serve_total_count > 0 else 0\n",
    "percentage_second_serve_won = (second_serve_won_count / second_serve_in_count) * 100 if second_serve_in_count > 0 else 0\n",
    "\n",
    "\n",
    "\n",
    "# Display the results\n",
    "print(\"\\nTotal Serves:\", total_serves)\n",
    "print(\"First Serve In (Count):\", first_serve_in_count)\n",
    "print(\"First Serve Won (Count):\", first_serve_won_count)\n",
    "print(f\"First Serve In (%): {percentage_first_serve_in:.2f}%\")\n",
    "print(f\"First Serve Won (%): {percentage_first_serve_won:.2f}%\")\n",
    "\n",
    "print(\"Second Serve In (Count):\", second_serve_in_count)\n",
    "print(\"Second Serve Total (Count):\", second_serve_total_count)\n",
    "print(\"Second Serve Won (Count):\", second_serve_won_count)\n",
    "print(f\"Second Serve In (%): {percentage_second_serve_in:.2f}%\")\n",
    "print(f\"Second Serve Won (%): {percentage_second_serve_won:.2f}%\")\n",
    "\n",
    "# Assuming point_df is your DataFrame\n",
    "count_is_ace = (point_df_eda[point_df_eda['serverName'] == first_player1Name]['isAce']).sum()\n",
    "count_is_double_fault = ((point_df_eda['serverName'] == first_player1Name) & (point_df_eda['serveResult'] == \"Double Fault\")).sum()\n",
    "\n",
    "# Display the results\n",
    "print(\"Ace (Count):\", count_is_ace)\n",
    "print(\"Double Fault (Count):\", count_is_double_fault)\n",
    "\n",
    "# Count of rows where serverName is equal to the first row of player1Name and pointWonBy is equal to the first row of player1Name\n",
    "total_service_points_won = len(point_df_eda[(point_df_eda['serverName'] == first_player1Name) & (point_df_eda['pointWonBy'] == first_player1Name)])\n",
    "total_service_points_won_percentage = total_service_points_won / total_serves *100\n",
    "\n",
    "# Display the results\n",
    "print(f\"Points Won on Serve (Count) {total_service_points_won}\")\n",
    "\n",
    "print(f\"Points Won on Serve (%): {total_service_points_won_percentage:.2f}%\")\n",
    "\n",
    "# Assuming point_df is your DataFrame\n",
    "return_points = point_df_eda[(point_df_eda['returnerName'] == first_player1Name)] # CHANGED THIS JERRY, REMOVED RALLY COUNT >= 2\n",
    "\n",
    "total_return = len(return_points)\n",
    "returnMade = len(return_points[(return_points['rallyCount'] > 2) | ((return_points['rallyCount'] == 2) & (return_points['lastShotResult'] != 'Error'))])\n",
    "returnError = len(return_points[(return_points['lastShotResult'] == 'Error') & (return_points['rallyCount'] == 2)])\n",
    "returnWinner = len(return_points[(return_points['lastShotResult'] == 'Winner') & (return_points['rallyCount'] == 2)])\n",
    "returnMadePercentage = returnMade/total_return\n",
    "\n",
    "returnWonByPlayer1 = len(return_points[return_points['pointWonBy'] == first_player1Name])\n",
    "returnWonByPlayer1Percentage = returnWonByPlayer1 / returnMade * 100 if returnMade > 0 else 0\n",
    "\n",
    "deuceReturnCount = len(return_points[return_points['side'] == 'Deuce'])\n",
    "adReturnCount = len(return_points[return_points['side'] == 'Ad'])\n",
    "\n",
    "\n",
    "deuceReturnMade = len(return_points[(return_points['side'] == 'Deuce') & ((return_points['rallyCount'] > 2) | ((return_points['rallyCount'] == 2) & (return_points['lastShotResult'] != 'Error')))])\n",
    "adReturnMade = len(return_points[(return_points['side'] == 'Ad') & ((return_points['rallyCount'] > 2) | ((return_points['rallyCount'] == 2) & (return_points['lastShotResult'] != 'Error')))])\n",
    "\n",
    "deuceReturnMadePercentage = deuceReturnMade/deuceReturnCount\n",
    "adReturnMadePercentage = adReturnMade/adReturnCount\n",
    "\n",
    "deuceReturnWonByPlayer1 = len(return_points[(return_points['side'] == 'Deuce') & (return_points['pointWonBy'] == first_player1Name) | ((return_points['rallyCount'] == 2) & (return_points['lastShotResult'] != 'Error'))])\n",
    "adReturnWonByPlayer1 = len(return_points[(return_points['side'] == 'Ad') & (return_points['pointWonBy'] == first_player1Name) | ((return_points['rallyCount'] == 2) & (return_points['lastShotResult'] != 'Error'))])\n",
    "\n",
    "deuceReturnWonByPlayer1Percentage = deuceReturnWonByPlayer1 / deuceReturnMade * 100 if deuceReturnMade > 0 else 0\n",
    "adReturnWonByPlayer1Percentage = adReturnWonByPlayer1 / adReturnMade * 100 if adReturnMade > 0 else 0\n",
    "\n",
    "\n",
    "\n",
    "\n",
    "print(f\"\\nReturn Results for {first_player1Name}:\\n\")\n",
    "\n",
    "print(\"Total Return (Count):\", total_return)\n",
    "print(\"Return Won (Count):\", returnWonByPlayer1)\n",
    "print(\"Return Won (%):\", returnWonByPlayer1Percentage)\n",
    "\n",
    "print(\"\\nReturn Made (Count):\", returnMade)\n",
    "print(\"Return Made (%):\", returnMadePercentage)\n",
    "print(\"Return Error (Count):\", returnError)\n",
    "print(\"Return Winner (Count):\", returnWinner)\n",
    "\n",
    "print(\"\\nDeuce Return (Count):\", deuceReturnCount)\n",
    "print(\"Deuce Return Made (Count):\", deuceReturnMade)\n",
    "print(\"Deuce Return Made (%):\", deuceReturnMadePercentage)\n",
    "print(\"Deuce Return Won by Player1 (%):\", deuceReturnWonByPlayer1Percentage)\n",
    "print(\"Deuce Return Won by Player1 (Count):\", deuceReturnWonByPlayer1)\n",
    "\n",
    "\n",
    "print(\"\\nAd Return (Count):\", adReturnCount)\n",
    "print(\"Ad Return Made (Count):\", adReturnMade)\n",
    "print(\"Ad Return Made (%):\", adReturnMadePercentage)\n",
    "print(\"Ad Return Won by Player1 (Count):\", adReturnWonByPlayer1)\n",
    "print(\"Ad Return Won by Player1 (%):\", adReturnWonByPlayer1Percentage)\n",
    "\n",
    "# Assuming return_points is your DataFrame\n",
    "deuce_return_points = return_points[(return_points['side'] == 'Deuce') & (return_points['returnerName'] == first_player1Name) & (return_points['rallyCount'] >= 2)]\n",
    "\n",
    "# Deuce Return Points Separated by returnFhBh\n",
    "deuce_forehand_return_points = deuce_return_points[deuce_return_points['returnFhBh'] == 'Forehand']\n",
    "deuce_backhand_return_points = deuce_return_points[deuce_return_points['returnFhBh'] == 'Backhand']\n",
    "\n",
    "\n",
    "# Count for Deuce Return Points - Made\n",
    "count_deuce_forehand_made = len(deuce_forehand_return_points[(deuce_forehand_return_points['rallyCount'] > 2) | ((deuce_forehand_return_points['rallyCount'] == 2) & (deuce_forehand_return_points['lastShotResult'] != 'Error'))])\n",
    "count_deuce_backhand_made = len(deuce_backhand_return_points[(deuce_backhand_return_points['rallyCount'] > 2) | ((deuce_backhand_return_points['rallyCount'] == 2) & (deuce_backhand_return_points['lastShotResult'] != 'Error'))])\n",
    "\n",
    "# Count for Deuce Return Points - Error\n",
    "count_deuce_forehand_error = len(deuce_forehand_return_points[(deuce_forehand_return_points['lastShotResult'] == 'Error') & (deuce_forehand_return_points['rallyCount'] == 2)])\n",
    "count_deuce_backhand_error = len(deuce_backhand_return_points[(deuce_backhand_return_points['lastShotResult'] == 'Error') & (deuce_backhand_return_points['rallyCount'] == 2)])\n",
    "\n",
    "# Display the counts\n",
    "print(\"\\nDeuce Forehand Return Points - Made:\", count_deuce_forehand_made)\n",
    "print(\"Deuce Forehand Return Points - Error:\", count_deuce_forehand_error)\n",
    "\n",
    "print(\"Deuce Backhand Return Points - Made:\", count_deuce_backhand_made)\n",
    "print(\"Deuce Backhand Return Points - Error:\", count_deuce_backhand_error)\n",
    "\n",
    "# Assuming return_points is your DataFrame\n",
    "ad_return_points = return_points[(return_points['side'] == 'Ad') & (return_points['returnerName'] == first_player1Name) & (return_points['rallyCount'] >= 2)]\n",
    "\n",
    "# Ad Return Points Separated by returnFhBh\n",
    "ad_forehand_return_points = ad_return_points[ad_return_points['returnFhBh'] == 'Forehand']\n",
    "ad_backhand_return_points = ad_return_points[ad_return_points['returnFhBh'] == 'Backhand']\n",
    "\n",
    "# Count for Ad Return Points - Made\n",
    "count_ad_forehand_made = len(ad_forehand_return_points[(ad_forehand_return_points['rallyCount'] > 2) | ((ad_forehand_return_points['rallyCount'] == 2) & (ad_forehand_return_points['lastShotResult'] != 'Error'))])\n",
    "count_ad_backhand_made = len(ad_backhand_return_points[(ad_backhand_return_points['rallyCount'] > 2) | ((ad_backhand_return_points['rallyCount'] == 2) & (ad_backhand_return_points['lastShotResult'] != 'Error'))])\n",
    "\n",
    "# Count for Ad Return Points - Error\n",
    "count_ad_forehand_error = len(ad_forehand_return_points[(ad_forehand_return_points['lastShotResult'] == 'Error') & (ad_forehand_return_points['rallyCount'] == 2)])\n",
    "count_ad_backhand_error = len(ad_backhand_return_points[(ad_backhand_return_points['lastShotResult'] == 'Error') & (ad_backhand_return_points['rallyCount'] == 2)])\n",
    "\n",
    "# Display the counts\n",
    "print(\"\\nAd Forehand Return Points - Made:\", count_ad_forehand_made)\n",
    "print(\"Ad Forehand Return Points - Error:\", count_ad_forehand_error)\n",
    "\n",
    "print(\"Ad Backhand Return Points - Made:\", count_ad_backhand_made)\n",
    "print(\"Ad Backhand Return Points - Error:\", count_ad_backhand_error)\n",
    "\n",
    "print(f\"\\nAt Net Results for {first_player1Name}:\\n\")\n",
    "\n",
    "\n",
    "# Total points where atNetPlayer1 = first_player1Name\n",
    "total_at_net_player1 = len(point_df_eda[point_df_eda['atNetPlayer1'] == first_player1Name])\n",
    "\n",
    "# Percentage of points where atNetPlayer1 = 1 out of total points\n",
    "percentage_at_net_player1 = (total_at_net_player1 / len(point_df_eda)) * 100 if len(point_df_eda) > 0 else 0\n",
    "\n",
    "# Display the total count and percentage of points where atNetPlayer1 = 1\n",
    "print(f\"Total Net Points for {first_player1Name}: {total_at_net_player1}\")\n",
    "print(f\"Percentage of Net Points for {first_player1Name}: {percentage_at_net_player1:.2f}%\")\n",
    "\n",
    "# Points where atNetPlayer1 = first_player1Name and pointWonBy = first_player1Name\n",
    "at_net_player1_and_won_by_player1 = len(point_df_eda[(point_df_eda['atNetPlayer1'] == first_player1Name) & (point_df_eda['pointWonBy'] == first_player1Name)])\n",
    "\n",
    "# Percentage of points where atNetPlayer1 = first_player1Name and pointWonBy = first_player1Name out of total points where atNetPlayer1 = 1\n",
    "percentage_at_net_player1_and_won_by_player1 = (at_net_player1_and_won_by_player1 / total_at_net_player1) * 100 if total_at_net_player1 > 0 else 0\n",
    "\n",
    "# Display the count and percentage of points where atNetPlayer1 = 1 and pointWonBy = first_player1Name\n",
    "print(f\"\\nTotal Net Points won by {first_player1Name}: {at_net_player1_and_won_by_player1}\")\n",
    "print(f\"Percentage of Net Points won by {first_player1Name}: {percentage_at_net_player1_and_won_by_player1:.2f}%\")\n"
   ]
  },
  {
   "cell_type": "code",
   "execution_count": 128,
   "id": "add4f3ee",
   "metadata": {},
   "outputs": [
    {
     "name": "stdout",
     "output_type": "stream",
     "text": [
      "\n",
      "Total Breakpoints on Return for Rudy Quan: 8\n",
      "Total Breakpoints won on Return by Rudy Quan: 4\n",
      "Percentage of Breakpoints won on Return by Rudy Quan: 50.00%\n"
     ]
    }
   ],
   "source": [
    "# Caitlin Breakpoint Data\n",
    "\n",
    "# points_returned = point_df_eda[point_df_eda[]]\n",
    "\n",
    "# print(f\"\\nBreakpoint Results for {first_player1Name}:\\n\")\n",
    "\n",
    "# # Total points where isBreakPoint = 1\n",
    "# total_breakpoint = len(point_df_eda[point_df_eda['isBreakPoint'] == 1])\n",
    "\n",
    "# # Points where isBreakPoint = 1 and pointWonBy = first_player1Name\n",
    "# breakpoint_and_won_by_player1 = len(point_df_eda[(point_df_eda['isBreakPoint'] == 1) & (point_df_eda['pointWonBy'] == first_player1Name)])\n",
    "\n",
    "# # Percentage of points where isBreakPoint = 1 and pointWonBy = first_player1Name out of total points where isBreakPoint = 1\n",
    "# percentage_breakpoint_and_won_by_player1 = (breakpoint_and_won_by_player1 / total_breakpoint) * 100 if total_breakpoint > 0 else 0\n",
    "\n",
    "# # Display the total count of points where isBreakPoint = 1\n",
    "# print(f\"Total Breakpoints: {total_breakpoint}\")\n",
    "\n",
    "# # Display the count and percentage of points where isBreakPoint = 1 and pointWonBy = first_player1Name\n",
    "# print(f\"Total Breakpoints won by {first_player1Name}: {breakpoint_and_won_by_player1}\")\n",
    "# print(f\"Percentage of Breakpoints won by {first_player1Name}: {percentage_breakpoint_and_won_by_player1:.2f}%\")\n",
    "\n",
    "# # Total points where isBreakPoint = 1 and serverName = first_player1Name\n",
    "# total_breakpoint_serve = len(point_df_eda[(point_df_eda['isBreakPoint'] == 1) & (point_df_eda['serverName'] == first_player1Name)])\n",
    "\n",
    "# # Points where isBreakPoint = 1, serverName = first_player1Name, and pointWonBy = first_player1Name\n",
    "# breakpoint_and_won_by_player1_serve = len(point_df_eda[(point_df_eda['isBreakPoint'] == 1) & (point_df_eda['serverName'] == first_player1Name) & (point_df_eda['pointWonBy'] == first_player1Name)])\n",
    "\n",
    "# # Percentage of points where isBreakPoint = 1, serverName = first_player1Name, and pointWonBy = first_player1Name out of total points where isBreakPoint = 1 and serverName = first_player1Name\n",
    "# percentage_breakpoint_and_won_by_player1_serve = (breakpoint_and_won_by_player1_serve / total_breakpoint_serve) * 100 if total_breakpoint_serve > 0 else 0\n",
    "\n",
    "# # Display the total count of points where isBreakPoint = 1 and serverName = first_player1Name\n",
    "# print(f\"\\nTotal Breakpoints on Serve for {first_player1Name}: {total_breakpoint_serve}\")\n",
    "\n",
    "# # Display the count and percentage of points where isBreakPoint = 1, serverName = first_player1Name, and pointWonBy = first_player1Name\n",
    "# print(f\"Total Breakpoints won on Serve by {first_player1Name}: {breakpoint_and_won_by_player1_serve}\")\n",
    "# print(f\"Percentage of Breakpoints won on Serve by {first_player1Name}: {percentage_breakpoint_and_won_by_player1_serve:.2f}%\")\n",
    "\n",
    "# Total points where isBreakPoint = 1 and returnerName = first_player1Name\n",
    "total_breakpoint_return = len(point_df_eda[(point_df_eda['isBreakPoint'] == 1) & (point_df_eda['returnerName'] == first_player1Name)])\n",
    "\n",
    "# Points where isBreakPoint = 1, returnerName = first_player1Name, and pointWonBy = first_player1Name\n",
    "breakpoint_and_won_by_player1_return = len(point_df_eda[(point_df_eda['isBreakPoint'] == 1) & (point_df_eda['returnerName'] == first_player1Name) & (point_df_eda['pointWonBy'] == first_player1Name)])\n",
    "\n",
    "# Percentage of points where isBreakPoint = 1, returnerName = first_player1Name, and pointWonBy = first_player1Name out of total points where isBreakPoint = 1 and returnerName = first_player1Name\n",
    "percentage_breakpoint_and_won_by_player1_return = (breakpoint_and_won_by_player1_return / total_breakpoint_return) * 100 if total_breakpoint_return > 0 else 0\n",
    "\n",
    "# Display the total count of points where isBreakPoint = 1 and returnerName = first_player1Name\n",
    "print(f\"\\nTotal Breakpoints on Return for {first_player1Name}: {total_breakpoint_return}\")\n",
    "\n",
    "# Display the count and percentage of points where isBreakPoint = 1, returnerName = first_player1Name, and pointWonBy = first_player1Name\n",
    "print(f\"Total Breakpoints won on Return by {first_player1Name}: {breakpoint_and_won_by_player1_return}\")\n",
    "print(f\"Percentage of Breakpoints won on Return by {first_player1Name}: {percentage_breakpoint_and_won_by_player1_return:.2f}%\")\n",
    "\n",
    "# Jimmy Returning Games Won\n",
    "# games won/returning games by Jimmy Hou\n",
    "\n",
    "points_returned = point_df_eda[point_df_eda[\"returnerName\"] == first_player1Name]\n",
    "\n",
    "# # Return percentage won on first serve\n",
    "# first_serves_won = points_returned[(points_returned['firstServeIn'] == 1) & (points_returned['pointWonBy'] == first_player1Name)]\n",
    "# total_first_serves = points_returned[points_returned['firstServeIn'] == 1]\n",
    "# fs_won_per_player1 = 100 * len(first_serves_won) / len(total_first_serves)\n",
    "# # print(f\"\\n{player1} won {fs_won_per_player1:.2f}% of first serves returned.\")\n",
    "# print(f\"\\nPerecentage of Breakpoinnts won by {first_player1Name} on Return when returning a first serve: {fs_won_per_player1:.2f}%\")\n",
    "\n",
    "# # Return percentage won on second serve\n",
    "# second_serves_won = points_returned[(points_returned['secondServeIn'] == 1) & (points_returned['pointWonBy'] == first_player1Name)]\n",
    "# total_second_serves = points_returned[points_returned['secondServeIn'] == 1]\n",
    "# ss_won_per_player1 = 100 * len(second_serves_won) / len(total_second_serves)\n",
    "# # print(f\"{player1} won {ss_won_per_player1:.2f}% of second serves returned.\"\n",
    "# print(f\"Perecentage of Breakpoinnts won by {first_player1Name} on Return when returning a second serve: {ss_won_per_player1:.2f}%\")\n"
   ]
  },
  {
   "cell_type": "code",
   "execution_count": 129,
   "id": "9523784a",
   "metadata": {},
   "outputs": [
    {
     "data": {
      "text/plain": [
       "Index(['Name', 'pointNumber', 'setNum', 'gameNumber', 'player1Name',\n",
       "       'player2Name', 'pointScore', 'gameScore', 'setScore', 'tiebreakScore',\n",
       "       'side', 'serverName', 'returnerName', 'Position', 'pointEndPosition',\n",
       "       'Duration', 'pointWonBy', 'rallyCount', 'rallyCountFreq',\n",
       "       'firstServeIn', 'secondServeIn', 'serveResult', 'serveInPlacement',\n",
       "       'firstServeZone', 'secondServeZone', 'isAce', 'serverFarNear',\n",
       "       'firstServeXCoord', 'firstServeYCoord', 'secondServeXCoord',\n",
       "       'secondServeYCoord', 'returnDirection', 'returnFhBh', 'errorType',\n",
       "       'returnError', 'lastShotDirection', 'lastShotFhBh', 'lastShotHitBy',\n",
       "       'lastShotResult', 'isBreakPoint', 'atNetPlayer1', 'atNetPlayer2',\n",
       "       'isExcitingPoint', 'player1SetScore', 'player2SetScore',\n",
       "       'player1GameScore', 'player2GameScore', 'player1PointScore',\n",
       "       'player2PointScore', 'player1TiebreakScore', 'player2TiebreakScore',\n",
       "       'player1ServeResult', 'player1ServePlacement', 'player1ReturnPlacement',\n",
       "       'player1ReturnFhBh', 'player1LastShotPlacement', 'player1LastShotFhBh',\n",
       "       'player1LastShotResult', 'player2ServeResult', 'player2ServePlacement',\n",
       "       'player2ReturnPlacement', 'player2ReturnFhBh',\n",
       "       'player2LastShotPlacement', 'player2LastShotFhBh',\n",
       "       'player2LastShotResult', 'clientTeam', 'opponentTeam'],\n",
       "      dtype='object')"
      ]
     },
     "execution_count": 129,
     "metadata": {},
     "output_type": "execute_result"
    }
   ],
   "source": [
    "point_df_eda.columns"
   ]
  },
  {
   "cell_type": "code",
   "execution_count": 130,
   "id": "a90e9704-73c6-4403-bb7d-1e4440fbe867",
   "metadata": {},
   "outputs": [
    {
     "name": "stdout",
     "output_type": "stream",
     "text": [
      "Total 80\n",
      "Serve Placement: \n",
      "Total Serves: 2\n",
      "Serves Won by Rudy Quan: 0\n",
      "Percentage: 0.00%\n",
      "\n",
      "Serve Placement: Ad: Body\n",
      "Total Serves: 23\n",
      "Serve Frequency: 61.0% (23/38) Ad Serves\n",
      "Serves Won by Rudy Quan: 7\n",
      "Percentage: 30.43%\n",
      "\n",
      "Serve Placement: Ad: T\n",
      "Total Serves: 11\n",
      "Serve Frequency: 29.0% (11/38) Ad Serves\n",
      "Serves Won by Rudy Quan: 5\n",
      "Percentage: 45.45%\n",
      "\n",
      "Serve Placement: Ad: Wide\n",
      "Total Serves: 4\n",
      "Serve Frequency: 11.0% (4/38) Ad Serves\n",
      "Serves Won by Rudy Quan: 0\n",
      "Percentage: 0.00%\n",
      "\n",
      "Serve Placement: Deuce: Body\n",
      "Total Serves: 24\n",
      "Serve Frequency: 60.0% (24/40) Deuce Serves\n",
      "Serves Won by Rudy Quan: 15\n",
      "Percentage: 62.50%\n",
      "\n",
      "Serve Placement: Deuce: T\n",
      "Total Serves: 7\n",
      "Serve Frequency: 17.0% (7/40) Deuce Serves\n",
      "Serves Won by Rudy Quan: 4\n",
      "Percentage: 57.14%\n",
      "\n",
      "Serve Placement: Deuce: Wide\n",
      "Total Serves: 9\n",
      "Serve Frequency: 23.0% (9/40) Deuce Serves\n",
      "Serves Won by Rudy Quan: 5\n",
      "Percentage: 55.56%\n",
      "\n"
     ]
    }
   ],
   "source": [
    "# Filter points where serverName is equal to first_player1Name\n",
    "filtered_points = point_df[point_df['serverName'] == first_player1Name]\n",
    "\n",
    "# Group the filtered points by player1ServePlacement and count the occurrences\n",
    "serve_placement_counts = filtered_points.groupby('player1ServePlacement').size()\n",
    "\n",
    "serve_placements_ad = serve_placement_counts.filter(like='Ad').sum()\n",
    "serve_placements_deuce = serve_placement_counts.filter(like='Deuce').sum()\n",
    "\n",
    "# Iterate over filtered_points\n",
    "for index, point in filtered_points.iterrows():\n",
    "    serve_placement = point['player1ServePlacement']\n",
    "\n",
    "    # Check if serve placement is not in serve_placement_counts\n",
    "    if serve_placement not in serve_placement_counts:\n",
    "        print(point)\n",
    "\n",
    "\n",
    "# Initialize dictionaries to store counts and percentages\n",
    "point_won_counts = {}\n",
    "point_won_percentages = {}\n",
    "print(f\"Total {len(filtered_points)}\")\n",
    "\n",
    "# Iterate over serve placements\n",
    "for serve_placement, count in serve_placement_counts.items():\n",
    "    # Filter points with the specific serve placement\n",
    "    serve_placement_points = filtered_points[filtered_points['player1ServePlacement'] == serve_placement]\n",
    "    \n",
    "    # Count points won by first_player1Name\n",
    "    point_won_count = serve_placement_points[serve_placement_points['pointWonBy'] == first_player1Name].shape[0]\n",
    "\n",
    "    # Calculate percentage\n",
    "    point_won_percentage = (point_won_count / count) * 100 if count > 0 else 0\n",
    "\n",
    "    # Store counts and percentages\n",
    "    point_won_counts[serve_placement] = point_won_count\n",
    "    point_won_percentages[serve_placement] = point_won_percentage\n",
    "    \n",
    "\n",
    "\n",
    "    \n",
    "    \n",
    "# Filter serve placements for Ad and Deuce [CHANGED: BRIAN NTOES]\n",
    "serve_placements_ad = serve_placement_counts.filter(like='Ad').sum()\n",
    "serve_placements_deuce = serve_placement_counts.filter(like='Deuce').sum()    \n",
    "\n",
    "# Print counts and percentages [CHANGED: BRIAN NOTES]\n",
    "for serve_placement, count in serve_placement_counts.items():\n",
    "    print(f\"Serve Placement: {serve_placement}\")\n",
    "    print(f\"Total Serves: {count}\")\n",
    "    \n",
    "    if \"Deuce\" in serve_placement: # [CHANGED: BRIAN NOTES]\n",
    "        deuce_serve_format_number = f\"{count/serve_placements_deuce:.2f}\"\n",
    "        deuce_serve_percent = round(float(deuce_serve_format_number) * 100,2)\n",
    "        print(f\"Serve Frequency: {deuce_serve_percent}% ({count}/{serve_placements_deuce}) Deuce Serves\")\n",
    "    if \"Ad\" in serve_placement: # [CHANGED: BRIAN NOTES]\n",
    "        ad_serve_format_number = f\"{count/serve_placements_ad:.2f}\"\n",
    "        ad_serve_percent = round(float(ad_serve_format_number) * 100,2)\n",
    "        print(f\"Serve Frequency: {ad_serve_percent}% ({count}/{serve_placements_ad}) Ad Serves\")\n",
    "        \n",
    "    print(f\"Serves Won by {first_player1Name}: {point_won_counts.get(serve_placement, 0)}\")\n",
    "    print(f\"Percentage: {point_won_percentages.get(serve_placement, 0):.2f}%\\n\")\n",
    "\n",
    "    \n",
    "# print(\"This is Ad count: \" + str(len(point_df[(point_df['serverName'] == first_player1Name) & (point_df['side'] == 'Ad')])))\n",
    "# print(\"This is Deuce count: \" + str(len(point_df[(point_df['serverName'] == first_player1Name) & (point_df['side'] == 'Deuce')])))"
   ]
  },
  {
   "cell_type": "code",
   "execution_count": 135,
   "id": "cecb4031-2e96-4d9a-aef9-b36aacede064",
   "metadata": {},
   "outputs": [
    {
     "name": "stdout",
     "output_type": "stream",
     "text": [
      "PDF generated: UCLA_vs_Opp_match_report.pdf\n"
     ]
    }
   ],
   "source": [
    "from fpdf import FPDF\n",
    "import pandas as pd\n",
    "\n",
    "# Variables that will be passed into the code\n",
    "first_player1Name = \"UCLA\"  # Replace this with the actual player name\n",
    "opponent_name = \"Opp\"  # Opponent name input, user can modify it here\n",
    "\n",
    "# Create PDF\n",
    "pdf = FPDF()\n",
    "pdf.add_page()\n",
    "\n",
    "# Title\n",
    "pdf.set_font(\"Arial\", size=14, style='B')\n",
    "pdf.cell(200, 10, txt=\"Match Report Summary\", ln=True, align='C')\n",
    "pdf.ln(5)\n",
    "\n",
    "# Match players and score\n",
    "pdf.set_font(\"Arial\", size=12)\n",
    "pdf.cell(200, 10, txt=f\"{first_player1Name} (w) v. {opponent_name} (Opp)\", ln=True, align='C')\n",
    "pdf.cell(200, 10, txt=\"0-0 0-0 0-0\", ln=True, align='C')\n",
    "pdf.ln(10)\n",
    "\n",
    "# Returns Section\n",
    "pdf.set_font(\"Arial\", size=11, style='B')\n",
    "pdf.cell(100, 10, txt=\"Returns\", ln=False, align='L')\n",
    "pdf.set_font(\"Arial\", size=11, style='B')\n",
    "pdf.cell(0, 10, txt=\"Errors\", ln=True, align='L')\n",
    "pdf.ln(5)\n",
    "\n",
    "# Total Return Stats\n",
    "pdf.set_font(\"Arial\", size=11)\n",
    "pdf.cell(100, 10, txt=f\"Total Return Made: {returnMadePercentage:.2f}% ({total_return})\", ln=False, align='L')\n",
    "pdf.cell(0, 10, txt=f\"Total errors: {total_error_counts}\", ln=True, align='L')\n",
    "\n",
    "pdf.cell(100, 10, txt=f\"Total Return Won: {returnWonByPlayer1Percentage:.2f}% ({returnWonByPlayer1})\", ln=True, align='L')\n",
    "\n",
    "# Deuce and Ad Return Stats\n",
    "pdf.cell(100, 10, txt=f\"Deuce Return Made: {deuceReturnMadePercentage:.2f}%\", ln=False, align='L')\n",
    "pdf.cell(0, 10, txt=f\"Forehand errors ({(forehand_counts/total_error_counts)*100:.2f}%):\", ln=True, align='L')\n",
    "\n",
    "pdf.cell(100, 10, txt=f\"Deuce Return Won: {returnWonByPlayer1Percentage:.2f}%\", ln=False, align='L')\n",
    "\n",
    "pdf.cell(100, 10, txt=\"  Net: \" + str(forehand_error_types_df.loc['Net', 'Count']), ln=True, align='L')\n",
    "pdf.cell(100, 10, txt=\"  Long: \" + str(forehand_error_types_df.loc['Long', 'Count']), ln=True, align='L')\n",
    "pdf.cell(100, 10, txt=\"  Wide Right: \" + str(forehand_error_types_df.loc['Wide Right', 'Count']), ln=True, align='L')\n",
    "pdf.cell(100, 10, txt=\"  Wide Left: \" + str(forehand_error_types_df.loc['Wide Left', 'Count']), ln=True, align='L')\n",
    "\n",
    "# Backhand errors\n",
    "pdf.cell(0, 10, txt=f\"Backhand errors ({(backhand_counts/total_error_counts)*100:.2f}%):\", ln=True, align='L')\n",
    "pdf.cell(100, 10, txt=\"  Net: \" + str(backhand_error_types_df.loc['Net', 'Count']), ln=True, align='L')\n",
    "pdf.cell(100, 10, txt=\"  Long: \" + str(backhand_error_types_df.loc['Long', 'Count']), ln=True, align='L')\n",
    "pdf.cell(100, 10, txt=\"  Wide Right: \" + str(backhand_error_types_df.loc['Wide Right', 'Count']), ln=True, align='L')\n",
    "pdf.cell(100, 10, txt=\"  Wide Left: \" + str(backhand_error_types_df.loc['Wide Left', 'Count']), ln=True, align='L')\n",
    "pdf.ln(5)\n",
    "\n",
    "# Forehand and Backhand Returns (Deuce)\n",
    "pdf.set_font(\"Arial\", size=11, style='I')\n",
    "pdf.cell(100, 10, txt=\"Deuce Return\", ln=True, align='L')\n",
    "pdf.set_font(\"Arial\", size=11)\n",
    "pdf.cell(100, 10, txt=\"  Forehand Return:\", ln=True, align='L')\n",
    "pdf.cell(100, 10, txt=f\"    Made: {count_deuce_forehand_made} | Error: {count_deuce_forehand_error}\", ln=True, align='L')\n",
    "pdf.cell(100, 10, txt=\"  Backhand Return:\", ln=True, align='L')\n",
    "pdf.cell(100, 10, txt=f\"    Made: {count_deuce_backhand_made} | Error: {count_deuce_backhand_error}\", ln=True, align='L')\n",
    "pdf.ln(5)\n",
    "\n",
    "# Errors Section (Net Points)\n",
    "pdf.set_font(\"Arial\", size=11, style='B')\n",
    "pdf.cell(100, 10, txt=\"Net Points\", ln=True, align='L')\n",
    "pdf.ln(5)\n",
    "\n",
    "# Total Net Points\n",
    "pdf.set_font(\"Arial\", size=11)\n",
    "pdf.cell(100, 10, txt=f\"Total Net Points for {first_player1Name}: {total_at_net_player1}\", ln=True, align='L')\n",
    "pdf.cell(100, 10, txt=f\"Percentage of Net Points for {first_player1Name}: {percentage_at_net_player1:.2f}%\", ln=True, align='L')\n",
    "\n",
    "# Net Points won by the player\n",
    "pdf.cell(100, 10, txt=f\"Total Net Points won by {first_player1Name}: {at_net_player1_and_won_by_player1}\", ln=True, align='L')\n",
    "pdf.cell(100, 10, txt=f\"Percentage of Net Points won by {first_player1Name}: {percentage_at_net_player1_and_won_by_player1:.2f}%\", ln=True, align='L')\n",
    "pdf.ln(5)\n",
    "\n",
    "# Save PDF dynamically based on players' names\n",
    "pdf_name = f\"{first_player1Name}_vs_{opponent_name}_match_report.pdf\"\n",
    "pdf.output(f\"{pdf_name}\")\n",
    "\n",
    "print(f\"PDF generated: {pdf_name}\")\n"
   ]
  },
  {
   "cell_type": "markdown",
   "id": "7b8c4147",
   "metadata": {},
   "source": [
    "# CONDENSED REPORT NEEDS UPDATE"
   ]
  },
  {
   "cell_type": "markdown",
   "id": "5e73ced0",
   "metadata": {},
   "source": [
    "### Using FPDF package"
   ]
  },
  {
   "cell_type": "code",
   "execution_count": 137,
   "id": "df01cc0e",
   "metadata": {},
   "outputs": [
    {
     "name": "stdout",
     "output_type": "stream",
     "text": [
      "PDF generated: UCLA_vs_Opp_match_report.pdf\n"
     ]
    }
   ],
   "source": [
    "from fpdf import FPDF\n",
    "import pandas as pd\n",
    "\n",
    "# Header\n",
    "first_player1Name = \"UCLA\"  # Replace this with the actual player name\n",
    "opponent_name = \"Opp\"  # Opponent name input, user can modify it here\n",
    "\n",
    "# Create PDF\n",
    "pdf = FPDF()\n",
    "pdf.add_page()\n",
    "\n",
    "# Title\n",
    "pdf.set_font(\"Arial\", size=14, style='B')\n",
    "pdf.cell(200, 10, txt=\"Match Report Summary\", ln=True, align='C')\n",
    "pdf.ln(5)\n",
    "\n",
    "# Match players and score\n",
    "pdf.set_font(\"Arial\", size=12)\n",
    "pdf.cell(200, 10, txt=f\"{first_player1Name} (w) v. {opponent_name} (Opp)\", ln=True, align='C')\n",
    "pdf.cell(200, 10, txt=\"0-0 0-0 0-0\", ln=True, align='C')\n",
    "pdf.ln(10)\n",
    "\n",
    "# Returns Section\n",
    "pdf.set_font(\"Arial\", size=11, style='B')\n",
    "pdf.cell(100, 10, txt=\"Returns\", ln=False, align='L')\n",
    "pdf.set_font(\"Arial\", size=11, style='B')\n",
    "pdf.cell(0, 10, txt=\"Errors\", ln=True, align='L')\n",
    "pdf.ln(5)\n",
    "\n",
    "# Total Return Stats\n",
    "pdf.set_font(\"Arial\", size=11)\n",
    "pdf.cell(100, 10, txt=f\"Total Return Made: {returnMadePercentage:.2f}% ({total_return})\", ln=False, align='L')\n",
    "pdf.cell(0, 10, txt=f\"Total errors: {total_error_counts}\", ln=True, align='L')\n",
    "\n",
    "pdf.cell(100, 10, txt=f\"Total Return Won: {returnWonByPlayer1Percentage:.2f}% ({returnWonByPlayer1})\", ln=True, align='L')\n",
    "\n",
    "# Deuce and Ad Return Stats\n",
    "pdf.cell(100, 10, txt=f\"Deuce Return Made: {deuceReturnMadePercentage:.2f}%\", ln=False, align='L')\n",
    "pdf.cell(0, 10, txt=f\"Forehand errors ({(forehand_counts/total_error_counts)*100:.2f}%):\", ln=True, align='L')\n",
    "\n",
    "pdf.cell(100, 10, txt=f\"Deuce Return Won: {returnWonByPlayer1Percentage:.2f}%\", ln=False, align='L')\n",
    "\n",
    "pdf.cell(100, 10, txt=\"  Net: \" + str(forehand_error_types_df.loc['Net', 'Count']), ln=True, align='L')\n",
    "pdf.cell(100, 10, txt=\"  Long: \" + str(forehand_error_types_df.loc['Long', 'Count']), ln=True, align='L')\n",
    "pdf.cell(100, 10, txt=\"  Wide Right: \" + str(forehand_error_types_df.loc['Wide Right', 'Count']), ln=True, align='L')\n",
    "pdf.cell(100, 10, txt=\"  Wide Left: \" + str(forehand_error_types_df.loc['Wide Left', 'Count']), ln=True, align='L')\n",
    "\n",
    "# Backhand errors\n",
    "pdf.cell(0, 10, txt=f\"Backhand errors ({(backhand_counts/total_error_counts)*100:.2f}%):\", ln=True, align='L')\n",
    "pdf.cell(100, 10, txt=\"  Net: \" + str(backhand_error_types_df.loc['Net', 'Count']), ln=True, align='L')\n",
    "pdf.cell(100, 10, txt=\"  Long: \" + str(backhand_error_types_df.loc['Long', 'Count']), ln=True, align='L')\n",
    "pdf.cell(100, 10, txt=\"  Wide Right: \" + str(backhand_error_types_df.loc['Wide Right', 'Count']), ln=True, align='L')\n",
    "pdf.cell(100, 10, txt=\"  Wide Left: \" + str(backhand_error_types_df.loc['Wide Left', 'Count']), ln=True, align='L')\n",
    "pdf.ln(5)\n",
    "\n",
    "# Forehand and Backhand Returns (Deuce)\n",
    "pdf.set_font(\"Arial\", size=11, style='I')\n",
    "pdf.cell(100, 10, txt=\"Deuce Return\", ln=True, align='L')\n",
    "pdf.set_font(\"Arial\", size=11)\n",
    "pdf.cell(100, 10, txt=\"  Forehand Return:\", ln=True, align='L')\n",
    "pdf.cell(100, 10, txt=f\"    Made: {count_deuce_forehand_made} | Error: {count_deuce_forehand_error}\", ln=True, align='L')\n",
    "pdf.cell(100, 10, txt=\"  Backhand Return:\", ln=True, align='L')\n",
    "pdf.cell(100, 10, txt=f\"    Made: {count_deuce_backhand_made} | Error: {count_deuce_backhand_error}\", ln=True, align='L')\n",
    "pdf.ln(5)\n",
    "\n",
    "# Errors Section (Net Points)\n",
    "pdf.set_font(\"Arial\", size=11, style='B')\n",
    "pdf.cell(100, 10, txt=\"Net Points\", ln=True, align='L')\n",
    "pdf.ln(5)\n",
    "\n",
    "# Total Net Points\n",
    "pdf.set_font(\"Arial\", size=11)\n",
    "pdf.cell(100, 10, txt=f\"Total Net Points for {first_player1Name}: {total_at_net_player1}\", ln=True, align='L')\n",
    "pdf.cell(100, 10, txt=f\"Percentage of Net Points for {first_player1Name}: {percentage_at_net_player1:.2f}%\", ln=True, align='L')\n",
    "\n",
    "# Net Points won by the player\n",
    "pdf.cell(100, 10, txt=f\"Total Net Points won by {first_player1Name}: {at_net_player1_and_won_by_player1}\", ln=True, align='L')\n",
    "pdf.cell(100, 10, txt=f\"Percentage of Net Points won by {first_player1Name}: {percentage_at_net_player1_and_won_by_player1:.2f}%\", ln=True, align='L')\n",
    "pdf.ln(5)\n",
    "\n",
    "# Save PDF dynamically based on players' names\n",
    "pdf_name = f\"{first_player1Name}_vs_{opponent_name}_match_report.pdf\"\n",
    "pdf.output(f\"{pdf_name}\")\n",
    "\n",
    "print(f\"PDF generated: {pdf_name}\")\n"
   ]
  },
  {
   "cell_type": "code",
   "execution_count": 138,
   "id": "614c6cdc-fec8-4ad1-9417-2db45e74a4ae",
   "metadata": {},
   "outputs": [
    {
     "name": "stdout",
     "output_type": "stream",
     "text": [
      "PDF generated: UCLA_vs_Opp_match_report.pdf\n"
     ]
    }
   ],
   "source": [
    "# Better formatting but missing some values\n",
    "\n",
    "from fpdf import FPDF\n",
    "import pandas as pd\n",
    "\n",
    "# Variables that will be passed into the code (Replace these with your actual dataset values)\n",
    "first_player1Name = \"UCLA\"  # Replace with actual player name\n",
    "opponent_name = \"Opp\"  # Opponent name input, user can modify it here\n",
    "\n",
    "# Create PDF\n",
    "pdf = FPDF()\n",
    "pdf.add_page()\n",
    "\n",
    "# Title\n",
    "pdf.set_font(\"Arial\", size=14, style='B')\n",
    "pdf.cell(200, 10, txt=\"Match Report Summary\", ln=True, align='C')\n",
    "pdf.ln(5)\n",
    "\n",
    "# Match players and score\n",
    "pdf.set_font(\"Arial\", size=12)\n",
    "pdf.cell(200, 10, txt=f\"{first_player1Name} (w) v. {opponent_name} (Opp)\", ln=True, align='C')\n",
    "pdf.cell(200, 10, txt=\"0-0 0-0 0-0\", ln=True, align='C')\n",
    "pdf.ln(10)\n",
    "\n",
    "# Set up column widths and heights for alignment\n",
    "column_width = 90\n",
    "line_height = 7\n",
    "\n",
    "# Left Side - Returns\n",
    "pdf.set_font(\"Arial\", size=12, style='B')\n",
    "pdf.cell(column_width, line_height, txt=\"Returns\", ln=False, align='L')\n",
    "pdf.set_font(\"Arial\", size=12, style='B')\n",
    "pdf.cell(column_width, line_height, txt=\"Errors\", ln=True, align='L')\n",
    "pdf.ln(5)\n",
    "\n",
    "# Returns Section (Left Side)\n",
    "pdf.set_font(\"Arial\", size=11)\n",
    "\n",
    "# Total Return Stats\n",
    "pdf.cell(column_width, line_height, txt=f\"Total Return Made: {returnMadePercentage:.2f}% ({total_return})\", ln=False, align='L')\n",
    "pdf.cell(column_width, line_height, txt=f\"Total: {total_error_counts}\", ln=True, align='L')\n",
    "\n",
    "pdf.cell(column_width, line_height, txt=f\"Total Return Won: {returnWonByPlayer1Percentage:.2f}% ({returnWonByPlayer1})\", ln=False, align='L')\n",
    "pdf.cell(column_width, line_height, txt=f\"Forehand errors ({(forehand_counts/total_error_counts)*100:.2f}%):\", ln=True, align='L')\n",
    "\n",
    "# Deuce and Ad Return Stats\n",
    "pdf.cell(column_width, line_height, txt=f\"Deuce Return Made: {deuceReturnMadePercentage:.2f}% ({count_deuce_forehand_made})\", ln=False, align='L')\n",
    "pdf.cell(column_width, line_height, txt=f\"Net: {forehand_error_types_df.loc['Net', 'Count']}\", ln=True, align='L')\n",
    "\n",
    "pdf.cell(column_width, line_height, txt=f\"Deuce Return Won: {returnWonByPlayer1Percentage:.2f}% ({count_deuce_forehand_error})\", ln=False, align='L')\n",
    "pdf.cell(column_width, line_height, txt=f\"Long: {forehand_error_types_df.loc['Long', 'Count']}\", ln=True, align='L')\n",
    "\n",
    "pdf.cell(column_width, line_height, txt=\"  Forehand Return:\", ln=False, align='L')\n",
    "pdf.cell(column_width, line_height, txt=f\"Wide Right: {forehand_error_types_df.loc['Wide Right', 'Count']}\", ln=True, align='L')\n",
    "pdf.cell(column_width, line_height, txt=\"    Made:   | Error:\", ln=False, align='L')\n",
    "pdf.cell(column_width, line_height, txt=f\"Backhand errors ({(backhand_counts/total_error_counts)*100:.2f}%):\", ln=True, align='L')\n",
    "\n",
    "pdf.cell(column_width, line_height, txt=\"  Backhand Return:\", ln=False, align='L')\n",
    "pdf.cell(column_width, line_height, txt=\"Net: \" + str(backhand_error_types_df.loc['Net', 'Count']), ln=True, align='L')\n",
    "pdf.cell(column_width, line_height, txt=\"    Made:   | Error:\", ln=False, align='L')\n",
    "pdf.cell(column_width, line_height, txt=\"Crosscourt: \", ln=True, align='L')\n",
    "\n",
    "pdf.cell(column_width, line_height, txt=f\"Ad Return Made: {adReturnMadePercentage:.2f}% ({count_deuce_backhand_made})\", ln=False, align='L')\n",
    "pdf.cell(column_width, line_height, txt=\"Down the Line: \", ln=True, align='L')\n",
    "\n",
    "pdf.cell(column_width, line_height, txt=f\"Ad Return Won: {returnWonByPlayer1Percentage:.2f}% ({count_deuce_backhand_error})\", ln=False, align='L')\n",
    "pdf.cell(column_width, line_height, txt=\"Long: \", ln=True, align='L')\n",
    "\n",
    "pdf.cell(column_width, line_height, txt=\"  Forehand Return:\", ln=False, align='L')\n",
    "pdf.cell(column_width, line_height, txt=\"Crosscourt: \", ln=True, align='L')\n",
    "pdf.cell(column_width, line_height, txt=\"    Made:   | Error:\", ln=False, align='L')\n",
    "pdf.cell(column_width, line_height, txt=\"Down the Line: \", ln=True, align='L')\n",
    "\n",
    "pdf.cell(column_width, line_height, txt=\"  Backhand Return:\", ln=False, align='L')\n",
    "pdf.cell(column_width, line_height, txt=\"Wide Right: \", ln=True, align='L')\n",
    "pdf.cell(column_width, line_height, txt=\"    Made:   | Error:\", ln=False, align='L')\n",
    "pdf.cell(column_width, line_height, txt=\"Wide Left: \", ln=True, align='L')\n",
    "\n",
    "pdf.cell(column_width, line_height, txt=\"Down the Line: \", ln=False, align='L')\n",
    "pdf.ln(10)\n",
    "\n",
    "# Right Side - Errors\n",
    "pdf.set_font(\"Arial\", size=11)\n",
    "pdf.cell(column_width, line_height, txt=\"Net Points\", ln=False, align='L')\n",
    "pdf.ln(5)\n",
    "\n",
    "# Total Net Points\n",
    "pdf.cell(column_width, line_height, txt=f\"Total Net Points for {first_player1Name}: {total_at_net_player1}\", ln=False, align='L')\n",
    "pdf.cell(column_width, line_height, txt=f\"Percentage of Net Points for {first_player1Name}: {percentage_at_net_player1:.2f}%\", ln=True, align='L')\n",
    "\n",
    "pdf.cell(column_width, line_height, txt=f\"Total Net Points won by {first_player1Name}: {at_net_player1_and_won_by_player1}\", ln=False, align='L')\n",
    "pdf.cell(column_width, line_height, txt=f\"Percentage of Net Points won by {first_player1Name}: {percentage_at_net_player1_and_won_by_player1:.2f}%\", ln=True, align='L')\n",
    "pdf.ln(5)\n",
    "\n",
    "# Save PDF based on players' names\n",
    "pdf_name = f\"{first_player1Name}_vs_{opponent_name}_match_report.pdf\"\n",
    "pdf.output(f\"{pdf_name}\")\n",
    "\n",
    "print(f\"PDF generated: {pdf_name}\")\n"
   ]
  },
  {
   "cell_type": "code",
   "execution_count": null,
   "id": "7421ae77",
   "metadata": {},
   "outputs": [],
   "source": []
  }
 ],
 "metadata": {
  "kernelspec": {
   "display_name": "Python 3 (ipykernel)",
   "language": "python",
   "name": "python3"
  },
  "language_info": {
   "codemirror_mode": {
    "name": "ipython",
    "version": 3
   },
   "file_extension": ".py",
   "mimetype": "text/x-python",
   "name": "python",
   "nbconvert_exporter": "python",
   "pygments_lexer": "ipython3",
   "version": "3.11.7"
  }
 },
 "nbformat": 4,
 "nbformat_minor": 5
}
